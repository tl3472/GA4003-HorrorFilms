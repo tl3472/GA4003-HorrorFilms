{
 "cells": [
  {
   "cell_type": "markdown",
   "id": "7bc01113",
   "metadata": {},
   "source": [
    "# What Makes a Successful Horror Film?\n",
    "Group-1: Xiaofan Fan, Tianyu Li, Wenxin Zhang"
   ]
  },
  {
   "cell_type": "code",
   "execution_count": 8,
   "id": "22b8b984",
   "metadata": {},
   "outputs": [],
   "source": [
    "import pandas as pd"
   ]
  },
  {
   "cell_type": "markdown",
   "id": "19368add",
   "metadata": {},
   "source": [
    "## File Reading and Data Cleaning\n",
    "FILE DESCRIPTION HERE!!!!!!!!!!!!"
   ]
  },
  {
   "cell_type": "code",
   "execution_count": 9,
   "id": "41520550",
   "metadata": {},
   "outputs": [
    {
     "data": {
      "text/html": [
       "<div>\n",
       "<style scoped>\n",
       "    .dataframe tbody tr th:only-of-type {\n",
       "        vertical-align: middle;\n",
       "    }\n",
       "\n",
       "    .dataframe tbody tr th {\n",
       "        vertical-align: top;\n",
       "    }\n",
       "\n",
       "    .dataframe thead th {\n",
       "        text-align: right;\n",
       "    }\n",
       "</style>\n",
       "<table border=\"1\" class=\"dataframe\">\n",
       "  <thead>\n",
       "    <tr style=\"text-align: right;\">\n",
       "      <th></th>\n",
       "      <th>Name</th>\n",
       "      <th>Year</th>\n",
       "      <th>Rate</th>\n",
       "      <th>Genre</th>\n",
       "      <th>Country</th>\n",
       "      <th>Budget</th>\n",
       "      <th>Gross Worldwide</th>\n",
       "    </tr>\n",
       "  </thead>\n",
       "  <tbody>\n",
       "    <tr>\n",
       "      <th>0</th>\n",
       "      <td>Psycho</td>\n",
       "      <td>1960</td>\n",
       "      <td>8.5</td>\n",
       "      <td>Horror,Mystery,Thriller</td>\n",
       "      <td>United States</td>\n",
       "      <td>$806,947 (estimated)</td>\n",
       "      <td>$32,041,845</td>\n",
       "    </tr>\n",
       "    <tr>\n",
       "      <th>1</th>\n",
       "      <td>The Exorcist</td>\n",
       "      <td>1973</td>\n",
       "      <td>8.0</td>\n",
       "      <td>Horror</td>\n",
       "      <td>United States</td>\n",
       "      <td>$11,000,000 (estimated)</td>\n",
       "      <td>$441,306,145</td>\n",
       "    </tr>\n",
       "    <tr>\n",
       "      <th>2</th>\n",
       "      <td>Demon Slayer: Mugen Train</td>\n",
       "      <td>2020</td>\n",
       "      <td>8.2</td>\n",
       "      <td>Animation,Action,Adventure,Fantasy,Horror</td>\n",
       "      <td>Japan</td>\n",
       "      <td>NaN</td>\n",
       "      <td>$452,974,619</td>\n",
       "    </tr>\n",
       "    <tr>\n",
       "      <th>3</th>\n",
       "      <td>The Thing</td>\n",
       "      <td>1982</td>\n",
       "      <td>8.1</td>\n",
       "      <td>Horror,Mystery,Sci-Fi</td>\n",
       "      <td>United States</td>\n",
       "      <td>$15,000,000 (estimated)</td>\n",
       "      <td>$19,632,053</td>\n",
       "    </tr>\n",
       "    <tr>\n",
       "      <th>4</th>\n",
       "      <td>Diabolique</td>\n",
       "      <td>1955</td>\n",
       "      <td>8.1</td>\n",
       "      <td>Crime,Drama,Horror,Mystery,Thriller</td>\n",
       "      <td>France</td>\n",
       "      <td>NaN</td>\n",
       "      <td>$12,498</td>\n",
       "    </tr>\n",
       "  </tbody>\n",
       "</table>\n",
       "</div>"
      ],
      "text/plain": [
       "                        Name  Year  Rate  \\\n",
       "0                     Psycho  1960   8.5   \n",
       "1               The Exorcist  1973   8.0   \n",
       "2  Demon Slayer: Mugen Train  2020   8.2   \n",
       "3                  The Thing  1982   8.1   \n",
       "4                 Diabolique  1955   8.1   \n",
       "\n",
       "                                       Genre        Country  \\\n",
       "0                    Horror,Mystery,Thriller  United States   \n",
       "1                                     Horror  United States   \n",
       "2  Animation,Action,Adventure,Fantasy,Horror          Japan   \n",
       "3                      Horror,Mystery,Sci-Fi  United States   \n",
       "4        Crime,Drama,Horror,Mystery,Thriller         France   \n",
       "\n",
       "                    Budget Gross Worldwide  \n",
       "0     $806,947 (estimated)     $32,041,845  \n",
       "1  $11,000,000 (estimated)    $441,306,145  \n",
       "2                      NaN    $452,974,619  \n",
       "3  $15,000,000 (estimated)     $19,632,053  \n",
       "4                      NaN         $12,498  "
      ]
     },
     "execution_count": 9,
     "metadata": {},
     "output_type": "execute_result"
    }
   ],
   "source": [
    "mainpage= pd.read_csv(\"/Users/Annie/Documents/GitHub/horror_film/mainpage.csv\")\n",
    "mainpage.head()"
   ]
  },
  {
   "cell_type": "code",
   "execution_count": 10,
   "id": "d2cc6175",
   "metadata": {},
   "outputs": [],
   "source": [
    "malespider = pd.read_csv(\"/Users/Annie/Documents/GitHub/horror_film/malespider.csv\")"
   ]
  },
  {
   "cell_type": "code",
   "execution_count": 11,
   "id": "04058945",
   "metadata": {},
   "outputs": [
    {
     "data": {
      "text/html": [
       "<div>\n",
       "<style scoped>\n",
       "    .dataframe tbody tr th:only-of-type {\n",
       "        vertical-align: middle;\n",
       "    }\n",
       "\n",
       "    .dataframe tbody tr th {\n",
       "        vertical-align: top;\n",
       "    }\n",
       "\n",
       "    .dataframe thead th {\n",
       "        text-align: right;\n",
       "    }\n",
       "</style>\n",
       "<table border=\"1\" class=\"dataframe\">\n",
       "  <thead>\n",
       "    <tr style=\"text-align: right;\">\n",
       "      <th></th>\n",
       "      <th>Rank</th>\n",
       "      <th>Name</th>\n",
       "      <th>Year</th>\n",
       "    </tr>\n",
       "  </thead>\n",
       "  <tbody>\n",
       "    <tr>\n",
       "      <th>0</th>\n",
       "      <td>1</td>\n",
       "      <td>Psycho</td>\n",
       "      <td>1960</td>\n",
       "    </tr>\n",
       "    <tr>\n",
       "      <th>1</th>\n",
       "      <td>2</td>\n",
       "      <td>The Shining</td>\n",
       "      <td>1980</td>\n",
       "    </tr>\n",
       "    <tr>\n",
       "      <th>2</th>\n",
       "      <td>3</td>\n",
       "      <td>Alien</td>\n",
       "      <td>1979</td>\n",
       "    </tr>\n",
       "    <tr>\n",
       "      <th>3</th>\n",
       "      <td>4</td>\n",
       "      <td>Tumbbad</td>\n",
       "      <td>2018</td>\n",
       "    </tr>\n",
       "    <tr>\n",
       "      <th>4</th>\n",
       "      <td>5</td>\n",
       "      <td>Demon Slayer: Mugen Train</td>\n",
       "      <td>2020</td>\n",
       "    </tr>\n",
       "  </tbody>\n",
       "</table>\n",
       "</div>"
      ],
      "text/plain": [
       "   Rank                       Name  Year\n",
       "0     1                     Psycho  1960\n",
       "1     2                The Shining  1980\n",
       "2     3                      Alien  1979\n",
       "3     4                    Tumbbad  2018\n",
       "4     5  Demon Slayer: Mugen Train  2020"
      ]
     },
     "execution_count": 11,
     "metadata": {},
     "output_type": "execute_result"
    }
   ],
   "source": [
    "ranking = pd.read_csv(\"/Users/Annie/Documents/GitHub/horror_film/ranking.csv\")\n",
    "ranking.head()"
   ]
  },
  {
   "cell_type": "code",
   "execution_count": 12,
   "id": "6d38e97d",
   "metadata": {},
   "outputs": [
    {
     "data": {
      "text/html": [
       "<div>\n",
       "<style scoped>\n",
       "    .dataframe tbody tr th:only-of-type {\n",
       "        vertical-align: middle;\n",
       "    }\n",
       "\n",
       "    .dataframe tbody tr th {\n",
       "        vertical-align: top;\n",
       "    }\n",
       "\n",
       "    .dataframe thead th {\n",
       "        text-align: right;\n",
       "    }\n",
       "</style>\n",
       "<table border=\"1\" class=\"dataframe\">\n",
       "  <thead>\n",
       "    <tr style=\"text-align: right;\">\n",
       "      <th></th>\n",
       "      <th>Name</th>\n",
       "      <th>Year</th>\n",
       "      <th>Rating</th>\n",
       "      <th>User_Type</th>\n",
       "      <th>vote10</th>\n",
       "      <th>vote9</th>\n",
       "      <th>vote8</th>\n",
       "      <th>vote7</th>\n",
       "      <th>vote6</th>\n",
       "      <th>vote5</th>\n",
       "      <th>vote4</th>\n",
       "      <th>vote3</th>\n",
       "      <th>vote2</th>\n",
       "      <th>vote1</th>\n",
       "    </tr>\n",
       "  </thead>\n",
       "  <tbody>\n",
       "    <tr>\n",
       "      <th>0</th>\n",
       "      <td>The Lighthouse</td>\n",
       "      <td>2019</td>\n",
       "      <td>7.5</td>\n",
       "      <td>IMDb Users</td>\n",
       "      <td>21413</td>\n",
       "      <td>29629</td>\n",
       "      <td>48256</td>\n",
       "      <td>37827</td>\n",
       "      <td>18885</td>\n",
       "      <td>9223</td>\n",
       "      <td>4841</td>\n",
       "      <td>3132</td>\n",
       "      <td>2268</td>\n",
       "      <td>3743</td>\n",
       "    </tr>\n",
       "    <tr>\n",
       "      <th>1</th>\n",
       "      <td>A Quiet Place</td>\n",
       "      <td>2018</td>\n",
       "      <td>7.5</td>\n",
       "      <td>IMDb Users</td>\n",
       "      <td>54103</td>\n",
       "      <td>75677</td>\n",
       "      <td>152430</td>\n",
       "      <td>118066</td>\n",
       "      <td>47978</td>\n",
       "      <td>18678</td>\n",
       "      <td>8604</td>\n",
       "      <td>5048</td>\n",
       "      <td>3367</td>\n",
       "      <td>5649</td>\n",
       "    </tr>\n",
       "    <tr>\n",
       "      <th>2</th>\n",
       "      <td>The Conjuring</td>\n",
       "      <td>2013</td>\n",
       "      <td>7.5</td>\n",
       "      <td>IMDb Users</td>\n",
       "      <td>61822</td>\n",
       "      <td>70986</td>\n",
       "      <td>145724</td>\n",
       "      <td>120266</td>\n",
       "      <td>48014</td>\n",
       "      <td>17467</td>\n",
       "      <td>7025</td>\n",
       "      <td>3644</td>\n",
       "      <td>2187</td>\n",
       "      <td>3614</td>\n",
       "    </tr>\n",
       "    <tr>\n",
       "      <th>3</th>\n",
       "      <td>American Psycho</td>\n",
       "      <td>2000</td>\n",
       "      <td>7.6</td>\n",
       "      <td>IMDb Users</td>\n",
       "      <td>62803</td>\n",
       "      <td>84728</td>\n",
       "      <td>168004</td>\n",
       "      <td>131072</td>\n",
       "      <td>51486</td>\n",
       "      <td>19245</td>\n",
       "      <td>8347</td>\n",
       "      <td>4427</td>\n",
       "      <td>2934</td>\n",
       "      <td>4419</td>\n",
       "    </tr>\n",
       "    <tr>\n",
       "      <th>4</th>\n",
       "      <td>Psycho</td>\n",
       "      <td>1960</td>\n",
       "      <td>8.5</td>\n",
       "      <td>IMDb Users</td>\n",
       "      <td>154176</td>\n",
       "      <td>178106</td>\n",
       "      <td>173392</td>\n",
       "      <td>81863</td>\n",
       "      <td>26755</td>\n",
       "      <td>10529</td>\n",
       "      <td>4706</td>\n",
       "      <td>2575</td>\n",
       "      <td>1848</td>\n",
       "      <td>4906</td>\n",
       "    </tr>\n",
       "  </tbody>\n",
       "</table>\n",
       "</div>"
      ],
      "text/plain": [
       "              Name  Year  Rating   User_Type  vote10   vote9   vote8   vote7  \\\n",
       "0   The Lighthouse  2019     7.5  IMDb Users   21413   29629   48256   37827   \n",
       "1    A Quiet Place  2018     7.5  IMDb Users   54103   75677  152430  118066   \n",
       "2    The Conjuring  2013     7.5  IMDb Users   61822   70986  145724  120266   \n",
       "3  American Psycho  2000     7.6  IMDb Users   62803   84728  168004  131072   \n",
       "4           Psycho  1960     8.5  IMDb Users  154176  178106  173392   81863   \n",
       "\n",
       "   vote6  vote5  vote4  vote3  vote2  vote1  \n",
       "0  18885   9223   4841   3132   2268   3743  \n",
       "1  47978  18678   8604   5048   3367   5649  \n",
       "2  48014  17467   7025   3644   2187   3614  \n",
       "3  51486  19245   8347   4427   2934   4419  \n",
       "4  26755  10529   4706   2575   1848   4906  "
      ]
     },
     "execution_count": 12,
     "metadata": {},
     "output_type": "execute_result"
    }
   ],
   "source": [
    "allrate = pd.read_csv(\"/Users/Annie/Documents/GitHub/horror_film/allrate.csv\")\n",
    "allrate.head()"
   ]
  },
  {
   "cell_type": "markdown",
   "id": "fc99d4c0",
   "metadata": {},
   "source": [
    "## 1. Film Release Year & Rating\n",
    "People often think that most top-rated horror movies are the classic old movies. So, for the first part, we want to figure out whether old horror movies are better than modern horror movies."
   ]
  },
  {
   "cell_type": "code",
   "execution_count": 13,
   "id": "5a18c3c5",
   "metadata": {},
   "outputs": [
    {
     "data": {
      "text/html": [
       "<div>\n",
       "<style scoped>\n",
       "    .dataframe tbody tr th:only-of-type {\n",
       "        vertical-align: middle;\n",
       "    }\n",
       "\n",
       "    .dataframe tbody tr th {\n",
       "        vertical-align: top;\n",
       "    }\n",
       "\n",
       "    .dataframe thead th {\n",
       "        text-align: right;\n",
       "    }\n",
       "</style>\n",
       "<table border=\"1\" class=\"dataframe\">\n",
       "  <thead>\n",
       "    <tr style=\"text-align: right;\">\n",
       "      <th></th>\n",
       "      <th>Year</th>\n",
       "      <th>Rate</th>\n",
       "    </tr>\n",
       "  </thead>\n",
       "  <tbody>\n",
       "    <tr>\n",
       "      <th>0</th>\n",
       "      <td>1960</td>\n",
       "      <td>8.5</td>\n",
       "    </tr>\n",
       "    <tr>\n",
       "      <th>1</th>\n",
       "      <td>1980</td>\n",
       "      <td>8.4</td>\n",
       "    </tr>\n",
       "    <tr>\n",
       "      <th>2</th>\n",
       "      <td>1979</td>\n",
       "      <td>8.4</td>\n",
       "    </tr>\n",
       "    <tr>\n",
       "      <th>3</th>\n",
       "      <td>2018</td>\n",
       "      <td>8.3</td>\n",
       "    </tr>\n",
       "    <tr>\n",
       "      <th>4</th>\n",
       "      <td>2020</td>\n",
       "      <td>8.2</td>\n",
       "    </tr>\n",
       "  </tbody>\n",
       "</table>\n",
       "</div>"
      ],
      "text/plain": [
       "   Year  Rate\n",
       "0  1960   8.5\n",
       "1  1980   8.4\n",
       "2  1979   8.4\n",
       "3  2018   8.3\n",
       "4  2020   8.2"
      ]
     },
     "execution_count": 13,
     "metadata": {},
     "output_type": "execute_result"
    }
   ],
   "source": [
    "df = pd.merge(ranking, mainpage, on = [\"Name\", \"Year\"])[[\"Year\", \"Rate\"]]\n",
    "df.head()"
   ]
  },
  {
   "cell_type": "markdown",
   "id": "cfc2905e",
   "metadata": {},
   "source": [
    "### 1.1. Film Release Trend by Year\n",
    "show the number of horror movies for each year with a bar chart to get a brief understanding about the trend"
   ]
  },
  {
   "cell_type": "code",
   "execution_count": 14,
   "id": "fada3942",
   "metadata": {},
   "outputs": [
    {
     "data": {
      "text/html": [
       "<div>\n",
       "<style scoped>\n",
       "    .dataframe tbody tr th:only-of-type {\n",
       "        vertical-align: middle;\n",
       "    }\n",
       "\n",
       "    .dataframe tbody tr th {\n",
       "        vertical-align: top;\n",
       "    }\n",
       "\n",
       "    .dataframe thead th {\n",
       "        text-align: right;\n",
       "    }\n",
       "</style>\n",
       "<table border=\"1\" class=\"dataframe\">\n",
       "  <thead>\n",
       "    <tr style=\"text-align: right;\">\n",
       "      <th></th>\n",
       "      <th>Rate</th>\n",
       "    </tr>\n",
       "    <tr>\n",
       "      <th>Year</th>\n",
       "      <th></th>\n",
       "    </tr>\n",
       "  </thead>\n",
       "  <tbody>\n",
       "    <tr>\n",
       "      <th>1920</th>\n",
       "      <td>1</td>\n",
       "    </tr>\n",
       "    <tr>\n",
       "      <th>1922</th>\n",
       "      <td>1</td>\n",
       "    </tr>\n",
       "    <tr>\n",
       "      <th>1931</th>\n",
       "      <td>2</td>\n",
       "    </tr>\n",
       "    <tr>\n",
       "      <th>1932</th>\n",
       "      <td>2</td>\n",
       "    </tr>\n",
       "    <tr>\n",
       "      <th>1933</th>\n",
       "      <td>2</td>\n",
       "    </tr>\n",
       "  </tbody>\n",
       "</table>\n",
       "</div>"
      ],
      "text/plain": [
       "      Rate\n",
       "Year      \n",
       "1920     1\n",
       "1922     1\n",
       "1931     2\n",
       "1932     2\n",
       "1933     2"
      ]
     },
     "execution_count": 14,
     "metadata": {},
     "output_type": "execute_result"
    }
   ],
   "source": [
    "df_gb = df.groupby(['Year']).count()\n",
    "df_gb.head()"
   ]
  },
  {
   "cell_type": "code",
   "execution_count": 25,
   "id": "eb84f0fd",
   "metadata": {},
   "outputs": [
    {
     "data": {
      "text/plain": [
       "Text(0, 0.5, 'Counts of Horror Films')"
      ]
     },
     "execution_count": 25,
     "metadata": {},
     "output_type": "execute_result"
    },
    {
     "data": {
      "image/png": "[encoded data removed]",
      "text/plain": [
       "<Figure size 1440x432 with 1 Axes>"
      ]
     },
     "metadata": {
      "needs_background": "light"
     },
     "output_type": "display_data"
    }
   ],
   "source": [
    "df_plot = df_gb.plot(\n",
    "    title = \"Number of Horror Films Released by Year\",\n",
    "    kind = 'bar',\n",
    "    figsize = (20,6) # adjust graph size\n",
    "    )\n",
    "df_plot.set_ylabel(\"Counts of Horror Films\")"
   ]
  },
  {
   "cell_type": "code",
   "execution_count": null,
   "id": "b58a83b4",
   "metadata": {},
   "outputs": [],
   "source": []
  },
  {
   "cell_type": "markdown",
   "id": "fd460635",
   "metadata": {},
   "source": [
    "### 1.2. Film Rating Trend by Year\n",
    "by using the scatter plot with release year on the horizontal axis and rating scores on the vertical axis, we will add the best fit line as the rating trend of all horror movies over time"
   ]
  },
  {
   "cell_type": "markdown",
   "id": "b957b1b0",
   "metadata": {},
   "source": [
    "#### 1.2.? 热力图"
   ]
  },
  {
   "cell_type": "markdown",
   "id": "e7442b18",
   "metadata": {},
   "source": [
    "## 2. Genre & Rating\n"
   ]
  },
  {
   "cell_type": "markdown",
   "id": "6403720f",
   "metadata": {},
   "source": [
    "### 2.1. Proportion of Film by Genre\n",
    "First, we will count the total number of films of each genre, and create a pie chart to show their proportions (e.g. among all 723 films, 40% are drama, 30% are adventure, etc.)."
   ]
  },
  {
   "cell_type": "markdown",
   "id": "4745b271",
   "metadata": {},
   "source": [
    "### 2.2. Ratings by Genre\n",
    "Then, we will produce a bar chart with tags of film genres on the horizontal axis, and average user ratings on the vertical axis. This bar chart would show which genre is top rated by IMDb users."
   ]
  },
  {
   "cell_type": "markdown",
   "id": "fc2b8289",
   "metadata": {},
   "source": [
    "### 2.3. Genre & Ranking\n",
    "We plan to analyze the relationship between film genres and average ranking. For example, do drama horror movies rank higher than crime horror movies? "
   ]
  },
  {
   "cell_type": "markdown",
   "id": "0bfbd98e",
   "metadata": {},
   "source": [
    "## 3. Reviewer Portrait\n",
    "We would like to summarize the characteristics of horror movie viewers and make a reviewer portrait. Our reviewer portrait will include the reviewers’ ages and genders."
   ]
  },
  {
   "cell_type": "markdown",
   "id": "74650573",
   "metadata": {},
   "source": [
    "### 3.1. Age\n",
    "To study horror movie reviewers of different age groups"
   ]
  },
  {
   "cell_type": "markdown",
   "id": "fc3c3556",
   "metadata": {},
   "source": [
    "#### 3.1.1. Reviewer Age Distribution\n",
    "By using the bar chart, we can first demonstrate the age distribution of horror movie reviewers with age group on the horizontal axis and the corresponding counts on the vertical axis."
   ]
  },
  {
   "cell_type": "markdown",
   "id": "44a72a72",
   "metadata": {},
   "source": [
    "#### 3.1.2. Rating Tendency by Age\n",
    "Then we will use sub-bar plots to cross-analyze whether different age groups have different film-rating tendencies."
   ]
  },
  {
   "cell_type": "markdown",
   "id": "962f7f99",
   "metadata": {},
   "source": [
    "##### 3.1.2.1. Sub-bar Plot\n"
   ]
  },
  {
   "cell_type": "markdown",
   "id": "962f7f99",
   "metadata": {},
   "source": [
    "##### 3.1.2.2. Bar Chart\n",
    "with different age groups on the horizontal axis and their mean ratings on the vertical axis\n"
   ]
  },
  {
   "cell_type": "markdown",
   "id": "74650573",
   "metadata": {},
   "source": [
    "### 3.2. Gender"
   ]
  },
  {
   "cell_type": "markdown",
   "id": "fc3c3556",
   "metadata": {},
   "source": [
    "#### 3.2.1. Reviewer Gender Ratio\n",
    "First, we want to use a pie chart to show the gender ratio of horror movie reviewers."
   ]
  },
  {
   "cell_type": "markdown",
   "id": "fc3c3556",
   "metadata": {},
   "source": [
    "#### 3.2.2. Rating Tendency by Gender\n",
    "Similarly, we will use bar plots to display the rating tendencies of each gender. Also, by summing up the number of ratings of each gender for different genres, we wish to compare which kind of horror movies each gender prefers."
   ]
  },
  {
   "cell_type": "markdown",
   "id": "962f7f99",
   "metadata": {},
   "source": [
    "##### 3.2.2.1. Sub-bar Plot\n"
   ]
  },
  {
   "cell_type": "markdown",
   "id": "962f7f99",
   "metadata": {},
   "source": [
    "##### 3.2.2.2. Bar Chart\n",
    "with different genders on the horizontal axis and their mean ratings on the vertical axis\n"
   ]
  },
  {
   "cell_type": "markdown",
   "id": "74650573",
   "metadata": {},
   "source": [
    "### 3.3. Reviewer Portrait of Genre Preference\n",
    "To study which genre do people from each age group and of each gender prefer"
   ]
  },
  {
   "cell_type": "markdown",
   "id": "20e7128e",
   "metadata": {},
   "source": [
    "#### 3.3.1. Age & Genre"
   ]
  },
  {
   "cell_type": "markdown",
   "id": "20e7128e",
   "metadata": {},
   "source": [
    "#### 3.3.2. Gender & Genre"
   ]
  },
  {
   "cell_type": "markdown",
   "id": "0bfbd98e",
   "metadata": {},
   "source": [
    "## 4. Which Country Produces the Most Good Horror Movies?\n",
    "To analyze which country produces the most high-rated horror films, we will produce bar plots for each country to count the number of films by rating value. In each plot, the x-axis and y-axis will be film rating values and counts of films, respectively. The figures then could help us to answer questions such as whether the US produced more horror movies rated over 4 or below 3, or whether Germany released more low-rated movies than Japan."
   ]
  },
  {
   "cell_type": "markdown",
   "id": "0bfbd98e",
   "metadata": {},
   "source": [
    "## 5. Budge and Box Office\n"
   ]
  },
  {
   "cell_type": "markdown",
   "id": "912bb32d",
   "metadata": {},
   "source": [
    "### 5.1. Are the Most Profitable Films Also Highest-Rated?\n",
    "1. Calulate \"Revenue\"\n",
    "2. find top 20 films with highest revenue\n",
    "3. compare with 20 top rated films\n",
    "\n",
    "We want to obtain the difference between gross worldwide box office and budget (“revenue”) of the 723 movies, find the 20 movies with the highest revenue, and compare them with the 20 highest rated movies to analyze the relationship between the revenue and ratings. "
   ]
  },
  {
   "cell_type": "markdown",
   "id": "912bb32d",
   "metadata": {},
   "source": [
    "### 5.2. Which Genre Is The Most Profitable?\n",
    "We will also cross-analyze the ranking based on revenue with the movies genre to see what type of horror movies people prefer to go to the movie theater."
   ]
  }
 ],
 "metadata": {
  "interpreter": {
   "hash": "b5b2985c9892eb107a3576aa1739bb2ca8a808a10b25f4d7be2fa806ac6ae43f"
  },
  "kernelspec": {
   "display_name": "Python 3.7.11 64-bit ('scrapy-example': conda)",
   "language": "python",
   "name": "python3"
  },
  "language_info": {
   "codemirror_mode": {
    "name": "ipython",
    "version": 3
   },
   "file_extension": ".py",
   "mimetype": "text/x-python",
   "name": "python",
   "nbconvert_exporter": "python",
   "pygments_lexer": "ipython3",
   "version": "3.8.8"
  }
 },
 "nbformat": 4,
 "nbformat_minor": 5
}
