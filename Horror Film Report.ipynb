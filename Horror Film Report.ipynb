{
 "cells": [
  {
   "cell_type": "markdown",
   "id": "7bc01113",
   "metadata": {},
   "source": [
    "# What Makes a Successful Horror Film?\n",
    "Group-1: Xiaofan Fan, Tianyu Li, Wenxin Zhang"
   ]
  },
  {
   "cell_type": "code",
   "execution_count": 125,
   "id": "22b8b984",
   "metadata": {},
   "outputs": [],
   "source": [
    "import pandas as pd\n",
    "import numpy as np\n",
    "import matplotlib.pyplot as plt\n",
    "%matplotlib inline"
   ]
  },
  {
   "cell_type": "markdown",
   "id": "19368add",
   "metadata": {},
   "source": [
    "## File Reading and Data Cleaning\n",
    "FILE DESCRIPTION HERE!!!!!!!!!!!!"
   ]
  },
  {
   "cell_type": "code",
   "execution_count": 126,
   "id": "b461a54f",
   "metadata": {},
   "outputs": [],
   "source": [
    "# READ FILES"
   ]
  },
  {
   "cell_type": "markdown",
   "id": "fc99d4c0",
   "metadata": {},
   "source": [
    "## 1. Film Release Year & Rating\n",
    "People often think that most top-rated horror movies are the classic old movies. So, for the first part, we want to figure out whether old horror movies are better than modern horror movies."
   ]
  },
  {
   "cell_type": "code",
   "execution_count": 127,
   "id": "41520550",
   "metadata": {},
   "outputs": [],
   "source": [
    "mainpage = pd.read_csv(\"/Users/Annie/Documents/GitHub/horror_film/mainpage.csv\")\n",
    "ranking = pd.read_csv(\"/Users/Annie/Documents/GitHub/horror_film/ranking.csv\")\n",
    "allrate = pd.read_csv(\"/Users/Annie/Documents/GitHub/horror_film/allrate.csv\")"
   ]
  },
  {
   "cell_type": "code",
   "execution_count": 156,
   "id": "5a18c3c5",
   "metadata": {},
   "outputs": [],
   "source": [
    "main_rank = pd.merge(ranking, mainpage, on = [\"Name\", \"Year\"])"
   ]
  },
  {
   "cell_type": "markdown",
   "id": "cfc2905e",
   "metadata": {},
   "source": [
    "### 1.1. Film Release Trend by Year\n",
    "show the number of horror movies for each year with a bar chart to get a brief understanding about the trend"
   ]
  },
  {
   "cell_type": "code",
   "execution_count": 130,
   "id": "fada3942",
   "metadata": {},
   "outputs": [
    {
     "data": {
      "text/plain": [
       "Text(0, 0.5, 'Counts of Horror Films')"
      ]
     },
     "execution_count": 130,
     "metadata": {},
     "output_type": "execute_result"
    },
    {
     "data": {
      "image/png": "[encoded data removed]",
      "text/plain": [
       "<Figure size 1440x432 with 1 Axes>"
      ]
     },
     "metadata": {
      "needs_background": "light"
     },
     "output_type": "display_data"
    }
   ],
   "source": [
    "release_count = main_rank[[\"Year\", \"Rate\"]].groupby(['Year']).count()\n",
    "release_count_plot = release_count.plot(\n",
    "    title = \"Number of Horror Films Released by Year\",\n",
    "    kind = 'bar',\n",
    "    figsize = (20,6) # adjust graph size\n",
    "    )\n",
    "release_count_plot.set_ylabel(\"Counts of Horror Films\")"
   ]
  },
  {
   "cell_type": "markdown",
   "id": "fd460635",
   "metadata": {},
   "source": [
    "### 1.2. Film Rating Trend by Year\n",
    "by using the scatter plot with release year on the horizontal axis and rating scores on the vertical axis, we will add the best fit line as the rating trend of all horror movies over time"
   ]
  },
  {
   "cell_type": "code",
   "execution_count": 132,
   "id": "e2e4a6f8",
   "metadata": {},
   "outputs": [],
   "source": [
    "# release_rate = main_rank[[\"Year\", \"Rate\"]].groupby(['Year']).mean()\n",
    "# # release_rate.head()\n",
    "# release_rate_plot = release_rate.reset_index().plot(\n",
    "#     x = 'Year',\n",
    "#     y = 'Rate',\n",
    "#     kind = 'scatter'\n",
    "# )"
   ]
  },
  {
   "cell_type": "code",
   "execution_count": 133,
   "id": "03fd74d5",
   "metadata": {},
   "outputs": [
    {
     "data": {
      "text/plain": [
       "[<matplotlib.lines.Line2D at 0x7f939a050610>]"
      ]
     },
     "execution_count": 133,
     "metadata": {},
     "output_type": "execute_result"
    },
    {
     "data": {
      "image/png": "[encoded data removed]",
      "text/plain": [
       "<Figure size 432x288 with 1 Axes>"
      ]
     },
     "metadata": {
      "needs_background": "light"
     },
     "output_type": "display_data"
    }
   ],
   "source": [
    "# Using Matplot and NumpyArray\n",
    "release_rate = main_rank[[\"Year\", \"Rate\"]].groupby(['Year']).mean()\n",
    "x = np.array(release_rate.reset_index()['Year'])\n",
    "y = np.array(release_rate.reset_index()['Rate'])\n",
    "m, b = np.polyfit(x, y, 1)\n",
    "plt.plot(x, y, 'o')\n",
    "plt.plot(x, m*x + b)\n",
    "\n",
    "#####改成折线图！！！或者不用groupby"
   ]
  },
  {
   "cell_type": "markdown",
   "id": "b957b1b0",
   "metadata": {},
   "source": [
    "#### 1.2.? 热力图"
   ]
  },
  {
   "cell_type": "markdown",
   "id": "e7442b18",
   "metadata": {},
   "source": [
    "## 2. Genre & Rating\n"
   ]
  },
  {
   "cell_type": "markdown",
   "id": "6403720f",
   "metadata": {},
   "source": [
    "### 2.1. Proportion of Film by Genre\n",
    "First, we will count the total number of films of each genre, and create a pie chart to show their proportions (e.g. among all 723 films, 40% are drama, 30% are adventure, etc.)."
   ]
  },
  {
   "cell_type": "code",
   "execution_count": null,
   "id": "388670f2",
   "metadata": {},
   "outputs": [],
   "source": [
    "mainpage = pd.read_csv(\"/Users/Cindy/Documents/GitHub/horrorfilm/mainpage.csv\")"
   ]
  },
  {
   "cell_type": "code",
   "execution_count": null,
   "id": "8ccf1354",
   "metadata": {},
   "outputs": [
    {
     "data": {
      "text/html": [
       "<div>\n",
       "<style scoped>\n",
       "    .dataframe tbody tr th:only-of-type {\n",
       "        vertical-align: middle;\n",
       "    }\n",
       "\n",
       "    .dataframe tbody tr th {\n",
       "        vertical-align: top;\n",
       "    }\n",
       "\n",
       "    .dataframe thead th {\n",
       "        text-align: right;\n",
       "    }\n",
       "</style>\n",
       "<table border=\"1\" class=\"dataframe\">\n",
       "  <thead>\n",
       "    <tr style=\"text-align: right;\">\n",
       "      <th></th>\n",
       "      <th>Name</th>\n",
       "      <th>Year</th>\n",
       "      <th>Rate</th>\n",
       "      <th>Genre</th>\n",
       "      <th>Country</th>\n",
       "      <th>Genre_list</th>\n",
       "    </tr>\n",
       "  </thead>\n",
       "  <tbody>\n",
       "    <tr>\n",
       "      <th>0</th>\n",
       "      <td>Deep Red</td>\n",
       "      <td>1975</td>\n",
       "      <td>7.6</td>\n",
       "      <td>Horror,Mystery,Thriller</td>\n",
       "      <td>Italy</td>\n",
       "      <td>[Horror, Mystery, Thriller]</td>\n",
       "    </tr>\n",
       "    <tr>\n",
       "      <th>1</th>\n",
       "      <td>The Wailing</td>\n",
       "      <td>2016</td>\n",
       "      <td>7.5</td>\n",
       "      <td>Horror,Mystery,Thriller</td>\n",
       "      <td>South Korea</td>\n",
       "      <td>[Horror, Mystery, Thriller]</td>\n",
       "    </tr>\n",
       "    <tr>\n",
       "      <th>2</th>\n",
       "      <td>Psycho</td>\n",
       "      <td>1960</td>\n",
       "      <td>8.5</td>\n",
       "      <td>Horror,Mystery,Thriller</td>\n",
       "      <td>United States</td>\n",
       "      <td>[Horror, Mystery, Thriller]</td>\n",
       "    </tr>\n",
       "    <tr>\n",
       "      <th>3</th>\n",
       "      <td>A Quiet Place</td>\n",
       "      <td>2018</td>\n",
       "      <td>7.5</td>\n",
       "      <td>Drama,Horror,Sci-Fi</td>\n",
       "      <td>United States</td>\n",
       "      <td>[Drama, Horror, Sci-Fi]</td>\n",
       "    </tr>\n",
       "    <tr>\n",
       "      <th>4</th>\n",
       "      <td>The Lighthouse</td>\n",
       "      <td>2019</td>\n",
       "      <td>7.5</td>\n",
       "      <td>Drama,Fantasy,Horror,Mystery</td>\n",
       "      <td>Canada</td>\n",
       "      <td>[Drama, Fantasy, Horror, Mystery]</td>\n",
       "    </tr>\n",
       "  </tbody>\n",
       "</table>\n",
       "</div>"
      ],
      "text/plain": [
       "             Name  Year  Rate                         Genre        Country  \\\n",
       "0        Deep Red  1975   7.6       Horror,Mystery,Thriller          Italy   \n",
       "1     The Wailing  2016   7.5       Horror,Mystery,Thriller    South Korea   \n",
       "2          Psycho  1960   8.5       Horror,Mystery,Thriller  United States   \n",
       "3   A Quiet Place  2018   7.5           Drama,Horror,Sci-Fi  United States   \n",
       "4  The Lighthouse  2019   7.5  Drama,Fantasy,Horror,Mystery         Canada   \n",
       "\n",
       "                          Genre_list  \n",
       "0        [Horror, Mystery, Thriller]  \n",
       "1        [Horror, Mystery, Thriller]  \n",
       "2        [Horror, Mystery, Thriller]  \n",
       "3            [Drama, Horror, Sci-Fi]  \n",
       "4  [Drama, Fantasy, Horror, Mystery]  "
      ]
     },
     "metadata": {},
     "output_type": "display_data"
    }
   ],
   "source": [
    "#convert string to list\n",
    "def stringToList(string):\n",
    "    listRes = list(string.split(\",\"))\n",
    "    return listRes\n",
    "\n",
    "mainpage[\"Genre_list\"] =mainpage.apply(lambda x : stringToList(x[\"Genre\"]),axis=1)\n",
    "mainpage.head()"
   ]
  },
  {
   "cell_type": "code",
   "execution_count": null,
   "id": "4b6ac663",
   "metadata": {},
   "outputs": [
    {
     "data": {
      "text/html": [
       "<div>\n",
       "<style scoped>\n",
       "    .dataframe tbody tr th:only-of-type {\n",
       "        vertical-align: middle;\n",
       "    }\n",
       "\n",
       "    .dataframe tbody tr th {\n",
       "        vertical-align: top;\n",
       "    }\n",
       "\n",
       "    .dataframe thead th {\n",
       "        text-align: right;\n",
       "    }\n",
       "</style>\n",
       "<table border=\"1\" class=\"dataframe\">\n",
       "  <thead>\n",
       "    <tr style=\"text-align: right;\">\n",
       "      <th></th>\n",
       "      <th>Frequency</th>\n",
       "      <th>Propotion(%)</th>\n",
       "    </tr>\n",
       "  </thead>\n",
       "  <tbody>\n",
       "    <tr>\n",
       "      <th>Thriller</th>\n",
       "      <td>439</td>\n",
       "      <td>60.136986</td>\n",
       "    </tr>\n",
       "    <tr>\n",
       "      <th>Mystery</th>\n",
       "      <td>270</td>\n",
       "      <td>36.986301</td>\n",
       "    </tr>\n",
       "    <tr>\n",
       "      <th>Drama</th>\n",
       "      <td>187</td>\n",
       "      <td>25.616438</td>\n",
       "    </tr>\n",
       "    <tr>\n",
       "      <th>Sci-Fi</th>\n",
       "      <td>178</td>\n",
       "      <td>24.383562</td>\n",
       "    </tr>\n",
       "    <tr>\n",
       "      <th>Fantasy</th>\n",
       "      <td>136</td>\n",
       "      <td>18.630137</td>\n",
       "    </tr>\n",
       "  </tbody>\n",
       "</table>\n",
       "</div>"
      ],
      "text/plain": [
       "          Frequency  Propotion(%)\n",
       "Thriller        439     60.136986\n",
       "Mystery         270     36.986301\n",
       "Drama           187     25.616438\n",
       "Sci-Fi          178     24.383562\n",
       "Fantasy         136     18.630137"
      ]
     },
     "metadata": {},
     "output_type": "display_data"
    }
   ],
   "source": [
    "#count the total number of films of each genre\n",
    "a = pd.Series(np.concatenate(mainpage.Genre_list))\n",
    "Genre_count = pd.DataFrame({\"Frequency\":a.value_counts()}).rename(index={\"Horror\":\"Total Number\"})\n",
    "Genre_count[\"Propotion(%)\"] =Genre_count[\"Frequency\"]/Genre_count[\"Frequency\"][0]*100\n",
    "Genre_count= Genre_count.drop(index='Total Number')\n",
    "Genre_count.head()"
   ]
  },
  {
   "cell_type": "markdown",
   "id": "6403720f",
   "metadata": {},
   "source": [
    "### 2.1. Proportion of Genre\n",
    "First, we will count the total number of films of each genre, and create a pie chart to show their proportions (e.g. among all 723 films, 40% are drama, 30% are adventure, etc.)."
   ]
  },
  {
   "cell_type": "code",
   "execution_count": null,
   "id": "73ba72e2",
   "metadata": {},
   "outputs": [
    {
     "data": {
      "text/plain": [
       "[60.14, 36.99, 25.62, 24.38, 18.63]"
      ]
     },
     "metadata": {},
     "output_type": "display_data"
    }
   ],
   "source": [
    "x=list(Genre_count.head(5).index)\n",
    "y=list(Genre_count['Frequency'].head(5))\n",
    "label = list(round(Genre_count['Propotion(%)'].head(5),2))\n",
    "label"
   ]
  },
  {
   "cell_type": "code",
   "execution_count": null,
   "id": "883ffdd1",
   "metadata": {},
   "outputs": [
    {
     "data": {
      "text/plain": [
       "Text(0.5, 1.0, 'Top 5 popular Subgenres of Horror Films')"
      ]
     },
     "metadata": {},
     "output_type": "display_data"
    },
    {
     "data": {
      "image/png": "[encoded data removed]",
      "text/plain": [
       "<Figure size 432x288 with 1 Axes>"
      ]
     },
     "metadata": {},
     "output_type": "display_data"
    }
   ],
   "source": [
    "fig, ax = plt.subplots(1,1)\n",
    "ax.bar(x,y)\n",
    "ax.set_ylabel('Frequency')\n",
    "ax.set_title('Top 5 popular Subgenres of Horror Films')\n",
    "# ax.annotate(\n",
    "#             label,                      # Use `label` as label\n",
    "#             (x, y),         # Place label at end of the bar\n",
    "#             xytext=(0, 3),          # Vertically shift label by `space`\n",
    "#             textcoords=\"offset points\", # Interpret `xytext` as offset in points\n",
    "#             ha='center')                # Horizontally center label) \n",
    "\n",
    "\n",
    "#autolabel(ax)"
   ]
  },
  {
   "cell_type": "code",
   "execution_count": null,
   "id": "61e25a05",
   "metadata": {},
   "outputs": [
    {
     "data": {
      "text/plain": [
       "Text(0, 0.5, 'Propotion(%)')"
      ]
     },
     "metadata": {},
     "output_type": "display_data"
    },
    {
     "data": {
      "image/png": "[encoded data removed]",
      "text/plain": [
       "<Figure size 720x360 with 1 Axes>"
      ]
     },
     "metadata": {},
     "output_type": "display_data"
    }
   ],
   "source": [
    "colors_list = ['#F8B928','#5cb85c','#5EF828','#5bc0de','#287AF8','#d9534f']\n",
    "Proportion_of_Genre = Genre_count[\"Propotion(%)\"].head(5).plot(\n",
    "    title = \"Top 5 popular Subgenres of Horror Films\",\n",
    "    kind = 'bar',\n",
    "    figsize = (10,5),\n",
    "    ylim=(0, 100),\n",
    "    color=colors_list\n",
    "    )\n",
    "Proportion_of_Genre.set_ylabel(\"Propotion(%)\")"
   ]
  },
  {
   "cell_type": "markdown",
   "id": "4745b271",
   "metadata": {},
   "source": [
    "### 2.2. Ratings by Genre\n",
    "Then, we will produce a bar chart with tags of film genres on the horizontal axis, and average user ratings on the vertical axis. This bar chart would show which genre is top rated by IMDb users."
   ]
  },
  {
   "cell_type": "markdown",
   "id": "fc2b8289",
   "metadata": {},
   "source": [
    "### 2.3. Genre & Ranking\n",
    "We plan to analyze the relationship between film genres and average ranking. For example, do drama horror movies rank higher than crime horror movies? "
   ]
  },
  {
   "cell_type": "markdown",
   "id": "0bfbd98e",
   "metadata": {},
   "source": [
    "## 3. Reviewer Portrait\n",
    "We would like to summarize the characteristics of horror movie viewers and make a reviewer portrait. Our reviewer portrait will include the reviewers’ ages and genders."
   ]
  },
  {
   "cell_type": "markdown",
   "id": "ea4d9230",
   "metadata": {},
   "source": [
    "### 3.1. Age"
   ]
  },
  {
   "cell_type": "markdown",
   "id": "6456e9e0",
   "metadata": {},
   "source": [
    "Due to reasons like film rating system, the scoring data of some movies by age group is missing, so only the data of 723 movies are analyzed."
   ]
  },
  {
   "cell_type": "code",
   "execution_count": null,
   "id": "493829d0",
   "metadata": {},
   "outputs": [
    {
     "data": {
      "text/html": [
       "<div>\n",
       "<style scoped>\n",
       "    .dataframe tbody tr th:only-of-type {\n",
       "        vertical-align: middle;\n",
       "    }\n",
       "\n",
       "    .dataframe tbody tr th {\n",
       "        vertical-align: top;\n",
       "    }\n",
       "\n",
       "    .dataframe thead th {\n",
       "        text-align: right;\n",
       "    }\n",
       "</style>\n",
       "<table border=\"1\" class=\"dataframe\">\n",
       "  <thead>\n",
       "    <tr style=\"text-align: right;\">\n",
       "      <th></th>\n",
       "      <th>Movie</th>\n",
       "      <th>Year</th>\n",
       "      <th>Rate_All Ages</th>\n",
       "      <th>Rate_&lt;18</th>\n",
       "      <th>Rate_18-29</th>\n",
       "      <th>Rate_30-44</th>\n",
       "      <th>Rate_45+</th>\n",
       "      <th>Number_All Ages</th>\n",
       "      <th>Number_&lt;18</th>\n",
       "      <th>Number_18-29</th>\n",
       "      <th>Number_30-44</th>\n",
       "      <th>Number_45+</th>\n",
       "    </tr>\n",
       "  </thead>\n",
       "  <tbody>\n",
       "    <tr>\n",
       "      <th>0</th>\n",
       "      <td>A Quiet Place</td>\n",
       "      <td>2018</td>\n",
       "      <td>7.5</td>\n",
       "      <td>7.6</td>\n",
       "      <td>7.6</td>\n",
       "      <td>7.4</td>\n",
       "      <td>7.4</td>\n",
       "      <td>489831</td>\n",
       "      <td>498</td>\n",
       "      <td>89041</td>\n",
       "      <td>154844</td>\n",
       "      <td>40616</td>\n",
       "    </tr>\n",
       "    <tr>\n",
       "      <th>1</th>\n",
       "      <td>Godzilla</td>\n",
       "      <td>1954</td>\n",
       "      <td>7.6</td>\n",
       "      <td>7.9</td>\n",
       "      <td>7.8</td>\n",
       "      <td>7.5</td>\n",
       "      <td>7.3</td>\n",
       "      <td>32428</td>\n",
       "      <td>32</td>\n",
       "      <td>4824</td>\n",
       "      <td>12546</td>\n",
       "      <td>6129</td>\n",
       "    </tr>\n",
       "    <tr>\n",
       "      <th>2</th>\n",
       "      <td>The Fly</td>\n",
       "      <td>1986</td>\n",
       "      <td>7.6</td>\n",
       "      <td>8.0</td>\n",
       "      <td>7.7</td>\n",
       "      <td>7.6</td>\n",
       "      <td>7.5</td>\n",
       "      <td>171639</td>\n",
       "      <td>58</td>\n",
       "      <td>17814</td>\n",
       "      <td>79829</td>\n",
       "      <td>30968</td>\n",
       "    </tr>\n",
       "    <tr>\n",
       "      <th>3</th>\n",
       "      <td>Psycho</td>\n",
       "      <td>1960</td>\n",
       "      <td>8.5</td>\n",
       "      <td>8.8</td>\n",
       "      <td>8.6</td>\n",
       "      <td>8.5</td>\n",
       "      <td>8.5</td>\n",
       "      <td>639113</td>\n",
       "      <td>371</td>\n",
       "      <td>101170</td>\n",
       "      <td>244362</td>\n",
       "      <td>90742</td>\n",
       "    </tr>\n",
       "    <tr>\n",
       "      <th>4</th>\n",
       "      <td>Deep Red</td>\n",
       "      <td>1975</td>\n",
       "      <td>7.6</td>\n",
       "      <td>7.4</td>\n",
       "      <td>7.7</td>\n",
       "      <td>7.6</td>\n",
       "      <td>7.4</td>\n",
       "      <td>36189</td>\n",
       "      <td>20</td>\n",
       "      <td>3991</td>\n",
       "      <td>16252</td>\n",
       "      <td>7145</td>\n",
       "    </tr>\n",
       "  </tbody>\n",
       "</table>\n",
       "</div>"
      ],
      "text/plain": [
       "           Movie  Year  Rate_All Ages  Rate_<18  Rate_18-29  Rate_30-44  \\\n",
       "0  A Quiet Place  2018            7.5       7.6         7.6         7.4   \n",
       "1       Godzilla  1954            7.6       7.9         7.8         7.5   \n",
       "2        The Fly  1986            7.6       8.0         7.7         7.6   \n",
       "3         Psycho  1960            8.5       8.8         8.6         8.5   \n",
       "4       Deep Red  1975            7.6       7.4         7.7         7.6   \n",
       "\n",
       "   Rate_45+  Number_All Ages  Number_<18  Number_18-29  Number_30-44  \\\n",
       "0       7.4           489831         498         89041        154844   \n",
       "1       7.3            32428          32          4824         12546   \n",
       "2       7.5           171639          58         17814         79829   \n",
       "3       8.5           639113         371        101170        244362   \n",
       "4       7.4            36189          20          3991         16252   \n",
       "\n",
       "   Number_45+  \n",
       "0       40616  \n",
       "1        6129  \n",
       "2       30968  \n",
       "3       90742  \n",
       "4        7145  "
      ]
     },
     "metadata": {},
     "output_type": "display_data"
    }
   ],
   "source": [
    "age_group = pd.read_csv('/Users/clairefan/Documents/GitHub/Project-imdb-JingyiFan4258/imdb/age_group_723.csv')\n",
    "age_group.head()"
   ]
  },
  {
   "cell_type": "markdown",
   "id": "d319459b",
   "metadata": {},
   "source": [
    "To study horror movie reviewers of different age groups"
   ]
  },
  {
   "cell_type": "markdown",
   "id": "fc3c3556",
   "metadata": {},
   "source": [
    "#### 3.1.1. Reviewer Age Distribution\n",
    "By using the bar chart, we can first demonstrate the age distribution of horror movie reviewers with age group on the horizontal axis and the corresponding counts on the vertical axis."
   ]
  },
  {
   "cell_type": "code",
   "execution_count": null,
   "id": "5225d528",
   "metadata": {},
   "outputs": [
    {
     "data": {
      "text/html": [
       "<div>\n",
       "<style scoped>\n",
       "    .dataframe tbody tr th:only-of-type {\n",
       "        vertical-align: middle;\n",
       "    }\n",
       "\n",
       "    .dataframe tbody tr th {\n",
       "        vertical-align: top;\n",
       "    }\n",
       "\n",
       "    .dataframe thead th {\n",
       "        text-align: right;\n",
       "    }\n",
       "</style>\n",
       "<table border=\"1\" class=\"dataframe\">\n",
       "  <thead>\n",
       "    <tr style=\"text-align: right;\">\n",
       "      <th></th>\n",
       "      <th>Number</th>\n",
       "    </tr>\n",
       "  </thead>\n",
       "  <tbody>\n",
       "    <tr>\n",
       "      <th>Age&lt;18</th>\n",
       "      <td>33096</td>\n",
       "    </tr>\n",
       "    <tr>\n",
       "      <th>18-29</th>\n",
       "      <td>9924324</td>\n",
       "    </tr>\n",
       "    <tr>\n",
       "      <th>30-44</th>\n",
       "      <td>31255041</td>\n",
       "    </tr>\n",
       "    <tr>\n",
       "      <th>Age&gt;44</th>\n",
       "      <td>9039414</td>\n",
       "    </tr>\n",
       "  </tbody>\n",
       "</table>\n",
       "</div>"
      ],
      "text/plain": [
       "          Number\n",
       "Age<18     33096\n",
       "18-29    9924324\n",
       "30-44   31255041\n",
       "Age>44   9039414"
      ]
     },
     "metadata": {},
     "output_type": "display_data"
    }
   ],
   "source": [
    "age_group_number_sum = pd.DataFrame({\"Number\": age_group[['Number_<18','Number_18-29','Number_30-44','Number_45+']].sum(axis=0)})\n",
    "age_group_number_sum = age_group_number_sum.rename(index={'Number_<18': \"Age<18\", 'Number_18-29': \"18-29\", 'Number_30-44': \"30-44\",'Number_45+':\"Age>44\"})\n",
    "age_group_number_sum"
   ]
  },
  {
   "cell_type": "code",
   "execution_count": null,
   "id": "4c9cdf89",
   "metadata": {},
   "outputs": [
    {
     "data": {
      "text/plain": [
       "<AxesSubplot:title={'center':'Age Distribution of Reviewers'}, ylabel='Number'>"
      ]
     },
     "metadata": {},
     "output_type": "display_data"
    },
    {
     "data": {
      "image/png": "[encoded data removed]",
      "text/plain": [
       "<Figure size 576x288 with 1 Axes>"
      ]
     },
     "metadata": {},
     "output_type": "display_data"
    }
   ],
   "source": [
    "age_group_number_sum.plot.pie(\n",
    "    title = \"Age Distribution of Reviewers\",\n",
    "    y = 'Number',\n",
    "    figsize=(8,4),\n",
    "    labels=None,\n",
    "    autopct=\"%1.1f%%\",\n",
    "    )"
   ]
  },
  {
   "cell_type": "markdown",
   "id": "44a72a72",
   "metadata": {},
   "source": [
    "#### 3.1.2. Rating Tendency by Age\n",
    "Then we will use sub-bar plots to cross-analyze whether different age groups have different film-rating tendencies."
   ]
  },
  {
   "cell_type": "markdown",
   "id": "962f7f99",
   "metadata": {},
   "source": [
    "##### 3.1.2.1. Sub-bar Plot\n"
   ]
  },
  {
   "cell_type": "code",
   "execution_count": null,
   "id": "e86f4773",
   "metadata": {},
   "outputs": [
    {
     "data": {
      "text/plain": [
       "Text(0.5, 0, 'Ratings')"
      ]
     },
     "metadata": {},
     "output_type": "display_data"
    },
    {
     "data": {
      "image/png": "[encoded data removed]",
      "text/plain": [
       "<Figure size 576x720 with 5 Axes>"
      ]
     },
     "metadata": {},
     "output_type": "display_data"
    }
   ],
   "source": [
    "fig, axs = plt.subplots(5, 1, sharey=True, tight_layout=True,figsize=(8, 10))\n",
    "axs[0].hist(age_group['Rate_All Ages'],range = [0, 10],bins = 100,density = False)\n",
    "axs[0].set_title('All Ages')\n",
    "axs[1].hist(age_group['Rate_<18'],range = [0, 10],bins = 100,density = False)\n",
    "axs[1].set_title('Under 18')\n",
    "axs[2].hist(age_group['Rate_18-29'],range = [0, 10],bins = 100,density = False)\n",
    "axs[2].set_title('18-29')\n",
    "axs[3].hist(age_group['Rate_30-44'],range = [0, 10],bins = 100,density = False)\n",
    "axs[3].set_title('30-44')\n",
    "axs[4].hist(age_group['Rate_45+'],range = [0, 10],bins = 100,density = False)\n",
    "axs[4].set_title('Over 44')\n",
    "fig.suptitle('Frequency of Movies for Certain Ratings')\n",
    "plt.xlabel(\"Ratings\")\n"
   ]
  },
  {
   "cell_type": "markdown",
   "id": "962f7f99",
   "metadata": {},
   "source": [
    "##### 3.1.2.2. Bar Chart\n",
    "with different age groups on the horizontal axis and their mean ratings on the vertical axis\n"
   ]
  },
  {
   "cell_type": "code",
   "execution_count": null,
   "id": "18bf768a",
   "metadata": {},
   "outputs": [
    {
     "data": {
      "text/html": [
       "<div>\n",
       "<style scoped>\n",
       "    .dataframe tbody tr th:only-of-type {\n",
       "        vertical-align: middle;\n",
       "    }\n",
       "\n",
       "    .dataframe tbody tr th {\n",
       "        vertical-align: top;\n",
       "    }\n",
       "\n",
       "    .dataframe thead th {\n",
       "        text-align: right;\n",
       "    }\n",
       "</style>\n",
       "<table border=\"1\" class=\"dataframe\">\n",
       "  <thead>\n",
       "    <tr style=\"text-align: right;\">\n",
       "      <th></th>\n",
       "      <th>Average Rating</th>\n",
       "    </tr>\n",
       "  </thead>\n",
       "  <tbody>\n",
       "    <tr>\n",
       "      <th>All Ages</th>\n",
       "      <td>6.205394</td>\n",
       "    </tr>\n",
       "    <tr>\n",
       "      <th>Rate&lt;18</th>\n",
       "      <td>6.205256</td>\n",
       "    </tr>\n",
       "    <tr>\n",
       "      <th>18-29</th>\n",
       "      <td>6.248548</td>\n",
       "    </tr>\n",
       "    <tr>\n",
       "      <th>30-44</th>\n",
       "      <td>6.167635</td>\n",
       "    </tr>\n",
       "    <tr>\n",
       "      <th>Age&gt;44</th>\n",
       "      <td>6.142877</td>\n",
       "    </tr>\n",
       "  </tbody>\n",
       "</table>\n",
       "</div>"
      ],
      "text/plain": [
       "          Average Rating\n",
       "All Ages        6.205394\n",
       "Rate<18         6.205256\n",
       "18-29           6.248548\n",
       "30-44           6.167635\n",
       "Age>44          6.142877"
      ]
     },
     "metadata": {},
     "output_type": "display_data"
    }
   ],
   "source": [
    "age_group_number_mean = pd.DataFrame({\"Average Rating\": age_group[['Rate_All Ages','Rate_<18','Rate_18-29','Rate_30-44','Rate_45+']].mean(axis=0)})\n",
    "age_group_number_mean = age_group_number_mean.rename(index={'Rate_All Ages':'All Ages','Rate_<18': \"Rate<18\", 'Rate_18-29': \"18-29\", 'Rate_30-44': \"30-44\",'Rate_45+':\"Age>44\"})\n",
    "age_group_number_mean"
   ]
  },
  {
   "cell_type": "code",
   "execution_count": null,
   "id": "ec46e6c8",
   "metadata": {},
   "outputs": [
    {
     "data": {
      "text/plain": [
       "(6.0, 6.3)"
      ]
     },
     "metadata": {},
     "output_type": "display_data"
    },
    {
     "data": {
      "image/png": "[encoded data removed]",
      "text/plain": [
       "<Figure size 576x288 with 1 Axes>"
      ]
     },
     "metadata": {},
     "output_type": "display_data"
    }
   ],
   "source": [
    "age_group_number_mean.plot(\n",
    "    title = \"Average Ratings of Different Age Groups\",\n",
    "    kind = 'bar',\n",
    "    figsize = (8,4),\n",
    "    ).set_ylabel(\"Ratings\")\n",
    "plt.ylim([6,6.3])"
   ]
  },
  {
   "cell_type": "markdown",
   "id": "74650573",
   "metadata": {},
   "source": [
    "### 3.2. Gender"
   ]
  },
  {
   "cell_type": "code",
   "execution_count": null,
   "id": "1b2c1cc7",
   "metadata": {},
   "outputs": [
    {
     "data": {
      "text/html": [
       "<div>\n",
       "<style scoped>\n",
       "    .dataframe tbody tr th:only-of-type {\n",
       "        vertical-align: middle;\n",
       "    }\n",
       "\n",
       "    .dataframe tbody tr th {\n",
       "        vertical-align: top;\n",
       "    }\n",
       "\n",
       "    .dataframe thead th {\n",
       "        text-align: right;\n",
       "    }\n",
       "</style>\n",
       "<table border=\"1\" class=\"dataframe\">\n",
       "  <thead>\n",
       "    <tr style=\"text-align: right;\">\n",
       "      <th></th>\n",
       "      <th>Name</th>\n",
       "      <th>Year</th>\n",
       "      <th>Rating</th>\n",
       "      <th>User_Type</th>\n",
       "      <th>vote10</th>\n",
       "      <th>vote9</th>\n",
       "      <th>vote8</th>\n",
       "      <th>vote7</th>\n",
       "      <th>vote6</th>\n",
       "      <th>vote5</th>\n",
       "      <th>vote4</th>\n",
       "      <th>vote3</th>\n",
       "      <th>vote2</th>\n",
       "      <th>vote1</th>\n",
       "    </tr>\n",
       "  </thead>\n",
       "  <tbody>\n",
       "    <tr>\n",
       "      <th>0</th>\n",
       "      <td>The Lighthouse</td>\n",
       "      <td>2019</td>\n",
       "      <td>7.5</td>\n",
       "      <td>IMDb Users</td>\n",
       "      <td>21413</td>\n",
       "      <td>29629</td>\n",
       "      <td>48256</td>\n",
       "      <td>37827</td>\n",
       "      <td>18885</td>\n",
       "      <td>9223</td>\n",
       "      <td>4841</td>\n",
       "      <td>3132</td>\n",
       "      <td>2268</td>\n",
       "      <td>3743</td>\n",
       "    </tr>\n",
       "    <tr>\n",
       "      <th>1</th>\n",
       "      <td>A Quiet Place</td>\n",
       "      <td>2018</td>\n",
       "      <td>7.5</td>\n",
       "      <td>IMDb Users</td>\n",
       "      <td>54103</td>\n",
       "      <td>75677</td>\n",
       "      <td>152430</td>\n",
       "      <td>118066</td>\n",
       "      <td>47978</td>\n",
       "      <td>18678</td>\n",
       "      <td>8604</td>\n",
       "      <td>5048</td>\n",
       "      <td>3367</td>\n",
       "      <td>5649</td>\n",
       "    </tr>\n",
       "    <tr>\n",
       "      <th>2</th>\n",
       "      <td>The Conjuring</td>\n",
       "      <td>2013</td>\n",
       "      <td>7.5</td>\n",
       "      <td>IMDb Users</td>\n",
       "      <td>61822</td>\n",
       "      <td>70986</td>\n",
       "      <td>145724</td>\n",
       "      <td>120266</td>\n",
       "      <td>48014</td>\n",
       "      <td>17467</td>\n",
       "      <td>7025</td>\n",
       "      <td>3644</td>\n",
       "      <td>2187</td>\n",
       "      <td>3614</td>\n",
       "    </tr>\n",
       "    <tr>\n",
       "      <th>3</th>\n",
       "      <td>American Psycho</td>\n",
       "      <td>2000</td>\n",
       "      <td>7.6</td>\n",
       "      <td>IMDb Users</td>\n",
       "      <td>62803</td>\n",
       "      <td>84728</td>\n",
       "      <td>168004</td>\n",
       "      <td>131072</td>\n",
       "      <td>51486</td>\n",
       "      <td>19245</td>\n",
       "      <td>8347</td>\n",
       "      <td>4427</td>\n",
       "      <td>2934</td>\n",
       "      <td>4419</td>\n",
       "    </tr>\n",
       "    <tr>\n",
       "      <th>4</th>\n",
       "      <td>Psycho</td>\n",
       "      <td>1960</td>\n",
       "      <td>8.5</td>\n",
       "      <td>IMDb Users</td>\n",
       "      <td>154176</td>\n",
       "      <td>178106</td>\n",
       "      <td>173392</td>\n",
       "      <td>81863</td>\n",
       "      <td>26755</td>\n",
       "      <td>10529</td>\n",
       "      <td>4706</td>\n",
       "      <td>2575</td>\n",
       "      <td>1848</td>\n",
       "      <td>4906</td>\n",
       "    </tr>\n",
       "  </tbody>\n",
       "</table>\n",
       "</div>"
      ],
      "text/plain": [
       "              Name  Year  Rating   User_Type  vote10   vote9   vote8   vote7  \\\n",
       "0   The Lighthouse  2019     7.5  IMDb Users   21413   29629   48256   37827   \n",
       "1    A Quiet Place  2018     7.5  IMDb Users   54103   75677  152430  118066   \n",
       "2    The Conjuring  2013     7.5  IMDb Users   61822   70986  145724  120266   \n",
       "3  American Psycho  2000     7.6  IMDb Users   62803   84728  168004  131072   \n",
       "4           Psycho  1960     8.5  IMDb Users  154176  178106  173392   81863   \n",
       "\n",
       "   vote6  vote5  vote4  vote3  vote2  vote1  \n",
       "0  18885   9223   4841   3132   2268   3743  \n",
       "1  47978  18678   8604   5048   3367   5649  \n",
       "2  48014  17467   7025   3644   2187   3614  \n",
       "3  51486  19245   8347   4427   2934   4419  \n",
       "4  26755  10529   4706   2575   1848   4906  "
      ]
     },
     "metadata": {},
     "output_type": "display_data"
    }
   ],
   "source": [
    "male = pd.read_csv('/Users/clairefan/Documents/GitHub/Project-imdb-JingyiFan4258/imdb/malespider.csv')\n",
    "female = pd.read_csv('/Users/clairefan/Documents/GitHub/Project-imdb-JingyiFan4258/imdb/femalespider.csv')\n",
    "all_rate = pd.read_csv('/Users/clairefan/Documents/GitHub/Project-imdb-JingyiFan4258/imdb/allrate.csv')\n",
    "all_rate.head()\n",
    "#female.head()"
   ]
  },
  {
   "cell_type": "markdown",
   "id": "fc3c3556",
   "metadata": {},
   "source": [
    "#### 3.2.1. Reviewer Gender Ratio\n",
    "First, we want to use a pie chart to show the gender ratio of horror movie reviewers."
   ]
  },
  {
   "cell_type": "code",
   "execution_count": null,
   "id": "924698d5",
   "metadata": {},
   "outputs": [
    {
     "data": {
      "text/html": [
       "<div>\n",
       "<style scoped>\n",
       "    .dataframe tbody tr th:only-of-type {\n",
       "        vertical-align: middle;\n",
       "    }\n",
       "\n",
       "    .dataframe tbody tr th {\n",
       "        vertical-align: top;\n",
       "    }\n",
       "\n",
       "    .dataframe thead th {\n",
       "        text-align: right;\n",
       "    }\n",
       "</style>\n",
       "<table border=\"1\" class=\"dataframe\">\n",
       "  <thead>\n",
       "    <tr style=\"text-align: right;\">\n",
       "      <th></th>\n",
       "      <th>Number</th>\n",
       "    </tr>\n",
       "  </thead>\n",
       "  <tbody>\n",
       "    <tr>\n",
       "      <th>Female</th>\n",
       "      <td>8764216</td>\n",
       "    </tr>\n",
       "    <tr>\n",
       "      <th>Male</th>\n",
       "      <td>43032012</td>\n",
       "    </tr>\n",
       "  </tbody>\n",
       "</table>\n",
       "</div>"
      ],
      "text/plain": [
       "          Number\n",
       "Female   8764216\n",
       "Male    43032012"
      ]
     },
     "metadata": {},
     "output_type": "display_data"
    }
   ],
   "source": [
    "gender_ratio = pd.DataFrame({\"Number\": [female['Number_Female'].sum(axis=0),male['Number_Male'].sum(axis=0)]},\n",
    "                            index=['Female','Male'])\n",
    "gender_ratio"
   ]
  },
  {
   "cell_type": "code",
   "execution_count": null,
   "id": "34823625",
   "metadata": {},
   "outputs": [
    {
     "data": {
      "text/plain": [
       "<AxesSubplot:title={'center':'Gender Ratio of Reviewers'}, ylabel='Number'>"
      ]
     },
     "metadata": {},
     "output_type": "display_data"
    },
    {
     "data": {
      "image/png": "[encoded data removed]",
      "text/plain": [
       "<Figure size 576x288 with 1 Axes>"
      ]
     },
     "metadata": {},
     "output_type": "display_data"
    }
   ],
   "source": [
    "gender_ratio.plot.pie(\n",
    "    title = \"Gender Ratio of Reviewers\",\n",
    "    y = 'Number',\n",
    "    figsize=(8,4),\n",
    "    labels=None,\n",
    "    autopct=\"%1.1f%%\",\n",
    "    )"
   ]
  },
  {
   "cell_type": "markdown",
   "id": "fc3c3556",
   "metadata": {},
   "source": [
    "#### 3.2.2. Rating Tendency by Gender\n",
    "Similarly, we will use bar plots to display the rating tendencies of each gender. "
   ]
  },
  {
   "cell_type": "markdown",
   "id": "962f7f99",
   "metadata": {},
   "source": [
    "##### 3.2.2.1. Sub-bar Plot 1(movie frequency)\n",
    "like 3.1.2.1, value_count rate, rate_male and rate_female, y axis be proportion"
   ]
  },
  {
   "cell_type": "markdown",
   "id": "5389c4ed",
   "metadata": {},
   "source": [
    "##### 3.2.2.2. Sub-bar Plot 2(people number frequency)\n",
    "like 3.1.2.1 but sum vote1~10 for male, female and all, y axis be proportion"
   ]
  },
  {
   "cell_type": "markdown",
   "id": "962f7f99",
   "metadata": {},
   "source": [
    "##### 3.2.2.3. Bar Chart\n",
    "with different genders on the horizontal axis and their mean ratings on the vertical axis\n"
   ]
  },
  {
   "cell_type": "markdown",
   "id": "74650573",
   "metadata": {},
   "source": [
    "### 3.3. Reviewer Portrait of Genre Preference\n",
    "To study which genre do people from each age group and of each gender prefer"
   ]
  },
  {
   "cell_type": "markdown",
   "id": "20e7128e",
   "metadata": {},
   "source": [
    "#### 3.3.1. Age & Genre"
   ]
  },
  {
   "cell_type": "markdown",
   "id": "20e7128e",
   "metadata": {},
   "source": [
    "#### 3.3.2. Gender & Genre"
   ]
  },
  {
   "cell_type": "markdown",
   "id": "0bfbd98e",
   "metadata": {},
   "source": [
    "## 4. Which Country Produces the Most Good Horror Movies?\n",
    "To analyze which country produces the most high-rated horror films, we will produce bar plots for each country to count the number of films by rating value. In each plot, the x-axis and y-axis will be film rating values and counts of films, respectively. The figures then could help us to answer questions such as whether the US produced more horror movies rated over 4 or below 3, or whether Germany released more low-rated movies than Japan."
   ]
  },
  {
   "cell_type": "code",
   "execution_count": 134,
   "id": "6bccab30",
   "metadata": {},
   "outputs": [
    {
     "data": {
      "text/html": [
       "<div>\n",
       "<style scoped>\n",
       "    .dataframe tbody tr th:only-of-type {\n",
       "        vertical-align: middle;\n",
       "    }\n",
       "\n",
       "    .dataframe tbody tr th {\n",
       "        vertical-align: top;\n",
       "    }\n",
       "\n",
       "    .dataframe thead th {\n",
       "        text-align: right;\n",
       "    }\n",
       "</style>\n",
       "<table border=\"1\" class=\"dataframe\">\n",
       "  <thead>\n",
       "    <tr style=\"text-align: right;\">\n",
       "      <th></th>\n",
       "      <th>Name</th>\n",
       "      <th>Year</th>\n",
       "      <th>Rate</th>\n",
       "      <th>Genre</th>\n",
       "      <th>Country</th>\n",
       "    </tr>\n",
       "  </thead>\n",
       "  <tbody>\n",
       "    <tr>\n",
       "      <th>0</th>\n",
       "      <td>Deep Red</td>\n",
       "      <td>1975</td>\n",
       "      <td>7.6</td>\n",
       "      <td>Horror,Mystery,Thriller</td>\n",
       "      <td>Italy</td>\n",
       "    </tr>\n",
       "    <tr>\n",
       "      <th>1</th>\n",
       "      <td>The Wailing</td>\n",
       "      <td>2016</td>\n",
       "      <td>7.5</td>\n",
       "      <td>Horror,Mystery,Thriller</td>\n",
       "      <td>South Korea</td>\n",
       "    </tr>\n",
       "    <tr>\n",
       "      <th>2</th>\n",
       "      <td>Psycho</td>\n",
       "      <td>1960</td>\n",
       "      <td>8.5</td>\n",
       "      <td>Horror,Mystery,Thriller</td>\n",
       "      <td>United States</td>\n",
       "    </tr>\n",
       "    <tr>\n",
       "      <th>3</th>\n",
       "      <td>A Quiet Place</td>\n",
       "      <td>2018</td>\n",
       "      <td>7.5</td>\n",
       "      <td>Drama,Horror,Sci-Fi</td>\n",
       "      <td>United States</td>\n",
       "    </tr>\n",
       "    <tr>\n",
       "      <th>4</th>\n",
       "      <td>The Lighthouse</td>\n",
       "      <td>2019</td>\n",
       "      <td>7.5</td>\n",
       "      <td>Drama,Fantasy,Horror,Mystery</td>\n",
       "      <td>Canada</td>\n",
       "    </tr>\n",
       "  </tbody>\n",
       "</table>\n",
       "</div>"
      ],
      "text/plain": [
       "             Name  Year  Rate                         Genre        Country\n",
       "0        Deep Red  1975   7.6       Horror,Mystery,Thriller          Italy\n",
       "1     The Wailing  2016   7.5       Horror,Mystery,Thriller    South Korea\n",
       "2          Psycho  1960   8.5       Horror,Mystery,Thriller  United States\n",
       "3   A Quiet Place  2018   7.5           Drama,Horror,Sci-Fi  United States\n",
       "4  The Lighthouse  2019   7.5  Drama,Fantasy,Horror,Mystery         Canada"
      ]
     },
     "execution_count": 134,
     "metadata": {},
     "output_type": "execute_result"
    }
   ],
   "source": [
    "mainpage = pd.read_csv(\"/Users/Annie/Documents/GitHub/horror_film/mainpage.csv\")\n",
    "mainpage.head()"
   ]
  },
  {
   "cell_type": "code",
   "execution_count": 135,
   "id": "13f4a5ae",
   "metadata": {},
   "outputs": [
    {
     "data": {
      "text/html": [
       "<div>\n",
       "<style scoped>\n",
       "    .dataframe tbody tr th:only-of-type {\n",
       "        vertical-align: middle;\n",
       "    }\n",
       "\n",
       "    .dataframe tbody tr th {\n",
       "        vertical-align: top;\n",
       "    }\n",
       "\n",
       "    .dataframe thead th {\n",
       "        text-align: right;\n",
       "    }\n",
       "</style>\n",
       "<table border=\"1\" class=\"dataframe\">\n",
       "  <thead>\n",
       "    <tr style=\"text-align: right;\">\n",
       "      <th></th>\n",
       "      <th>Name</th>\n",
       "    </tr>\n",
       "    <tr>\n",
       "      <th>Country</th>\n",
       "      <th></th>\n",
       "    </tr>\n",
       "  </thead>\n",
       "  <tbody>\n",
       "    <tr>\n",
       "      <th>South Korea</th>\n",
       "      <td>9</td>\n",
       "    </tr>\n",
       "    <tr>\n",
       "      <th>Italy</th>\n",
       "      <td>9</td>\n",
       "    </tr>\n",
       "    <tr>\n",
       "      <th>Australia</th>\n",
       "      <td>11</td>\n",
       "    </tr>\n",
       "    <tr>\n",
       "      <th>Japan</th>\n",
       "      <td>13</td>\n",
       "    </tr>\n",
       "    <tr>\n",
       "      <th>Spain</th>\n",
       "      <td>14</td>\n",
       "    </tr>\n",
       "    <tr>\n",
       "      <th>Germany</th>\n",
       "      <td>16</td>\n",
       "    </tr>\n",
       "    <tr>\n",
       "      <th>France</th>\n",
       "      <td>19</td>\n",
       "    </tr>\n",
       "    <tr>\n",
       "      <th>Canada</th>\n",
       "      <td>53</td>\n",
       "    </tr>\n",
       "    <tr>\n",
       "      <th>United Kingdom</th>\n",
       "      <td>65</td>\n",
       "    </tr>\n",
       "    <tr>\n",
       "      <th>United States</th>\n",
       "      <td>488</td>\n",
       "    </tr>\n",
       "  </tbody>\n",
       "</table>\n",
       "</div>"
      ],
      "text/plain": [
       "                Name\n",
       "Country             \n",
       "South Korea        9\n",
       "Italy              9\n",
       "Australia         11\n",
       "Japan             13\n",
       "Spain             14\n",
       "Germany           16\n",
       "France            19\n",
       "Canada            53\n",
       "United Kingdom    65\n",
       "United States    488"
      ]
     },
     "execution_count": 135,
     "metadata": {},
     "output_type": "execute_result"
    }
   ],
   "source": [
    "gb_country = mainpage[['Name', 'Country']].groupby('Country').count().sort_values(by='Name')\n",
    "gb_country.tail(10)"
   ]
  },
  {
   "cell_type": "code",
   "execution_count": 196,
   "id": "8a2a96e2",
   "metadata": {},
   "outputs": [
    {
     "data": {
      "text/plain": [
       "<AxesSubplot:title={'center':'Top 5 Countries Released the Most Horror Films'}, xlabel='Country', ylabel='Total Film Released'>"
      ]
     },
     "execution_count": 196,
     "metadata": {},
     "output_type": "execute_result"
    },
    {
     "data": {
      "image/png": "[encoded data removed]",
      "text/plain": [
       "<Figure size 576x360 with 1 Axes>"
      ]
     },
     "metadata": {
      "needs_background": "light"
     },
     "output_type": "display_data"
    }
   ],
   "source": [
    "gb_country = mainpage[['Name', 'Country']].groupby('Country').count().sort_values(by='Name')\n",
    "gb_country.reset_index().rename(columns={'Name' : 'Count'})[-5:].plot(\n",
    "    x = 'Country',\n",
    "    kind = 'bar',\n",
    "    xlabel = 'Country',\n",
    "    ylabel = 'Total Film Released',\n",
    "    title = 'Top 5 Countries Released the Most Horror Films',\n",
    "    figsize = (8,5)\n",
    ")"
   ]
  },
  {
   "cell_type": "code",
   "execution_count": 197,
   "id": "9b8a437c",
   "metadata": {},
   "outputs": [
    {
     "data": {
      "text/plain": [
       "<AxesSubplot:title={'center':'Proportion of Released Horror Films by Country'}, ylabel='Count'>"
      ]
     },
     "execution_count": 197,
     "metadata": {},
     "output_type": "execute_result"
    },
    {
     "data": {
      "image/png": "[encoded data removed]",
      "text/plain": [
       "<Figure size 720x720 with 1 Axes>"
      ]
     },
     "metadata": {},
     "output_type": "display_data"
    }
   ],
   "source": [
    "# pie chart: which country produces the highest fraction of horror films\n",
    "# only shows tags for top 5 highest proportion\n",
    "gb_country = mainpage[['Name', 'Country']].groupby('Country').count().sort_values(by='Name')\n",
    "gb_country.reset_index().rename(columns={'Name' : 'Count'}).set_index('Country').plot(\n",
    "    kind = 'pie',\n",
    "    y = 'Count',\n",
    "    legend = False,\n",
    "    title = 'Proportion of Released Horror Films by Country',\n",
    "    colors = ['green', 'blue', 'orange', 'yellow', 'pink', 'grey', 'purple'],\n",
    "    figsize = (10,10)\n",
    "    )"
   ]
  },
  {
   "cell_type": "code",
   "execution_count": 190,
   "id": "46aff925",
   "metadata": {},
   "outputs": [
    {
     "data": {
      "text/plain": [
       "([<matplotlib.patches.Wedge at 0x7f9389e0a760>,\n",
       "  <matplotlib.patches.Wedge at 0x7f9389e0ac40>],\n",
       " [Text(1.0999898137092685, 0.004733892251518024, 'Country'),\n",
       "  Text(1.0999083245153451, 0.014201326059430457, 'Name')])"
      ]
     },
     "execution_count": 190,
     "metadata": {},
     "output_type": "execute_result"
    },
    {
     "data": {
      "image/png": "[encoded data removed]",
      "text/plain": [
       "<Figure size 432x288 with 1 Axes>"
      ]
     },
     "metadata": {},
     "output_type": "display_data"
    }
   ],
   "source": [
    "labels = gb_country.reset_index()\n",
    "sizes = gb_country.reset_index().rename(columns={'Name' : 'Count'})['Count']\n",
    "colours = dict(zip(labels, plt.cm.tab20.colors[:len(labels)]))\n",
    "plt.pie(sizes,\n",
    "          labels=labels,\n",
    "          colors=[colours[key] for key in labels]\n",
    "          )"
   ]
  },
  {
   "cell_type": "code",
   "execution_count": 186,
   "id": "0e8ba46e",
   "metadata": {},
   "outputs": [
    {
     "data": {
      "text/html": [
       "<div>\n",
       "<style scoped>\n",
       "    .dataframe tbody tr th:only-of-type {\n",
       "        vertical-align: middle;\n",
       "    }\n",
       "\n",
       "    .dataframe tbody tr th {\n",
       "        vertical-align: top;\n",
       "    }\n",
       "\n",
       "    .dataframe thead th {\n",
       "        text-align: right;\n",
       "    }\n",
       "</style>\n",
       "<table border=\"1\" class=\"dataframe\">\n",
       "  <thead>\n",
       "    <tr style=\"text-align: right;\">\n",
       "      <th></th>\n",
       "      <th>Name</th>\n",
       "    </tr>\n",
       "    <tr>\n",
       "      <th>Country</th>\n",
       "      <th></th>\n",
       "    </tr>\n",
       "  </thead>\n",
       "  <tbody>\n",
       "    <tr>\n",
       "      <th>West Germany</th>\n",
       "      <td>1</td>\n",
       "    </tr>\n",
       "    <tr>\n",
       "      <th>Mexico</th>\n",
       "      <td>1</td>\n",
       "    </tr>\n",
       "    <tr>\n",
       "      <th>Serbia</th>\n",
       "      <td>1</td>\n",
       "    </tr>\n",
       "    <tr>\n",
       "      <th>Peru</th>\n",
       "      <td>1</td>\n",
       "    </tr>\n",
       "    <tr>\n",
       "      <th>Sweden</th>\n",
       "      <td>1</td>\n",
       "    </tr>\n",
       "    <tr>\n",
       "      <th>Finland</th>\n",
       "      <td>1</td>\n",
       "    </tr>\n",
       "    <tr>\n",
       "      <th>Hong Kong</th>\n",
       "      <td>1</td>\n",
       "    </tr>\n",
       "    <tr>\n",
       "      <th>Czech Republic</th>\n",
       "      <td>1</td>\n",
       "    </tr>\n",
       "    <tr>\n",
       "      <th>Thailand</th>\n",
       "      <td>1</td>\n",
       "    </tr>\n",
       "    <tr>\n",
       "      <th>Austria</th>\n",
       "      <td>1</td>\n",
       "    </tr>\n",
       "    <tr>\n",
       "      <th>Egypt</th>\n",
       "      <td>1</td>\n",
       "    </tr>\n",
       "    <tr>\n",
       "      <th>Denmark</th>\n",
       "      <td>2</td>\n",
       "    </tr>\n",
       "    <tr>\n",
       "      <th>Ireland</th>\n",
       "      <td>2</td>\n",
       "    </tr>\n",
       "    <tr>\n",
       "      <th>Russia</th>\n",
       "      <td>2</td>\n",
       "    </tr>\n",
       "    <tr>\n",
       "      <th>Netherlands</th>\n",
       "      <td>3</td>\n",
       "    </tr>\n",
       "    <tr>\n",
       "      <th>Norway</th>\n",
       "      <td>3</td>\n",
       "    </tr>\n",
       "    <tr>\n",
       "      <th>India</th>\n",
       "      <td>4</td>\n",
       "    </tr>\n",
       "    <tr>\n",
       "      <th>New Zealand</th>\n",
       "      <td>6</td>\n",
       "    </tr>\n",
       "    <tr>\n",
       "      <th>South Korea</th>\n",
       "      <td>9</td>\n",
       "    </tr>\n",
       "    <tr>\n",
       "      <th>Italy</th>\n",
       "      <td>9</td>\n",
       "    </tr>\n",
       "    <tr>\n",
       "      <th>Australia</th>\n",
       "      <td>11</td>\n",
       "    </tr>\n",
       "    <tr>\n",
       "      <th>Japan</th>\n",
       "      <td>13</td>\n",
       "    </tr>\n",
       "    <tr>\n",
       "      <th>Spain</th>\n",
       "      <td>14</td>\n",
       "    </tr>\n",
       "    <tr>\n",
       "      <th>Germany</th>\n",
       "      <td>16</td>\n",
       "    </tr>\n",
       "    <tr>\n",
       "      <th>France</th>\n",
       "      <td>19</td>\n",
       "    </tr>\n",
       "    <tr>\n",
       "      <th>Canada</th>\n",
       "      <td>53</td>\n",
       "    </tr>\n",
       "    <tr>\n",
       "      <th>United Kingdom</th>\n",
       "      <td>65</td>\n",
       "    </tr>\n",
       "    <tr>\n",
       "      <th>United States</th>\n",
       "      <td>488</td>\n",
       "    </tr>\n",
       "  </tbody>\n",
       "</table>\n",
       "</div>"
      ],
      "text/plain": [
       "                Name\n",
       "Country             \n",
       "West Germany       1\n",
       "Mexico             1\n",
       "Serbia             1\n",
       "Peru               1\n",
       "Sweden             1\n",
       "Finland            1\n",
       "Hong Kong          1\n",
       "Czech Republic     1\n",
       "Thailand           1\n",
       "Austria            1\n",
       "Egypt              1\n",
       "Denmark            2\n",
       "Ireland            2\n",
       "Russia             2\n",
       "Netherlands        3\n",
       "Norway             3\n",
       "India              4\n",
       "New Zealand        6\n",
       "South Korea        9\n",
       "Italy              9\n",
       "Australia         11\n",
       "Japan             13\n",
       "Spain             14\n",
       "Germany           16\n",
       "France            19\n",
       "Canada            53\n",
       "United Kingdom    65\n",
       "United States    488"
      ]
     },
     "execution_count": 186,
     "metadata": {},
     "output_type": "execute_result"
    }
   ],
   "source": [
    "gb_country"
   ]
  },
  {
   "cell_type": "code",
   "execution_count": 138,
   "id": "3f38dbb7",
   "metadata": {},
   "outputs": [
    {
     "data": {
      "text/plain": [
       "<AxesSubplot:ylabel='Count'>"
      ]
     },
     "execution_count": 138,
     "metadata": {},
     "output_type": "execute_result"
    },
    {
     "data": {
      "image/png": "[encoded data removed]",
      "text/plain": [
       "<Figure size 432x288 with 1 Axes>"
      ]
     },
     "metadata": {},
     "output_type": "display_data"
    }
   ],
   "source": [
    "from matplotlib import pyplot as plt\n",
    "gb_country.reset_index().rename(columns={'Name' : 'Count'}).set_index('Country').plot.pie(\n",
    "    y = 'Count',\n",
    "    legend = False,\n",
    "    autopct=lambda p: format(p, '.1f') if p > 10 else None\n",
    "    )"
   ]
  },
  {
   "cell_type": "markdown",
   "id": "0881226e",
   "metadata": {},
   "source": [
    "Here, we plot the top 5 countries that produces the most films: the United States, the United Kingdom, Canada, France, and Germany."
   ]
  },
  {
   "cell_type": "markdown",
   "id": "83c2dbd6",
   "metadata": {},
   "source": [
    "### 1. The United States"
   ]
  },
  {
   "cell_type": "code",
   "execution_count": 139,
   "id": "f7bdbde4",
   "metadata": {},
   "outputs": [
    {
     "data": {
      "text/plain": [
       "<AxesSubplot:ylabel='Density'>"
      ]
     },
     "execution_count": 139,
     "metadata": {},
     "output_type": "execute_result"
    },
    {
     "data": {
      "image/png": "[encoded data removed]",
      "text/plain": [
       "<Figure size 432x288 with 1 Axes>"
      ]
     },
     "metadata": {
      "needs_background": "light"
     },
     "output_type": "display_data"
    }
   ],
   "source": [
    "# US = mainpage.query('Country == \"United States\"')#[['Rate', 'Country']].groupby('Rate').count().reset_index().rename(columns = {'Country' : 'Count'})\n",
    "# US['Rate'].plot.kde()"
   ]
  },
  {
   "cell_type": "code",
   "execution_count": 224,
   "id": "ad91aac6",
   "metadata": {},
   "outputs": [
    {
     "data": {
      "image/png": "[encoded data removed]",
      "text/plain": [
       "<Figure size 432x288 with 1 Axes>"
      ]
     },
     "metadata": {
      "needs_background": "light"
     },
     "output_type": "display_data"
    }
   ],
   "source": [
    "fig, ax = plt.subplots(1, 1)\n",
    "ax.hist(mainpage.query('Country == \"United States\"')['Rate'], range = [0, 10],bins = 10,density = True)\n",
    "ax.set_title(\"Frequency of Horror Films Released by Rating Value: the United States\")\n",
    "ax.set_xlabel('Rating Value')\n",
    "ax.set_ylabel('Frequency')\n",
    "plt.show()\n",
    "\n",
    "\n",
    "# # Make some labels.\n",
    "# rects = ax.patches\n",
    "# labels = [\"label%d\" % i for i in range(len(rects))]\n",
    "  \n",
    "# for rect, label in zip(rects, labels):\n",
    "#     height = rect.get_height()\n",
    "#     ax.text(rect.get_x() + rect.get_width() / 2, height+0.01, label,\n",
    "#             ha='center', va='bottom')\n",
    "\n",
    "\n"
   ]
  },
  {
   "cell_type": "code",
   "execution_count": 252,
   "id": "e9ba4966",
   "metadata": {},
   "outputs": [],
   "source": [
    "def add_value_labels(ax, spacing=5):\n",
    "    \"\"\"Add labels to the end of each bar in a bar chart.\n",
    "\n",
    "    Arguments:\n",
    "        ax (matplotlib.axes.Axes): The matplotlib object containing the axes\n",
    "            of the plot to annotate.\n",
    "        spacing (int): The distance between the labels and the bars.\n",
    "    \"\"\"\n",
    "\n",
    "    # For each bar: Place a label\n",
    "    for rect in ax.patches:\n",
    "        # Get X and Y placement of label from rect.\n",
    "        y_value = rect.get_height()\n",
    "        x_value = rect.get_x() + rect.get_width() / 2\n",
    "\n",
    "        # Number of points between bar and label. Change to your liking.\n",
    "        space = spacing\n",
    "        # Vertical alignment for positive values\n",
    "        va = 'bottom'\n",
    "\n",
    "        # # If value of bar is negative: Place label below bar\n",
    "        # if y_value < 0:\n",
    "        #     # Invert space to place label below\n",
    "        #     space *= -1\n",
    "        #     # Vertically align label at top\n",
    "        #     va = 'top'\n",
    "\n",
    "        # If value of bar is greater than 0.5: Adjust label location\n",
    "        if y_value > 0.5:\n",
    "            space = spacing - 20\n",
    "            # Vertically align label at top\n",
    "            va = 'bottom'\n",
    "\n",
    "        # Use Y value as label and format number with one decimal place, if Y is positive (nonzero)\n",
    "        label = \"{:.2f}\".format(y_value) if y_value >0 else None ######### 改成百分号显示\n",
    "\n",
    "        # Create annotation\n",
    "        ax.annotate(\n",
    "            label,                      # Use `label` as label\n",
    "            (x_value, y_value),         # Place label at end of the bar\n",
    "            xytext=(0, space),          # Vertically shift label by `space`\n",
    "            textcoords=\"offset points\", # Interpret `xytext` as offset in points\n",
    "            ha='center',                # Horizontally center label\n",
    "            va=va)                      # Vertically align label differently for\n",
    "                                        # positive and negative values.\n",
    "\n"
   ]
  },
  {
   "cell_type": "code",
   "execution_count": 254,
   "id": "0e47be32",
   "metadata": {},
   "outputs": [
    {
     "data": {
      "image/png": "[encoded data removed]",
      "text/plain": [
       "<Figure size 576x720 with 5 Axes>"
      ]
     },
     "metadata": {
      "needs_background": "light"
     },
     "output_type": "display_data"
    }
   ],
   "source": [
    "fig, ax = plt.subplots(5, 1, sharey=True, tight_layout=True,figsize=(8, 10))\n",
    "fig.suptitle('Frequency of Horror Films Released by Rating Value')\n",
    "plt.xlabel(\"Rating Value\")\n",
    "plt.ylabel(\"Frequency\")\n",
    "\n",
    "# 1. US\n",
    "ax[0].hist(mainpage.query('Country == \"United States\"')['Rate'], range = [0, 10],bins = 10, density = True)\n",
    "ax[0].set_title(\"the United States\")\n",
    "add_value_labels(ax[0])\n",
    "\n",
    "\n",
    "# 2. UK\n",
    "ax[1].hist(mainpage.query('Country == \"United Kingdom\"')['Rate'], range = [0, 10],bins = 10, density = True)\n",
    "ax[1].set_title(\"the United Kingdom\")\n",
    "add_value_labels(ax[1])\n",
    "\n",
    "# 3. Canada\n",
    "ax[2].hist(mainpage.query('Country == \"Canada\"')['Rate'], range = [0, 10],bins = 10, density = True)\n",
    "ax[2].set_title(\"Canada\")\n",
    "add_value_labels(ax[2])\n",
    "\n",
    "# 4. France\n",
    "ax[3].hist(mainpage.query('Country == \"France\"')['Rate'], range = [0, 10],bins = 10, density = True)\n",
    "ax[3].set_title(\"France\")\n",
    "add_value_labels(ax[3])\n",
    "\n",
    "# 5. Germany\n",
    "ax[4].hist(mainpage.query('Country == \"Germany\"')['Rate'], range = [0, 10],bins = 10, density = True)\n",
    "ax[4].set_title(\"Germany\")\n",
    "add_value_labels(ax[4])"
   ]
  },
  {
   "cell_type": "markdown",
   "id": "0bfbd98e",
   "metadata": {},
   "source": [
    "## 5. Budge and Box Office\n"
   ]
  },
  {
   "cell_type": "markdown",
   "id": "912bb32d",
   "metadata": {},
   "source": [
    "### 5.1. Are the Most Profitable Films Also Highest-Rated?\n",
    "1. Calulate \"Revenue\"\n",
    "2. find top 20 films with highest revenue\n",
    "3. compare with 20 top rated films\n",
    "\n",
    "We want to obtain the difference between gross worldwide box office and budget (“revenue”) of the 723 movies, find the 20 movies with the highest revenue, and compare them with the 20 highest rated movies to analyze the relationship between the revenue and ratings. "
   ]
  },
  {
   "cell_type": "code",
   "execution_count": 150,
   "id": "4cf9d25c",
   "metadata": {},
   "outputs": [],
   "source": [
    "budget_read = pd.read_csv(\"/Users/Annie/Documents/GitHub/horror_film/budget.csv\")\n",
    "ranking = pd.read_csv(\"/Users/Annie/Documents/GitHub/horror_film/ranking.csv\")"
   ]
  },
  {
   "cell_type": "code",
   "execution_count": 155,
   "id": "d7aafcb8",
   "metadata": {},
   "outputs": [
    {
     "data": {
      "text/html": [
       "<div>\n",
       "<style scoped>\n",
       "    .dataframe tbody tr th:only-of-type {\n",
       "        vertical-align: middle;\n",
       "    }\n",
       "\n",
       "    .dataframe tbody tr th {\n",
       "        vertical-align: top;\n",
       "    }\n",
       "\n",
       "    .dataframe thead th {\n",
       "        text-align: right;\n",
       "    }\n",
       "</style>\n",
       "<table border=\"1\" class=\"dataframe\">\n",
       "  <thead>\n",
       "    <tr style=\"text-align: right;\">\n",
       "      <th></th>\n",
       "      <th>Name</th>\n",
       "      <th>Year</th>\n",
       "      <th>Rank by Rating</th>\n",
       "      <th>Rate</th>\n",
       "      <th>Revenue</th>\n",
       "    </tr>\n",
       "    <tr>\n",
       "      <th>Rank by Revenue</th>\n",
       "      <th></th>\n",
       "      <th></th>\n",
       "      <th></th>\n",
       "      <th></th>\n",
       "      <th></th>\n",
       "    </tr>\n",
       "  </thead>\n",
       "  <tbody>\n",
       "    <tr>\n",
       "      <th>1</th>\n",
       "      <td>It</td>\n",
       "      <td>2017</td>\n",
       "      <td>83</td>\n",
       "      <td>7.3</td>\n",
       "      <td>666796444</td>\n",
       "    </tr>\n",
       "    <tr>\n",
       "      <th>2</th>\n",
       "      <td>Hotel Transylvania 3: Summer Vacation</td>\n",
       "      <td>2018</td>\n",
       "      <td>346</td>\n",
       "      <td>6.3</td>\n",
       "      <td>448583774</td>\n",
       "    </tr>\n",
       "    <tr>\n",
       "      <th>3</th>\n",
       "      <td>The Exorcist</td>\n",
       "      <td>1973</td>\n",
       "      <td>11</td>\n",
       "      <td>8.0</td>\n",
       "      <td>430306145</td>\n",
       "    </tr>\n",
       "    <tr>\n",
       "      <th>4</th>\n",
       "      <td>The Meg</td>\n",
       "      <td>2018</td>\n",
       "      <td>548</td>\n",
       "      <td>5.6</td>\n",
       "      <td>400438278</td>\n",
       "    </tr>\n",
       "    <tr>\n",
       "      <th>5</th>\n",
       "      <td>Hotel Transylvania 2</td>\n",
       "      <td>2015</td>\n",
       "      <td>210</td>\n",
       "      <td>6.7</td>\n",
       "      <td>395186706</td>\n",
       "    </tr>\n",
       "    <tr>\n",
       "      <th>6</th>\n",
       "      <td>It Chapter Two</td>\n",
       "      <td>2019</td>\n",
       "      <td>266</td>\n",
       "      <td>6.5</td>\n",
       "      <td>394093228</td>\n",
       "    </tr>\n",
       "    <tr>\n",
       "      <th>7</th>\n",
       "      <td>World War Z</td>\n",
       "      <td>2013</td>\n",
       "      <td>149</td>\n",
       "      <td>7.0</td>\n",
       "      <td>350455876</td>\n",
       "    </tr>\n",
       "    <tr>\n",
       "      <th>8</th>\n",
       "      <td>The Nun</td>\n",
       "      <td>2018</td>\n",
       "      <td>609</td>\n",
       "      <td>5.3</td>\n",
       "      <td>343551694</td>\n",
       "    </tr>\n",
       "    <tr>\n",
       "      <th>9</th>\n",
       "      <td>A Quiet Place</td>\n",
       "      <td>2018</td>\n",
       "      <td>47</td>\n",
       "      <td>7.5</td>\n",
       "      <td>323952971</td>\n",
       "    </tr>\n",
       "    <tr>\n",
       "      <th>10</th>\n",
       "      <td>The Conjuring</td>\n",
       "      <td>2013</td>\n",
       "      <td>50</td>\n",
       "      <td>7.5</td>\n",
       "      <td>300290989</td>\n",
       "    </tr>\n",
       "  </tbody>\n",
       "</table>\n",
       "</div>"
      ],
      "text/plain": [
       "                                                  Name  Year  Rank by Rating  \\\n",
       "Rank by Revenue                                                                \n",
       "1                                                   It  2017              83   \n",
       "2                Hotel Transylvania 3: Summer Vacation  2018             346   \n",
       "3                                         The Exorcist  1973              11   \n",
       "4                                              The Meg  2018             548   \n",
       "5                                 Hotel Transylvania 2  2015             210   \n",
       "6                                       It Chapter Two  2019             266   \n",
       "7                                          World War Z  2013             149   \n",
       "8                                              The Nun  2018             609   \n",
       "9                                        A Quiet Place  2018              47   \n",
       "10                                       The Conjuring  2013              50   \n",
       "\n",
       "                 Rate    Revenue  \n",
       "Rank by Revenue                   \n",
       "1                 7.3  666796444  \n",
       "2                 6.3  448583774  \n",
       "3                 8.0  430306145  \n",
       "4                 5.6  400438278  \n",
       "5                 6.7  395186706  \n",
       "6                 6.5  394093228  \n",
       "7                 7.0  350455876  \n",
       "8                 5.3  343551694  \n",
       "9                 7.5  323952971  \n",
       "10                7.5  300290989  "
      ]
     },
     "execution_count": 155,
     "metadata": {},
     "output_type": "execute_result"
    }
   ],
   "source": [
    "budget = pd.merge(budget_read, ranking, on=['Name', 'Year'])\n",
    "budget['Revenue'] = budget['Gross Worldwide'] - budget['Budget']\n",
    "budget = budget.rename(columns={\"Rank\" : \"Rank by Rating\"}).sort_values(by = 'Revenue', ascending = False).set_index(\"Name\").reset_index()\n",
    "budget[\"Rank by Revenue\"] = budget.index + 1\n",
    "budget[['Name', 'Year', 'Rank by Rating', 'Rank by Revenue', 'Rate', 'Revenue']].set_index(\"Rank by Revenue\").head(10)"
   ]
  },
  {
   "cell_type": "markdown",
   "id": "912bb32d",
   "metadata": {},
   "source": [
    "### 5.2. Which Genre Is The Most Profitable?\n",
    "We will also cross-analyze the ranking based on revenue with the movies genre to see what type of horror movies people prefer to go to the movie theater."
   ]
  },
  {
   "cell_type": "code",
   "execution_count": 149,
   "id": "085df583",
   "metadata": {},
   "outputs": [
    {
     "data": {
      "text/html": [
       "<div>\n",
       "<style scoped>\n",
       "    .dataframe tbody tr th:only-of-type {\n",
       "        vertical-align: middle;\n",
       "    }\n",
       "\n",
       "    .dataframe tbody tr th {\n",
       "        vertical-align: top;\n",
       "    }\n",
       "\n",
       "    .dataframe thead th {\n",
       "        text-align: right;\n",
       "    }\n",
       "</style>\n",
       "<table border=\"1\" class=\"dataframe\">\n",
       "  <thead>\n",
       "    <tr style=\"text-align: right;\">\n",
       "      <th></th>\n",
       "      <th>Name</th>\n",
       "      <th>Year</th>\n",
       "      <th>Rate</th>\n",
       "      <th>Genre</th>\n",
       "      <th>Country</th>\n",
       "      <th>Budget</th>\n",
       "      <th>Gross Worldwide</th>\n",
       "      <th>Rank by Rating</th>\n",
       "      <th>Revenue</th>\n",
       "      <th>Rank by Revenue</th>\n",
       "      <th>Genre_list</th>\n",
       "    </tr>\n",
       "  </thead>\n",
       "  <tbody>\n",
       "    <tr>\n",
       "      <th>0</th>\n",
       "      <td>It</td>\n",
       "      <td>2017</td>\n",
       "      <td>7.3</td>\n",
       "      <td>Horror</td>\n",
       "      <td>United States</td>\n",
       "      <td>35000000</td>\n",
       "      <td>701796444</td>\n",
       "      <td>83</td>\n",
       "      <td>666796444</td>\n",
       "      <td>1</td>\n",
       "      <td>[Horror]</td>\n",
       "    </tr>\n",
       "    <tr>\n",
       "      <th>1</th>\n",
       "      <td>Hotel Transylvania 3: Summer Vacation</td>\n",
       "      <td>2018</td>\n",
       "      <td>6.3</td>\n",
       "      <td>Animation,Adventure,Comedy,Family,Fantasy,Horror</td>\n",
       "      <td>United States</td>\n",
       "      <td>80000000</td>\n",
       "      <td>528583774</td>\n",
       "      <td>346</td>\n",
       "      <td>448583774</td>\n",
       "      <td>2</td>\n",
       "      <td>[Animation, Adventure, Comedy, Family, Fantasy...</td>\n",
       "    </tr>\n",
       "    <tr>\n",
       "      <th>2</th>\n",
       "      <td>The Exorcist</td>\n",
       "      <td>1973</td>\n",
       "      <td>8.0</td>\n",
       "      <td>Horror</td>\n",
       "      <td>United States</td>\n",
       "      <td>11000000</td>\n",
       "      <td>441306145</td>\n",
       "      <td>11</td>\n",
       "      <td>430306145</td>\n",
       "      <td>3</td>\n",
       "      <td>[Horror]</td>\n",
       "    </tr>\n",
       "    <tr>\n",
       "      <th>3</th>\n",
       "      <td>The Meg</td>\n",
       "      <td>2018</td>\n",
       "      <td>5.6</td>\n",
       "      <td>Action,Horror,Sci-Fi,Thriller</td>\n",
       "      <td>United States</td>\n",
       "      <td>130000000</td>\n",
       "      <td>530438278</td>\n",
       "      <td>548</td>\n",
       "      <td>400438278</td>\n",
       "      <td>4</td>\n",
       "      <td>[Action, Horror, Sci-Fi, Thriller]</td>\n",
       "    </tr>\n",
       "    <tr>\n",
       "      <th>4</th>\n",
       "      <td>Hotel Transylvania 2</td>\n",
       "      <td>2015</td>\n",
       "      <td>6.7</td>\n",
       "      <td>Animation,Adventure,Comedy,Family,Fantasy,Horror</td>\n",
       "      <td>United States</td>\n",
       "      <td>80000000</td>\n",
       "      <td>475186706</td>\n",
       "      <td>210</td>\n",
       "      <td>395186706</td>\n",
       "      <td>5</td>\n",
       "      <td>[Animation, Adventure, Comedy, Family, Fantasy...</td>\n",
       "    </tr>\n",
       "  </tbody>\n",
       "</table>\n",
       "</div>"
      ],
      "text/plain": [
       "                                    Name  Year  Rate  \\\n",
       "0                                     It  2017   7.3   \n",
       "1  Hotel Transylvania 3: Summer Vacation  2018   6.3   \n",
       "2                           The Exorcist  1973   8.0   \n",
       "3                                The Meg  2018   5.6   \n",
       "4                   Hotel Transylvania 2  2015   6.7   \n",
       "\n",
       "                                              Genre        Country     Budget  \\\n",
       "0                                            Horror  United States   35000000   \n",
       "1  Animation,Adventure,Comedy,Family,Fantasy,Horror  United States   80000000   \n",
       "2                                            Horror  United States   11000000   \n",
       "3                     Action,Horror,Sci-Fi,Thriller  United States  130000000   \n",
       "4  Animation,Adventure,Comedy,Family,Fantasy,Horror  United States   80000000   \n",
       "\n",
       "   Gross Worldwide  Rank by Rating    Revenue  Rank by Revenue  \\\n",
       "0        701796444              83  666796444                1   \n",
       "1        528583774             346  448583774                2   \n",
       "2        441306145              11  430306145                3   \n",
       "3        530438278             548  400438278                4   \n",
       "4        475186706             210  395186706                5   \n",
       "\n",
       "                                          Genre_list  \n",
       "0                                           [Horror]  \n",
       "1  [Animation, Adventure, Comedy, Family, Fantasy...  \n",
       "2                                           [Horror]  \n",
       "3                 [Action, Horror, Sci-Fi, Thriller]  \n",
       "4  [Animation, Adventure, Comedy, Family, Fantasy...  "
      ]
     },
     "execution_count": 149,
     "metadata": {},
     "output_type": "execute_result"
    }
   ],
   "source": [
    "#convert string to list\n",
    "def stringToList(string):\n",
    "    listRes = list(string.split(\",\"))\n",
    "    return listRes\n",
    "\n",
    "budget[\"Genre_list\"] =budget.apply(lambda x : stringToList(x[\"Genre\"]),axis=1)\n",
    "budget.head()"
   ]
  },
  {
   "cell_type": "code",
   "execution_count": null,
   "id": "db466a56",
   "metadata": {},
   "outputs": [],
   "source": []
  }
 ],
 "metadata": {
  "interpreter": {
   "hash": "b5b2985c9892eb107a3576aa1739bb2ca8a808a10b25f4d7be2fa806ac6ae43f"
  },
  "kernelspec": {
   "display_name": "Python 3.7.11 64-bit ('scrapy-example': conda)",
   "language": "python",
   "name": "python3"
  },
  "language_info": {
   "codemirror_mode": {
    "name": "ipython",
    "version": 3
   },
   "file_extension": ".py",
   "mimetype": "text/x-python",
   "name": "python",
   "nbconvert_exporter": "python",
   "pygments_lexer": "ipython3",
   "version": "3.8.8"
  }
 },
 "nbformat": 4,
 "nbformat_minor": 5
}
