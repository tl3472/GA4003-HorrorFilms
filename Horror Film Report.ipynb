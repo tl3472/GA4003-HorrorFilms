{
 "cells": [
  {
   "cell_type": "markdown",
   "id": "7bc01113",
   "metadata": {},
   "source": [
    "# What Makes a Successful Horror Film?\n",
    "Group-1: Xiaofan Fan, Tianyu Li, Wenxin Zhang"
   ]
  },
  {
   "cell_type": "code",
   "execution_count": 206,
   "id": "22b8b984",
   "metadata": {},
   "outputs": [],
   "source": [
    "import pandas as pd"
   ]
  },
  {
   "cell_type": "markdown",
   "id": "ecbbdb07",
   "metadata": {},
   "source": [
    "annie's test overwrite revised by wenxin"
   ]
  },
  {
   "cell_type": "markdown",
   "id": "71b318b7",
   "metadata": {},
   "source": [
    "wenxin"
   ]
  },
  {
   "cell_type": "markdown",
   "id": "19368add",
   "metadata": {},
   "source": [
    "## File Reading and Data Cleaning\n",
    "FILE DESCRIPTION HERE!!!!!!!!!!!!"
   ]
  },
  {
   "cell_type": "code",
   "execution_count": 207,
   "id": "b461a54f",
   "metadata": {},
   "outputs": [],
   "source": [
    "# READ FILES"
   ]
  },
  {
   "cell_type": "markdown",
   "id": "fc99d4c0",
   "metadata": {},
   "source": [
    "## 1. Film Release Year & Rating\n",
    "People often think that most top-rated horror movies are the classic old movies. So, for the first part, we want to figure out whether old horror movies are better than modern horror movies."
   ]
  },
  {
   "cell_type": "code",
   "execution_count": 208,
   "id": "41520550",
   "metadata": {},
   "outputs": [
    {
     "data": {
      "text/plain": [
       "(730, 5)"
      ]
     },
     "execution_count": 208,
     "metadata": {},
     "output_type": "execute_result"
    }
   ],
   "source": [
    "mainpage = pd.read_csv(\"/Users/Annie/Documents/GitHub/horror_film/mainpage.csv\")\n",
    "mainpage.shape"
   ]
  },
  {
   "cell_type": "code",
   "execution_count": 209,
   "id": "362ab3cf",
   "metadata": {},
   "outputs": [
    {
     "data": {
      "text/plain": [
       "numpy.float64"
      ]
     },
     "execution_count": 209,
     "metadata": {},
     "output_type": "execute_result"
    }
   ],
   "source": [
    "type(mainpage['Rate'][1])"
   ]
  },
  {
   "cell_type": "code",
   "execution_count": 210,
   "id": "b1442a2d",
   "metadata": {},
   "outputs": [
    {
     "data": {
      "text/html": [
       "<div>\n",
       "<style scoped>\n",
       "    .dataframe tbody tr th:only-of-type {\n",
       "        vertical-align: middle;\n",
       "    }\n",
       "\n",
       "    .dataframe tbody tr th {\n",
       "        vertical-align: top;\n",
       "    }\n",
       "\n",
       "    .dataframe thead th {\n",
       "        text-align: right;\n",
       "    }\n",
       "</style>\n",
       "<table border=\"1\" class=\"dataframe\">\n",
       "  <thead>\n",
       "    <tr style=\"text-align: right;\">\n",
       "      <th></th>\n",
       "      <th>Name</th>\n",
       "      <th>Year</th>\n",
       "      <th>Rate</th>\n",
       "      <th>Genre</th>\n",
       "      <th>Country</th>\n",
       "    </tr>\n",
       "  </thead>\n",
       "  <tbody>\n",
       "    <tr>\n",
       "      <th>36</th>\n",
       "      <td>Raw</td>\n",
       "      <td>2016</td>\n",
       "      <td>7.0</td>\n",
       "      <td>Drama,Horror</td>\n",
       "      <td>France</td>\n",
       "    </tr>\n",
       "  </tbody>\n",
       "</table>\n",
       "</div>"
      ],
      "text/plain": [
       "   Name  Year  Rate         Genre Country\n",
       "36  Raw  2016   7.0  Drama,Horror  France"
      ]
     },
     "execution_count": 210,
     "metadata": {},
     "output_type": "execute_result"
    }
   ],
   "source": [
    "mainpage.query(\"Name == 'Raw'\")"
   ]
  },
  {
   "cell_type": "code",
   "execution_count": 211,
   "id": "d2cc6175",
   "metadata": {},
   "outputs": [
    {
     "data": {
      "text/plain": [
       "(110, 24)"
      ]
     },
     "execution_count": 211,
     "metadata": {},
     "output_type": "execute_result"
    }
   ],
   "source": [
    "malespider = pd.read_csv(\"/Users/Annie/Documents/GitHub/horror_film/malespider.csv\")\n",
    "malespider.shape"
   ]
  },
  {
   "cell_type": "code",
   "execution_count": 212,
   "id": "04058945",
   "metadata": {},
   "outputs": [
    {
     "data": {
      "text/plain": [
       "(729, 3)"
      ]
     },
     "execution_count": 212,
     "metadata": {},
     "output_type": "execute_result"
    }
   ],
   "source": [
    "ranking = pd.read_csv(\"/Users/Annie/Documents/GitHub/horror_film/ranking.csv\")\n",
    "ranking.shape"
   ]
  },
  {
   "cell_type": "code",
   "execution_count": 213,
   "id": "6f3a495b",
   "metadata": {},
   "outputs": [
    {
     "data": {
      "text/plain": [
       "Rank  Name                                  Year\n",
       "1     Psycho                                1960    1\n",
       "480   King Kong                             1976    1\n",
       "482   Escape Room: Tournament of Champions  2021    1\n",
       "483   Vivarium                              2019    1\n",
       "484   Underwater                            2020    1\n",
       "                                                   ..\n",
       "246   You're Next                           2011    1\n",
       "247   Halloween                             2018    1\n",
       "248   The Loved Ones                        2009    1\n",
       "249   Pontypool                             2008    1\n",
       "729   Manos: The Hands of Fate              1966    1\n",
       "Length: 729, dtype: int64"
      ]
     },
     "execution_count": 213,
     "metadata": {},
     "output_type": "execute_result"
    }
   ],
   "source": [
    "ranking.sort_values(['Name']).value_counts()"
   ]
  },
  {
   "cell_type": "code",
   "execution_count": 214,
   "id": "47c0c10d",
   "metadata": {},
   "outputs": [
    {
     "data": {
      "text/html": [
       "<div>\n",
       "<style scoped>\n",
       "    .dataframe tbody tr th:only-of-type {\n",
       "        vertical-align: middle;\n",
       "    }\n",
       "\n",
       "    .dataframe tbody tr th {\n",
       "        vertical-align: top;\n",
       "    }\n",
       "\n",
       "    .dataframe thead th {\n",
       "        text-align: right;\n",
       "    }\n",
       "</style>\n",
       "<table border=\"1\" class=\"dataframe\">\n",
       "  <thead>\n",
       "    <tr style=\"text-align: right;\">\n",
       "      <th></th>\n",
       "      <th>Rank</th>\n",
       "      <th>Name</th>\n",
       "      <th>Year</th>\n",
       "    </tr>\n",
       "  </thead>\n",
       "  <tbody>\n",
       "    <tr>\n",
       "      <th>562</th>\n",
       "      <td>563</td>\n",
       "      <td>Cube²: Hypercube</td>\n",
       "      <td>2002</td>\n",
       "    </tr>\n",
       "  </tbody>\n",
       "</table>\n",
       "</div>"
      ],
      "text/plain": [
       "     Rank              Name  Year\n",
       "562   563  Cube²: Hypercube  2002"
      ]
     },
     "execution_count": 214,
     "metadata": {},
     "output_type": "execute_result"
    }
   ],
   "source": [
    "ranking.query(\"Rank == 563\")"
   ]
  },
  {
   "cell_type": "code",
   "execution_count": 215,
   "id": "6d38e97d",
   "metadata": {},
   "outputs": [
    {
     "data": {
      "text/html": [
       "<div>\n",
       "<style scoped>\n",
       "    .dataframe tbody tr th:only-of-type {\n",
       "        vertical-align: middle;\n",
       "    }\n",
       "\n",
       "    .dataframe tbody tr th {\n",
       "        vertical-align: top;\n",
       "    }\n",
       "\n",
       "    .dataframe thead th {\n",
       "        text-align: right;\n",
       "    }\n",
       "</style>\n",
       "<table border=\"1\" class=\"dataframe\">\n",
       "  <thead>\n",
       "    <tr style=\"text-align: right;\">\n",
       "      <th></th>\n",
       "      <th>Name</th>\n",
       "      <th>Year</th>\n",
       "      <th>Rating</th>\n",
       "      <th>User_Type</th>\n",
       "      <th>vote10</th>\n",
       "      <th>vote9</th>\n",
       "      <th>vote8</th>\n",
       "      <th>vote7</th>\n",
       "      <th>vote6</th>\n",
       "      <th>vote5</th>\n",
       "      <th>vote4</th>\n",
       "      <th>vote3</th>\n",
       "      <th>vote2</th>\n",
       "      <th>vote1</th>\n",
       "    </tr>\n",
       "  </thead>\n",
       "  <tbody>\n",
       "    <tr>\n",
       "      <th>0</th>\n",
       "      <td>The Lighthouse</td>\n",
       "      <td>2019</td>\n",
       "      <td>7.5</td>\n",
       "      <td>IMDb Users</td>\n",
       "      <td>21413</td>\n",
       "      <td>29629</td>\n",
       "      <td>48256</td>\n",
       "      <td>37827</td>\n",
       "      <td>18885</td>\n",
       "      <td>9223</td>\n",
       "      <td>4841</td>\n",
       "      <td>3132</td>\n",
       "      <td>2268</td>\n",
       "      <td>3743</td>\n",
       "    </tr>\n",
       "    <tr>\n",
       "      <th>1</th>\n",
       "      <td>A Quiet Place</td>\n",
       "      <td>2018</td>\n",
       "      <td>7.5</td>\n",
       "      <td>IMDb Users</td>\n",
       "      <td>54103</td>\n",
       "      <td>75677</td>\n",
       "      <td>152430</td>\n",
       "      <td>118066</td>\n",
       "      <td>47978</td>\n",
       "      <td>18678</td>\n",
       "      <td>8604</td>\n",
       "      <td>5048</td>\n",
       "      <td>3367</td>\n",
       "      <td>5649</td>\n",
       "    </tr>\n",
       "    <tr>\n",
       "      <th>2</th>\n",
       "      <td>The Conjuring</td>\n",
       "      <td>2013</td>\n",
       "      <td>7.5</td>\n",
       "      <td>IMDb Users</td>\n",
       "      <td>61822</td>\n",
       "      <td>70986</td>\n",
       "      <td>145724</td>\n",
       "      <td>120266</td>\n",
       "      <td>48014</td>\n",
       "      <td>17467</td>\n",
       "      <td>7025</td>\n",
       "      <td>3644</td>\n",
       "      <td>2187</td>\n",
       "      <td>3614</td>\n",
       "    </tr>\n",
       "    <tr>\n",
       "      <th>3</th>\n",
       "      <td>American Psycho</td>\n",
       "      <td>2000</td>\n",
       "      <td>7.6</td>\n",
       "      <td>IMDb Users</td>\n",
       "      <td>62803</td>\n",
       "      <td>84728</td>\n",
       "      <td>168004</td>\n",
       "      <td>131072</td>\n",
       "      <td>51486</td>\n",
       "      <td>19245</td>\n",
       "      <td>8347</td>\n",
       "      <td>4427</td>\n",
       "      <td>2934</td>\n",
       "      <td>4419</td>\n",
       "    </tr>\n",
       "    <tr>\n",
       "      <th>4</th>\n",
       "      <td>Psycho</td>\n",
       "      <td>1960</td>\n",
       "      <td>8.5</td>\n",
       "      <td>IMDb Users</td>\n",
       "      <td>154176</td>\n",
       "      <td>178106</td>\n",
       "      <td>173392</td>\n",
       "      <td>81863</td>\n",
       "      <td>26755</td>\n",
       "      <td>10529</td>\n",
       "      <td>4706</td>\n",
       "      <td>2575</td>\n",
       "      <td>1848</td>\n",
       "      <td>4906</td>\n",
       "    </tr>\n",
       "  </tbody>\n",
       "</table>\n",
       "</div>"
      ],
      "text/plain": [
       "              Name  Year  Rating   User_Type  vote10   vote9   vote8   vote7  \\\n",
       "0   The Lighthouse  2019     7.5  IMDb Users   21413   29629   48256   37827   \n",
       "1    A Quiet Place  2018     7.5  IMDb Users   54103   75677  152430  118066   \n",
       "2    The Conjuring  2013     7.5  IMDb Users   61822   70986  145724  120266   \n",
       "3  American Psycho  2000     7.6  IMDb Users   62803   84728  168004  131072   \n",
       "4           Psycho  1960     8.5  IMDb Users  154176  178106  173392   81863   \n",
       "\n",
       "   vote6  vote5  vote4  vote3  vote2  vote1  \n",
       "0  18885   9223   4841   3132   2268   3743  \n",
       "1  47978  18678   8604   5048   3367   5649  \n",
       "2  48014  17467   7025   3644   2187   3614  \n",
       "3  51486  19245   8347   4427   2934   4419  \n",
       "4  26755  10529   4706   2575   1848   4906  "
      ]
     },
     "execution_count": 215,
     "metadata": {},
     "output_type": "execute_result"
    }
   ],
   "source": [
    "allrate = pd.read_csv(\"/Users/Annie/Documents/GitHub/horror_film/allrate.csv\")\n",
    "allrate.head()"
   ]
  },
  {
   "cell_type": "code",
   "execution_count": 216,
   "id": "5a18c3c5",
   "metadata": {},
   "outputs": [
    {
     "data": {
      "text/plain": [
       "(726, 6)"
      ]
     },
     "execution_count": 216,
     "metadata": {},
     "output_type": "execute_result"
    }
   ],
   "source": [
    "main_rank = pd.merge(ranking, mainpage, on = [\"Name\", \"Year\"])\n",
    "main_rank.shape"
   ]
  },
  {
   "cell_type": "code",
   "execution_count": 217,
   "id": "13422aca",
   "metadata": {},
   "outputs": [
    {
     "data": {
      "text/html": [
       "<div>\n",
       "<style scoped>\n",
       "    .dataframe tbody tr th:only-of-type {\n",
       "        vertical-align: middle;\n",
       "    }\n",
       "\n",
       "    .dataframe tbody tr th {\n",
       "        vertical-align: top;\n",
       "    }\n",
       "\n",
       "    .dataframe thead th {\n",
       "        text-align: right;\n",
       "    }\n",
       "</style>\n",
       "<table border=\"1\" class=\"dataframe\">\n",
       "  <thead>\n",
       "    <tr style=\"text-align: right;\">\n",
       "      <th></th>\n",
       "      <th>Rank</th>\n",
       "      <th>Name</th>\n",
       "      <th>Year</th>\n",
       "      <th>Rate</th>\n",
       "      <th>Genre</th>\n",
       "      <th>Country</th>\n",
       "    </tr>\n",
       "  </thead>\n",
       "  <tbody>\n",
       "    <tr>\n",
       "      <th>278</th>\n",
       "      <td>281</td>\n",
       "      <td>[Rec]²</td>\n",
       "      <td>2009</td>\n",
       "      <td>6.5</td>\n",
       "      <td>Horror,Thriller</td>\n",
       "      <td>Spain</td>\n",
       "    </tr>\n",
       "  </tbody>\n",
       "</table>\n",
       "</div>"
      ],
      "text/plain": [
       "     Rank    Name  Year  Rate            Genre Country\n",
       "278   281  [Rec]²  2009   6.5  Horror,Thriller   Spain"
      ]
     },
     "execution_count": 217,
     "metadata": {},
     "output_type": "execute_result"
    }
   ],
   "source": [
    "main_rank.query(\"Rank == 281\")"
   ]
  },
  {
   "cell_type": "markdown",
   "id": "cfc2905e",
   "metadata": {},
   "source": [
    "### 1.1. Film Release Trend by Year\n",
    "show the number of horror movies for each year with a bar chart to get a brief understanding about the trend"
   ]
  },
  {
   "cell_type": "code",
   "execution_count": 218,
   "id": "fada3942",
   "metadata": {},
   "outputs": [
    {
     "data": {
      "text/plain": [
       "Text(0, 0.5, 'Counts of Horror Films')"
      ]
     },
     "execution_count": 218,
     "metadata": {},
     "output_type": "execute_result"
    },
    {
     "data": {
      "image/png": "[encoded data removed]",
      "text/plain": [
       "<Figure size 1440x432 with 1 Axes>"
      ]
     },
     "metadata": {
      "needs_background": "light"
     },
     "output_type": "display_data"
    }
   ],
   "source": [
    "release_count = main_rank[[\"Year\", \"Rate\"]].groupby(['Year']).count()\n",
    "release_count_plot = release_count.plot(\n",
    "    title = \"Number of Horror Films Released by Year\",\n",
    "    kind = 'bar',\n",
    "    figsize = (20,6) # adjust graph size\n",
    "    )\n",
    "release_count_plot.set_ylabel(\"Counts of Horror Films\")"
   ]
  },
  {
   "cell_type": "markdown",
   "id": "fd460635",
   "metadata": {},
   "source": [
    "### 1.2. Film Rating Trend by Year\n",
    "by using the scatter plot with release year on the horizontal axis and rating scores on the vertical axis, we will add the best fit line as the rating trend of all horror movies over time"
   ]
  },
  {
   "cell_type": "code",
   "execution_count": 219,
   "id": "aedd55a3",
   "metadata": {},
   "outputs": [],
   "source": [
    "import numpy as np\n",
    "import matplotlib.pyplot as plt"
   ]
  },
  {
   "cell_type": "code",
   "execution_count": 220,
   "id": "e2e4a6f8",
   "metadata": {},
   "outputs": [],
   "source": [
    "# release_rate = main_rank[[\"Year\", \"Rate\"]].groupby(['Year']).mean()\n",
    "# # release_rate.head()\n",
    "# release_rate_plot = release_rate.reset_index().plot(\n",
    "#     x = 'Year',\n",
    "#     y = 'Rate',\n",
    "#     kind = 'scatter'\n",
    "# )"
   ]
  },
  {
   "cell_type": "code",
   "execution_count": 221,
   "id": "03fd74d5",
   "metadata": {},
   "outputs": [
    {
     "data": {
      "text/plain": [
       "[<matplotlib.lines.Line2D at 0x7feb318cbd60>]"
      ]
     },
     "execution_count": 221,
     "metadata": {},
     "output_type": "execute_result"
    },
    {
     "data": {
      "image/png": "[encoded data removed]",
      "text/plain": [
       "<Figure size 432x288 with 1 Axes>"
      ]
     },
     "metadata": {
      "needs_background": "light"
     },
     "output_type": "display_data"
    }
   ],
   "source": [
    "# Using Matplot and NumpyArray\n",
    "release_rate = main_rank[[\"Year\", \"Rate\"]].groupby(['Year']).mean()\n",
    "x = np.array(release_rate.reset_index()['Year'])\n",
    "y = np.array(release_rate.reset_index()['Rate'])\n",
    "m, b = np.polyfit(x, y, 1)\n",
    "plt.plot(x, y, 'o')\n",
    "plt.plot(x, m*x + b)"
   ]
  },
  {
   "cell_type": "markdown",
   "id": "b957b1b0",
   "metadata": {},
   "source": [
    "#### 1.2.? 热力图"
   ]
  },
  {
   "cell_type": "markdown",
   "id": "e7442b18",
   "metadata": {},
   "source": [
    "## 2. Genre & Rating\n"
   ]
  },
  {
   "cell_type": "markdown",
   "id": "6403720f",
   "metadata": {},
   "source": [
    "### 2.1. Proportion of Film by Genre\n",
    "First, we will count the total number of films of each genre, and create a pie chart to show their proportions (e.g. among all 723 films, 40% are drama, 30% are adventure, etc.)."
   ]
  },
  {
   "cell_type": "markdown",
   "id": "4745b271",
   "metadata": {},
   "source": [
    "### 2.2. Ratings by Genre\n",
    "Then, we will produce a bar chart with tags of film genres on the horizontal axis, and average user ratings on the vertical axis. This bar chart would show which genre is top rated by IMDb users."
   ]
  },
  {
   "cell_type": "markdown",
   "id": "fc2b8289",
   "metadata": {},
   "source": [
    "### 2.3. Genre & Ranking\n",
    "We plan to analyze the relationship between film genres and average ranking. For example, do drama horror movies rank higher than crime horror movies? "
   ]
  },
  {
   "cell_type": "markdown",
   "id": "0bfbd98e",
   "metadata": {},
   "source": [
    "## 3. Reviewer Portrait\n",
    "We would like to summarize the characteristics of horror movie viewers and make a reviewer portrait. Our reviewer portrait will include the reviewers’ ages and genders."
   ]
  },
  {
   "cell_type": "markdown",
   "id": "74650573",
   "metadata": {},
   "source": [
    "### 3.1. Age\n",
    "To study horror movie reviewers of different age groups"
   ]
  },
  {
   "cell_type": "markdown",
   "id": "fc3c3556",
   "metadata": {},
   "source": [
    "#### 3.1.1. Reviewer Age Distribution\n",
    "By using the bar chart, we can first demonstrate the age distribution of horror movie reviewers with age group on the horizontal axis and the corresponding counts on the vertical axis."
   ]
  },
  {
   "cell_type": "markdown",
   "id": "44a72a72",
   "metadata": {},
   "source": [
    "#### 3.1.2. Rating Tendency by Age\n",
    "Then we will use sub-bar plots to cross-analyze whether different age groups have different film-rating tendencies."
   ]
  },
  {
   "cell_type": "markdown",
   "id": "962f7f99",
   "metadata": {},
   "source": [
    "##### 3.1.2.1. Sub-bar Plot\n"
   ]
  },
  {
   "cell_type": "markdown",
   "id": "962f7f99",
   "metadata": {},
   "source": [
    "##### 3.1.2.2. Bar Chart\n",
    "with different age groups on the horizontal axis and their mean ratings on the vertical axis\n"
   ]
  },
  {
   "cell_type": "markdown",
   "id": "74650573",
   "metadata": {},
   "source": [
    "### 3.2. Gender"
   ]
  },
  {
   "cell_type": "markdown",
   "id": "fc3c3556",
   "metadata": {},
   "source": [
    "#### 3.2.1. Reviewer Gender Ratio\n",
    "First, we want to use a pie chart to show the gender ratio of horror movie reviewers."
   ]
  },
  {
   "cell_type": "markdown",
   "id": "fc3c3556",
   "metadata": {},
   "source": [
    "#### 3.2.2. Rating Tendency by Gender\n",
    "Similarly, we will use bar plots to display the rating tendencies of each gender. Also, by summing up the number of ratings of each gender for different genres, we wish to compare which kind of horror movies each gender prefers."
   ]
  },
  {
   "cell_type": "markdown",
   "id": "962f7f99",
   "metadata": {},
   "source": [
    "##### 3.2.2.1. Sub-bar Plot\n"
   ]
  },
  {
   "cell_type": "markdown",
   "id": "962f7f99",
   "metadata": {},
   "source": [
    "##### 3.2.2.2. Bar Chart\n",
    "with different genders on the horizontal axis and their mean ratings on the vertical axis\n"
   ]
  },
  {
   "cell_type": "markdown",
   "id": "74650573",
   "metadata": {},
   "source": [
    "### 3.3. Reviewer Portrait of Genre Preference\n",
    "To study which genre do people from each age group and of each gender prefer"
   ]
  },
  {
   "cell_type": "markdown",
   "id": "20e7128e",
   "metadata": {},
   "source": [
    "#### 3.3.1. Age & Genre"
   ]
  },
  {
   "cell_type": "markdown",
   "id": "20e7128e",
   "metadata": {},
   "source": [
    "#### 3.3.2. Gender & Genre"
   ]
  },
  {
   "cell_type": "markdown",
   "id": "0bfbd98e",
   "metadata": {},
   "source": [
    "## 4. Which Country Produces the Most Good Horror Movies?\n",
    "To analyze which country produces the most high-rated horror films, we will produce bar plots for each country to count the number of films by rating value. In each plot, the x-axis and y-axis will be film rating values and counts of films, respectively. The figures then could help us to answer questions such as whether the US produced more horror movies rated over 4 or below 3, or whether Germany released more low-rated movies than Japan."
   ]
  },
  {
   "cell_type": "code",
   "execution_count": 222,
   "id": "6bccab30",
   "metadata": {},
   "outputs": [
    {
     "data": {
      "text/html": [
       "<div>\n",
       "<style scoped>\n",
       "    .dataframe tbody tr th:only-of-type {\n",
       "        vertical-align: middle;\n",
       "    }\n",
       "\n",
       "    .dataframe tbody tr th {\n",
       "        vertical-align: top;\n",
       "    }\n",
       "\n",
       "    .dataframe thead th {\n",
       "        text-align: right;\n",
       "    }\n",
       "</style>\n",
       "<table border=\"1\" class=\"dataframe\">\n",
       "  <thead>\n",
       "    <tr style=\"text-align: right;\">\n",
       "      <th></th>\n",
       "      <th>Name</th>\n",
       "      <th>Year</th>\n",
       "      <th>Rate</th>\n",
       "      <th>Genre</th>\n",
       "      <th>Country</th>\n",
       "    </tr>\n",
       "  </thead>\n",
       "  <tbody>\n",
       "    <tr>\n",
       "      <th>0</th>\n",
       "      <td>Deep Red</td>\n",
       "      <td>1975</td>\n",
       "      <td>7.6</td>\n",
       "      <td>Horror,Mystery,Thriller</td>\n",
       "      <td>Italy</td>\n",
       "    </tr>\n",
       "    <tr>\n",
       "      <th>1</th>\n",
       "      <td>The Wailing</td>\n",
       "      <td>2016</td>\n",
       "      <td>7.5</td>\n",
       "      <td>Horror,Mystery,Thriller</td>\n",
       "      <td>South Korea</td>\n",
       "    </tr>\n",
       "    <tr>\n",
       "      <th>2</th>\n",
       "      <td>Psycho</td>\n",
       "      <td>1960</td>\n",
       "      <td>8.5</td>\n",
       "      <td>Horror,Mystery,Thriller</td>\n",
       "      <td>United States</td>\n",
       "    </tr>\n",
       "    <tr>\n",
       "      <th>3</th>\n",
       "      <td>A Quiet Place</td>\n",
       "      <td>2018</td>\n",
       "      <td>7.5</td>\n",
       "      <td>Drama,Horror,Sci-Fi</td>\n",
       "      <td>United States</td>\n",
       "    </tr>\n",
       "    <tr>\n",
       "      <th>4</th>\n",
       "      <td>The Lighthouse</td>\n",
       "      <td>2019</td>\n",
       "      <td>7.5</td>\n",
       "      <td>Drama,Fantasy,Horror,Mystery</td>\n",
       "      <td>Canada</td>\n",
       "    </tr>\n",
       "  </tbody>\n",
       "</table>\n",
       "</div>"
      ],
      "text/plain": [
       "             Name  Year  Rate                         Genre        Country\n",
       "0        Deep Red  1975   7.6       Horror,Mystery,Thriller          Italy\n",
       "1     The Wailing  2016   7.5       Horror,Mystery,Thriller    South Korea\n",
       "2          Psycho  1960   8.5       Horror,Mystery,Thriller  United States\n",
       "3   A Quiet Place  2018   7.5           Drama,Horror,Sci-Fi  United States\n",
       "4  The Lighthouse  2019   7.5  Drama,Fantasy,Horror,Mystery         Canada"
      ]
     },
     "execution_count": 222,
     "metadata": {},
     "output_type": "execute_result"
    }
   ],
   "source": [
    "mainpage = pd.read_csv(\"/Users/Annie/Documents/GitHub/horror_film/mainpage.csv\")\n",
    "mainpage.head()"
   ]
  },
  {
   "cell_type": "code",
   "execution_count": 223,
   "id": "13f4a5ae",
   "metadata": {},
   "outputs": [
    {
     "data": {
      "text/html": [
       "<div>\n",
       "<style scoped>\n",
       "    .dataframe tbody tr th:only-of-type {\n",
       "        vertical-align: middle;\n",
       "    }\n",
       "\n",
       "    .dataframe tbody tr th {\n",
       "        vertical-align: top;\n",
       "    }\n",
       "\n",
       "    .dataframe thead th {\n",
       "        text-align: right;\n",
       "    }\n",
       "</style>\n",
       "<table border=\"1\" class=\"dataframe\">\n",
       "  <thead>\n",
       "    <tr style=\"text-align: right;\">\n",
       "      <th></th>\n",
       "      <th>Name</th>\n",
       "    </tr>\n",
       "    <tr>\n",
       "      <th>Country</th>\n",
       "      <th></th>\n",
       "    </tr>\n",
       "  </thead>\n",
       "  <tbody>\n",
       "    <tr>\n",
       "      <th>South Korea</th>\n",
       "      <td>9</td>\n",
       "    </tr>\n",
       "    <tr>\n",
       "      <th>Italy</th>\n",
       "      <td>9</td>\n",
       "    </tr>\n",
       "    <tr>\n",
       "      <th>Australia</th>\n",
       "      <td>11</td>\n",
       "    </tr>\n",
       "    <tr>\n",
       "      <th>Japan</th>\n",
       "      <td>13</td>\n",
       "    </tr>\n",
       "    <tr>\n",
       "      <th>Spain</th>\n",
       "      <td>14</td>\n",
       "    </tr>\n",
       "    <tr>\n",
       "      <th>Germany</th>\n",
       "      <td>16</td>\n",
       "    </tr>\n",
       "    <tr>\n",
       "      <th>France</th>\n",
       "      <td>19</td>\n",
       "    </tr>\n",
       "    <tr>\n",
       "      <th>Canada</th>\n",
       "      <td>53</td>\n",
       "    </tr>\n",
       "    <tr>\n",
       "      <th>United Kingdom</th>\n",
       "      <td>65</td>\n",
       "    </tr>\n",
       "    <tr>\n",
       "      <th>United States</th>\n",
       "      <td>488</td>\n",
       "    </tr>\n",
       "  </tbody>\n",
       "</table>\n",
       "</div>"
      ],
      "text/plain": [
       "                Name\n",
       "Country             \n",
       "South Korea        9\n",
       "Italy              9\n",
       "Australia         11\n",
       "Japan             13\n",
       "Spain             14\n",
       "Germany           16\n",
       "France            19\n",
       "Canada            53\n",
       "United Kingdom    65\n",
       "United States    488"
      ]
     },
     "execution_count": 223,
     "metadata": {},
     "output_type": "execute_result"
    }
   ],
   "source": [
    "gb_country = mainpage[['Name', 'Country']].groupby('Country').count().sort_values(by='Name')\n",
    "gb_country.tail(10)"
   ]
  },
  {
   "cell_type": "code",
   "execution_count": 224,
   "id": "8a2a96e2",
   "metadata": {},
   "outputs": [
    {
     "data": {
      "text/plain": [
       "<AxesSubplot:xlabel='Country'>"
      ]
     },
     "execution_count": 224,
     "metadata": {},
     "output_type": "execute_result"
    },
    {
     "data": {
      "image/png": "[encoded data removed]",
      "text/plain": [
       "<Figure size 1080x432 with 1 Axes>"
      ]
     },
     "metadata": {
      "needs_background": "light"
     },
     "output_type": "display_data"
    }
   ],
   "source": [
    "gb_country = mainpage[['Name', 'Country']].groupby('Country').count().sort_values(by='Name')\n",
    "gb_country.reset_index().rename(columns={'Name' : 'Count'})[-5:].plot(\n",
    "    x = 'Country',\n",
    "    kind = 'bar',\n",
    "    figsize = (15,6)\n",
    ")"
   ]
  },
  {
   "cell_type": "code",
   "execution_count": 225,
   "id": "9b8a437c",
   "metadata": {},
   "outputs": [
    {
     "data": {
      "text/plain": [
       "<AxesSubplot:ylabel='Count'>"
      ]
     },
     "execution_count": 225,
     "metadata": {},
     "output_type": "execute_result"
    },
    {
     "data": {
      "image/png": "[encoded data removed]",
      "text/plain": [
       "<Figure size 432x288 with 1 Axes>"
      ]
     },
     "metadata": {},
     "output_type": "display_data"
    }
   ],
   "source": [
    "# pie chart: which country produces the highest fraction of horror films\n",
    "# only shows tags for top 5 highest proportion\n",
    "gb_country = mainpage[['Name', 'Country']].groupby('Country').count().sort_values(by='Name')\n",
    "gb_country.reset_index().rename(columns={'Name' : 'Count'}).set_index('Country').plot.pie(\n",
    "    y = 'Count',\n",
    "    legend = False\n",
    "    )"
   ]
  },
  {
   "cell_type": "code",
   "execution_count": 226,
   "id": "3f38dbb7",
   "metadata": {},
   "outputs": [
    {
     "data": {
      "text/plain": [
       "<AxesSubplot:ylabel='Count'>"
      ]
     },
     "execution_count": 226,
     "metadata": {},
     "output_type": "execute_result"
    },
    {
     "data": {
      "image/png": "[encoded data removed]",
      "text/plain": [
       "<Figure size 432x288 with 1 Axes>"
      ]
     },
     "metadata": {},
     "output_type": "display_data"
    }
   ],
   "source": [
    "from matplotlib import pyplot as plt\n",
    "gb_country.reset_index().rename(columns={'Name' : 'Count'}).set_index('Country').plot.pie(\n",
    "    y = 'Count',\n",
    "    legend = False,\n",
    "    autopct=lambda p: format(p, '.1f') if p > 10 else None\n",
    "    )"
   ]
  },
  {
   "cell_type": "markdown",
   "id": "0881226e",
   "metadata": {},
   "source": [
    "Here, we plot the top 5 countries that produces the most films: the United States, the United Kingdom, Canada, France, and Germany."
   ]
  },
  {
   "cell_type": "markdown",
   "id": "83c2dbd6",
   "metadata": {},
   "source": [
    "### 1. The United States"
   ]
  },
  {
   "cell_type": "code",
   "execution_count": 255,
   "id": "f7bdbde4",
   "metadata": {},
   "outputs": [
    {
     "data": {
      "text/plain": [
       "<AxesSubplot:ylabel='Density'>"
      ]
     },
     "execution_count": 255,
     "metadata": {},
     "output_type": "execute_result"
    },
    {
     "data": {
      "image/png": "[encoded data removed]",
      "text/plain": [
       "<Figure size 432x288 with 1 Axes>"
      ]
     },
     "metadata": {
      "needs_background": "light"
     },
     "output_type": "display_data"
    }
   ],
   "source": [
    "US = mainpage.query('Country == \"United States\"')#[['Rate', 'Country']].groupby('Rate').count().reset_index().rename(columns = {'Country' : 'Count'})\n",
    "US['Rate'].plot.kde()"
   ]
  },
  {
   "cell_type": "code",
   "execution_count": 257,
   "id": "bef024e9",
   "metadata": {},
   "outputs": [
    {
     "data": {
      "text/plain": [
       "(array([0.        , 0.00204918, 0.        , 0.01639344, 0.07581967,\n",
       "        0.33811475, 0.39344262, 0.16393443, 0.0102459 , 0.        ]),\n",
       " array([ 0.,  1.,  2.,  3.,  4.,  5.,  6.,  7.,  8.,  9., 10.]),\n",
       " <BarContainer object of 10 artists>)"
      ]
     },
     "execution_count": 257,
     "metadata": {},
     "output_type": "execute_result"
    },
    {
     "data": {
      "image/png": "[encoded data removed]",
      "text/plain": [
       "<Figure size 432x288 with 1 Axes>"
      ]
     },
     "metadata": {
      "needs_background": "light"
     },
     "output_type": "display_data"
    }
   ],
   "source": [
    "import matplotlib.pyplot as plt\n",
    "plt.hist(\n",
    "    mainpage.query('Country == \"United States\"')['Rate'],\n",
    "    range = [0, 10],\n",
    "    density = True\n",
    "    )"
   ]
  },
  {
   "cell_type": "markdown",
   "id": "83c2dbd6",
   "metadata": {},
   "source": [
    "### 2. The United Kingdom"
   ]
  },
  {
   "cell_type": "markdown",
   "id": "83c2dbd6",
   "metadata": {},
   "source": [
    "### 3. Canada"
   ]
  },
  {
   "cell_type": "markdown",
   "id": "83c2dbd6",
   "metadata": {},
   "source": [
    "### 4. France"
   ]
  },
  {
   "cell_type": "markdown",
   "id": "83c2dbd6",
   "metadata": {},
   "source": [
    "### 5. Germany"
   ]
  },
  {
   "cell_type": "markdown",
   "id": "0bfbd98e",
   "metadata": {},
   "source": [
    "## 5. Budge and Box Office\n"
   ]
  },
  {
   "cell_type": "markdown",
   "id": "912bb32d",
   "metadata": {},
   "source": [
    "### 5.1. Are the Most Profitable Films Also Highest-Rated?\n",
    "1. Calulate \"Revenue\"\n",
    "2. find top 20 films with highest revenue\n",
    "3. compare with 20 top rated films\n",
    "\n",
    "We want to obtain the difference between gross worldwide box office and budget (“revenue”) of the 723 movies, find the 20 movies with the highest revenue, and compare them with the 20 highest rated movies to analyze the relationship between the revenue and ratings. "
   ]
  },
  {
   "cell_type": "code",
   "execution_count": 267,
   "id": "4cf9d25c",
   "metadata": {},
   "outputs": [
    {
     "data": {
      "text/html": [
       "<div>\n",
       "<style scoped>\n",
       "    .dataframe tbody tr th:only-of-type {\n",
       "        vertical-align: middle;\n",
       "    }\n",
       "\n",
       "    .dataframe tbody tr th {\n",
       "        vertical-align: top;\n",
       "    }\n",
       "\n",
       "    .dataframe thead th {\n",
       "        text-align: right;\n",
       "    }\n",
       "</style>\n",
       "<table border=\"1\" class=\"dataframe\">\n",
       "  <thead>\n",
       "    <tr style=\"text-align: right;\">\n",
       "      <th></th>\n",
       "      <th>Name</th>\n",
       "      <th>Year</th>\n",
       "      <th>Rate</th>\n",
       "      <th>Genre</th>\n",
       "      <th>Country</th>\n",
       "      <th>Budget</th>\n",
       "      <th>Gross Worldwide</th>\n",
       "    </tr>\n",
       "  </thead>\n",
       "  <tbody>\n",
       "    <tr>\n",
       "      <th>0</th>\n",
       "      <td>Psycho</td>\n",
       "      <td>1960</td>\n",
       "      <td>8.5</td>\n",
       "      <td>Horror,Mystery,Thriller</td>\n",
       "      <td>United States</td>\n",
       "      <td>806947</td>\n",
       "      <td>32041845</td>\n",
       "    </tr>\n",
       "    <tr>\n",
       "      <th>1</th>\n",
       "      <td>The Wailing</td>\n",
       "      <td>2016</td>\n",
       "      <td>7.5</td>\n",
       "      <td>Horror,Mystery,Thriller</td>\n",
       "      <td>South Korea</td>\n",
       "      <td>6420000</td>\n",
       "      <td>49851770</td>\n",
       "    </tr>\n",
       "    <tr>\n",
       "      <th>2</th>\n",
       "      <td>A Quiet Place</td>\n",
       "      <td>2018</td>\n",
       "      <td>7.5</td>\n",
       "      <td>Drama,Horror,Sci-Fi</td>\n",
       "      <td>United States</td>\n",
       "      <td>17000000</td>\n",
       "      <td>340952971</td>\n",
       "    </tr>\n",
       "    <tr>\n",
       "      <th>3</th>\n",
       "      <td>The Lighthouse</td>\n",
       "      <td>2019</td>\n",
       "      <td>7.5</td>\n",
       "      <td>Drama,Fantasy,Horror,Mystery</td>\n",
       "      <td>Canada</td>\n",
       "      <td>11000000</td>\n",
       "      <td>18124206</td>\n",
       "    </tr>\n",
       "    <tr>\n",
       "      <th>4</th>\n",
       "      <td>Saw</td>\n",
       "      <td>2004</td>\n",
       "      <td>7.6</td>\n",
       "      <td>Horror,Mystery,Thriller</td>\n",
       "      <td>United States</td>\n",
       "      <td>1200000</td>\n",
       "      <td>103911669</td>\n",
       "    </tr>\n",
       "  </tbody>\n",
       "</table>\n",
       "</div>"
      ],
      "text/plain": [
       "             Name  Year  Rate                         Genre        Country  \\\n",
       "0          Psycho  1960   8.5       Horror,Mystery,Thriller  United States   \n",
       "1     The Wailing  2016   7.5       Horror,Mystery,Thriller    South Korea   \n",
       "2   A Quiet Place  2018   7.5           Drama,Horror,Sci-Fi  United States   \n",
       "3  The Lighthouse  2019   7.5  Drama,Fantasy,Horror,Mystery         Canada   \n",
       "4             Saw  2004   7.6       Horror,Mystery,Thriller  United States   \n",
       "\n",
       "     Budget  Gross Worldwide  \n",
       "0    806947         32041845  \n",
       "1   6420000         49851770  \n",
       "2  17000000        340952971  \n",
       "3  11000000         18124206  \n",
       "4   1200000        103911669  "
      ]
     },
     "execution_count": 267,
     "metadata": {},
     "output_type": "execute_result"
    }
   ],
   "source": [
    "budget_read = pd.read_csv(\"/Users/Annie/Documents/GitHub/horror_film/budget.csv\")\n",
    "budget_read.head()"
   ]
  },
  {
   "cell_type": "code",
   "execution_count": 268,
   "id": "e741f991",
   "metadata": {},
   "outputs": [
    {
     "data": {
      "text/html": [
       "<div>\n",
       "<style scoped>\n",
       "    .dataframe tbody tr th:only-of-type {\n",
       "        vertical-align: middle;\n",
       "    }\n",
       "\n",
       "    .dataframe tbody tr th {\n",
       "        vertical-align: top;\n",
       "    }\n",
       "\n",
       "    .dataframe thead th {\n",
       "        text-align: right;\n",
       "    }\n",
       "</style>\n",
       "<table border=\"1\" class=\"dataframe\">\n",
       "  <thead>\n",
       "    <tr style=\"text-align: right;\">\n",
       "      <th></th>\n",
       "      <th>Rank</th>\n",
       "      <th>Name</th>\n",
       "      <th>Year</th>\n",
       "    </tr>\n",
       "  </thead>\n",
       "  <tbody>\n",
       "    <tr>\n",
       "      <th>0</th>\n",
       "      <td>1</td>\n",
       "      <td>Psycho</td>\n",
       "      <td>1960</td>\n",
       "    </tr>\n",
       "    <tr>\n",
       "      <th>1</th>\n",
       "      <td>2</td>\n",
       "      <td>The Shining</td>\n",
       "      <td>1980</td>\n",
       "    </tr>\n",
       "    <tr>\n",
       "      <th>2</th>\n",
       "      <td>3</td>\n",
       "      <td>Alien</td>\n",
       "      <td>1979</td>\n",
       "    </tr>\n",
       "    <tr>\n",
       "      <th>3</th>\n",
       "      <td>4</td>\n",
       "      <td>Tumbbad</td>\n",
       "      <td>2018</td>\n",
       "    </tr>\n",
       "    <tr>\n",
       "      <th>4</th>\n",
       "      <td>5</td>\n",
       "      <td>Demon Slayer: Mugen Train</td>\n",
       "      <td>2020</td>\n",
       "    </tr>\n",
       "  </tbody>\n",
       "</table>\n",
       "</div>"
      ],
      "text/plain": [
       "   Rank                       Name  Year\n",
       "0     1                     Psycho  1960\n",
       "1     2                The Shining  1980\n",
       "2     3                      Alien  1979\n",
       "3     4                    Tumbbad  2018\n",
       "4     5  Demon Slayer: Mugen Train  2020"
      ]
     },
     "execution_count": 268,
     "metadata": {},
     "output_type": "execute_result"
    }
   ],
   "source": [
    "ranking = pd.read_csv(\"/Users/Annie/Documents/GitHub/horror_film/ranking.csv\")\n",
    "ranking.head()"
   ]
  },
  {
   "cell_type": "code",
   "execution_count": 275,
   "id": "d7aafcb8",
   "metadata": {},
   "outputs": [
    {
     "data": {
      "text/html": [
       "<div>\n",
       "<style scoped>\n",
       "    .dataframe tbody tr th:only-of-type {\n",
       "        vertical-align: middle;\n",
       "    }\n",
       "\n",
       "    .dataframe tbody tr th {\n",
       "        vertical-align: top;\n",
       "    }\n",
       "\n",
       "    .dataframe thead th {\n",
       "        text-align: right;\n",
       "    }\n",
       "</style>\n",
       "<table border=\"1\" class=\"dataframe\">\n",
       "  <thead>\n",
       "    <tr style=\"text-align: right;\">\n",
       "      <th></th>\n",
       "      <th>Name</th>\n",
       "      <th>Year</th>\n",
       "      <th>Rate</th>\n",
       "      <th>Genre</th>\n",
       "      <th>Country</th>\n",
       "      <th>Budget</th>\n",
       "      <th>Gross Worldwide</th>\n",
       "      <th>Rank</th>\n",
       "      <th>Genre_list</th>\n",
       "    </tr>\n",
       "  </thead>\n",
       "  <tbody>\n",
       "    <tr>\n",
       "      <th>0</th>\n",
       "      <td>Psycho</td>\n",
       "      <td>1960</td>\n",
       "      <td>8.5</td>\n",
       "      <td>Horror,Mystery,Thriller</td>\n",
       "      <td>United States</td>\n",
       "      <td>806947</td>\n",
       "      <td>32041845</td>\n",
       "      <td>1</td>\n",
       "      <td>[Horror, Mystery, Thriller]</td>\n",
       "    </tr>\n",
       "    <tr>\n",
       "      <th>1</th>\n",
       "      <td>The Wailing</td>\n",
       "      <td>2016</td>\n",
       "      <td>7.5</td>\n",
       "      <td>Horror,Mystery,Thriller</td>\n",
       "      <td>South Korea</td>\n",
       "      <td>6420000</td>\n",
       "      <td>49851770</td>\n",
       "      <td>48</td>\n",
       "      <td>[Horror, Mystery, Thriller]</td>\n",
       "    </tr>\n",
       "    <tr>\n",
       "      <th>2</th>\n",
       "      <td>A Quiet Place</td>\n",
       "      <td>2018</td>\n",
       "      <td>7.5</td>\n",
       "      <td>Drama,Horror,Sci-Fi</td>\n",
       "      <td>United States</td>\n",
       "      <td>17000000</td>\n",
       "      <td>340952971</td>\n",
       "      <td>47</td>\n",
       "      <td>[Drama, Horror, Sci-Fi]</td>\n",
       "    </tr>\n",
       "    <tr>\n",
       "      <th>3</th>\n",
       "      <td>The Lighthouse</td>\n",
       "      <td>2019</td>\n",
       "      <td>7.5</td>\n",
       "      <td>Drama,Fantasy,Horror,Mystery</td>\n",
       "      <td>Canada</td>\n",
       "      <td>11000000</td>\n",
       "      <td>18124206</td>\n",
       "      <td>46</td>\n",
       "      <td>[Drama, Fantasy, Horror, Mystery]</td>\n",
       "    </tr>\n",
       "    <tr>\n",
       "      <th>4</th>\n",
       "      <td>Saw</td>\n",
       "      <td>2004</td>\n",
       "      <td>7.6</td>\n",
       "      <td>Horror,Mystery,Thriller</td>\n",
       "      <td>United States</td>\n",
       "      <td>1200000</td>\n",
       "      <td>103911669</td>\n",
       "      <td>40</td>\n",
       "      <td>[Horror, Mystery, Thriller]</td>\n",
       "    </tr>\n",
       "  </tbody>\n",
       "</table>\n",
       "</div>"
      ],
      "text/plain": [
       "             Name  Year  Rate                         Genre        Country  \\\n",
       "0          Psycho  1960   8.5       Horror,Mystery,Thriller  United States   \n",
       "1     The Wailing  2016   7.5       Horror,Mystery,Thriller    South Korea   \n",
       "2   A Quiet Place  2018   7.5           Drama,Horror,Sci-Fi  United States   \n",
       "3  The Lighthouse  2019   7.5  Drama,Fantasy,Horror,Mystery         Canada   \n",
       "4             Saw  2004   7.6       Horror,Mystery,Thriller  United States   \n",
       "\n",
       "     Budget  Gross Worldwide  Rank                         Genre_list  \n",
       "0    806947         32041845     1        [Horror, Mystery, Thriller]  \n",
       "1   6420000         49851770    48        [Horror, Mystery, Thriller]  \n",
       "2  17000000        340952971    47            [Drama, Horror, Sci-Fi]  \n",
       "3  11000000         18124206    46  [Drama, Fantasy, Horror, Mystery]  \n",
       "4   1200000        103911669    40        [Horror, Mystery, Thriller]  "
      ]
     },
     "execution_count": 275,
     "metadata": {},
     "output_type": "execute_result"
    }
   ],
   "source": [
    "budget = pd.merge(budget_read, ranking, on=['Name', 'Year'])\n",
    "\n",
    "#convert string to list\n",
    "def stringToList(string):\n",
    "    listRes = list(string.split(\",\"))\n",
    "    return listRes\n",
    "\n",
    "budget[\"Genre_list\"] =budget.apply(lambda x : stringToList(x[\"Genre\"]),axis=1)\n",
    "budget.head()"
   ]
  },
  {
   "cell_type": "code",
   "execution_count": 276,
   "id": "c34ca92c",
   "metadata": {},
   "outputs": [
    {
     "data": {
      "text/plain": [
       "(542, 9)"
      ]
     },
     "execution_count": 276,
     "metadata": {},
     "output_type": "execute_result"
    }
   ],
   "source": [
    "budget.shape"
   ]
  },
  {
   "cell_type": "code",
   "execution_count": 277,
   "id": "c572ee55",
   "metadata": {},
   "outputs": [
    {
     "data": {
      "text/html": [
       "<div>\n",
       "<style scoped>\n",
       "    .dataframe tbody tr th:only-of-type {\n",
       "        vertical-align: middle;\n",
       "    }\n",
       "\n",
       "    .dataframe tbody tr th {\n",
       "        vertical-align: top;\n",
       "    }\n",
       "\n",
       "    .dataframe thead th {\n",
       "        text-align: right;\n",
       "    }\n",
       "</style>\n",
       "<table border=\"1\" class=\"dataframe\">\n",
       "  <thead>\n",
       "    <tr style=\"text-align: right;\">\n",
       "      <th></th>\n",
       "      <th>Name</th>\n",
       "      <th>Year</th>\n",
       "      <th>Rate</th>\n",
       "      <th>Genre</th>\n",
       "      <th>Country</th>\n",
       "      <th>Budget</th>\n",
       "      <th>Gross Worldwide</th>\n",
       "      <th>Rank</th>\n",
       "      <th>Genre_list</th>\n",
       "      <th>revenue</th>\n",
       "    </tr>\n",
       "  </thead>\n",
       "  <tbody>\n",
       "    <tr>\n",
       "      <th>0</th>\n",
       "      <td>Psycho</td>\n",
       "      <td>1960</td>\n",
       "      <td>8.5</td>\n",
       "      <td>Horror,Mystery,Thriller</td>\n",
       "      <td>United States</td>\n",
       "      <td>806947</td>\n",
       "      <td>32041845</td>\n",
       "      <td>1</td>\n",
       "      <td>[Horror, Mystery, Thriller]</td>\n",
       "      <td>31234898</td>\n",
       "    </tr>\n",
       "    <tr>\n",
       "      <th>1</th>\n",
       "      <td>The Wailing</td>\n",
       "      <td>2016</td>\n",
       "      <td>7.5</td>\n",
       "      <td>Horror,Mystery,Thriller</td>\n",
       "      <td>South Korea</td>\n",
       "      <td>6420000</td>\n",
       "      <td>49851770</td>\n",
       "      <td>48</td>\n",
       "      <td>[Horror, Mystery, Thriller]</td>\n",
       "      <td>43431770</td>\n",
       "    </tr>\n",
       "    <tr>\n",
       "      <th>2</th>\n",
       "      <td>A Quiet Place</td>\n",
       "      <td>2018</td>\n",
       "      <td>7.5</td>\n",
       "      <td>Drama,Horror,Sci-Fi</td>\n",
       "      <td>United States</td>\n",
       "      <td>17000000</td>\n",
       "      <td>340952971</td>\n",
       "      <td>47</td>\n",
       "      <td>[Drama, Horror, Sci-Fi]</td>\n",
       "      <td>323952971</td>\n",
       "    </tr>\n",
       "    <tr>\n",
       "      <th>3</th>\n",
       "      <td>The Lighthouse</td>\n",
       "      <td>2019</td>\n",
       "      <td>7.5</td>\n",
       "      <td>Drama,Fantasy,Horror,Mystery</td>\n",
       "      <td>Canada</td>\n",
       "      <td>11000000</td>\n",
       "      <td>18124206</td>\n",
       "      <td>46</td>\n",
       "      <td>[Drama, Fantasy, Horror, Mystery]</td>\n",
       "      <td>7124206</td>\n",
       "    </tr>\n",
       "    <tr>\n",
       "      <th>4</th>\n",
       "      <td>Saw</td>\n",
       "      <td>2004</td>\n",
       "      <td>7.6</td>\n",
       "      <td>Horror,Mystery,Thriller</td>\n",
       "      <td>United States</td>\n",
       "      <td>1200000</td>\n",
       "      <td>103911669</td>\n",
       "      <td>40</td>\n",
       "      <td>[Horror, Mystery, Thriller]</td>\n",
       "      <td>102711669</td>\n",
       "    </tr>\n",
       "  </tbody>\n",
       "</table>\n",
       "</div>"
      ],
      "text/plain": [
       "             Name  Year  Rate                         Genre        Country  \\\n",
       "0          Psycho  1960   8.5       Horror,Mystery,Thriller  United States   \n",
       "1     The Wailing  2016   7.5       Horror,Mystery,Thriller    South Korea   \n",
       "2   A Quiet Place  2018   7.5           Drama,Horror,Sci-Fi  United States   \n",
       "3  The Lighthouse  2019   7.5  Drama,Fantasy,Horror,Mystery         Canada   \n",
       "4             Saw  2004   7.6       Horror,Mystery,Thriller  United States   \n",
       "\n",
       "     Budget  Gross Worldwide  Rank                         Genre_list  \\\n",
       "0    806947         32041845     1        [Horror, Mystery, Thriller]   \n",
       "1   6420000         49851770    48        [Horror, Mystery, Thriller]   \n",
       "2  17000000        340952971    47            [Drama, Horror, Sci-Fi]   \n",
       "3  11000000         18124206    46  [Drama, Fantasy, Horror, Mystery]   \n",
       "4   1200000        103911669    40        [Horror, Mystery, Thriller]   \n",
       "\n",
       "     revenue  \n",
       "0   31234898  \n",
       "1   43431770  \n",
       "2  323952971  \n",
       "3    7124206  \n",
       "4  102711669  "
      ]
     },
     "execution_count": 277,
     "metadata": {},
     "output_type": "execute_result"
    }
   ],
   "source": [
    "budget['revenue'] = budget['Gross Worldwide'] - budget['Budget']\n",
    "budget.head()"
   ]
  },
  {
   "cell_type": "code",
   "execution_count": 278,
   "id": "3687cbe5",
   "metadata": {},
   "outputs": [
    {
     "data": {
      "text/html": [
       "<div>\n",
       "<style scoped>\n",
       "    .dataframe tbody tr th:only-of-type {\n",
       "        vertical-align: middle;\n",
       "    }\n",
       "\n",
       "    .dataframe tbody tr th {\n",
       "        vertical-align: top;\n",
       "    }\n",
       "\n",
       "    .dataframe thead th {\n",
       "        text-align: right;\n",
       "    }\n",
       "</style>\n",
       "<table border=\"1\" class=\"dataframe\">\n",
       "  <thead>\n",
       "    <tr style=\"text-align: right;\">\n",
       "      <th></th>\n",
       "      <th>Name</th>\n",
       "      <th>Year</th>\n",
       "      <th>Rate</th>\n",
       "      <th>Genre</th>\n",
       "      <th>Country</th>\n",
       "      <th>Budget</th>\n",
       "      <th>Gross Worldwide</th>\n",
       "      <th>Rank</th>\n",
       "      <th>Genre_list</th>\n",
       "      <th>revenue</th>\n",
       "    </tr>\n",
       "  </thead>\n",
       "  <tbody>\n",
       "    <tr>\n",
       "      <th>500</th>\n",
       "      <td>It</td>\n",
       "      <td>2017</td>\n",
       "      <td>7.3</td>\n",
       "      <td>Horror</td>\n",
       "      <td>United States</td>\n",
       "      <td>35000000</td>\n",
       "      <td>701796444</td>\n",
       "      <td>83</td>\n",
       "      <td>[Horror]</td>\n",
       "      <td>666796444</td>\n",
       "    </tr>\n",
       "    <tr>\n",
       "      <th>58</th>\n",
       "      <td>Hotel Transylvania 3: Summer Vacation</td>\n",
       "      <td>2018</td>\n",
       "      <td>6.3</td>\n",
       "      <td>Animation,Adventure,Comedy,Family,Fantasy,Horror</td>\n",
       "      <td>United States</td>\n",
       "      <td>80000000</td>\n",
       "      <td>528583774</td>\n",
       "      <td>346</td>\n",
       "      <td>[Animation, Adventure, Comedy, Family, Fantasy...</td>\n",
       "      <td>448583774</td>\n",
       "    </tr>\n",
       "    <tr>\n",
       "      <th>535</th>\n",
       "      <td>The Exorcist</td>\n",
       "      <td>1973</td>\n",
       "      <td>8.0</td>\n",
       "      <td>Horror</td>\n",
       "      <td>United States</td>\n",
       "      <td>11000000</td>\n",
       "      <td>441306145</td>\n",
       "      <td>11</td>\n",
       "      <td>[Horror]</td>\n",
       "      <td>430306145</td>\n",
       "    </tr>\n",
       "    <tr>\n",
       "      <th>117</th>\n",
       "      <td>The Meg</td>\n",
       "      <td>2018</td>\n",
       "      <td>5.6</td>\n",
       "      <td>Action,Horror,Sci-Fi,Thriller</td>\n",
       "      <td>United States</td>\n",
       "      <td>130000000</td>\n",
       "      <td>530438278</td>\n",
       "      <td>548</td>\n",
       "      <td>[Action, Horror, Sci-Fi, Thriller]</td>\n",
       "      <td>400438278</td>\n",
       "    </tr>\n",
       "    <tr>\n",
       "      <th>445</th>\n",
       "      <td>Hotel Transylvania 2</td>\n",
       "      <td>2015</td>\n",
       "      <td>6.7</td>\n",
       "      <td>Animation,Adventure,Comedy,Family,Fantasy,Horror</td>\n",
       "      <td>United States</td>\n",
       "      <td>80000000</td>\n",
       "      <td>475186706</td>\n",
       "      <td>210</td>\n",
       "      <td>[Animation, Adventure, Comedy, Family, Fantasy...</td>\n",
       "      <td>395186706</td>\n",
       "    </tr>\n",
       "    <tr>\n",
       "      <th>411</th>\n",
       "      <td>It Chapter Two</td>\n",
       "      <td>2019</td>\n",
       "      <td>6.5</td>\n",
       "      <td>Drama,Fantasy,Horror</td>\n",
       "      <td>United States</td>\n",
       "      <td>79000000</td>\n",
       "      <td>473093228</td>\n",
       "      <td>266</td>\n",
       "      <td>[Drama, Fantasy, Horror]</td>\n",
       "      <td>394093228</td>\n",
       "    </tr>\n",
       "    <tr>\n",
       "      <th>26</th>\n",
       "      <td>World War Z</td>\n",
       "      <td>2013</td>\n",
       "      <td>7.0</td>\n",
       "      <td>Action,Adventure,Horror,Sci-Fi</td>\n",
       "      <td>United States</td>\n",
       "      <td>190000000</td>\n",
       "      <td>540455876</td>\n",
       "      <td>149</td>\n",
       "      <td>[Action, Adventure, Horror, Sci-Fi]</td>\n",
       "      <td>350455876</td>\n",
       "    </tr>\n",
       "    <tr>\n",
       "      <th>228</th>\n",
       "      <td>The Nun</td>\n",
       "      <td>2018</td>\n",
       "      <td>5.3</td>\n",
       "      <td>Horror,Mystery,Thriller</td>\n",
       "      <td>United States</td>\n",
       "      <td>22000000</td>\n",
       "      <td>365551694</td>\n",
       "      <td>609</td>\n",
       "      <td>[Horror, Mystery, Thriller]</td>\n",
       "      <td>343551694</td>\n",
       "    </tr>\n",
       "    <tr>\n",
       "      <th>2</th>\n",
       "      <td>A Quiet Place</td>\n",
       "      <td>2018</td>\n",
       "      <td>7.5</td>\n",
       "      <td>Drama,Horror,Sci-Fi</td>\n",
       "      <td>United States</td>\n",
       "      <td>17000000</td>\n",
       "      <td>340952971</td>\n",
       "      <td>47</td>\n",
       "      <td>[Drama, Horror, Sci-Fi]</td>\n",
       "      <td>323952971</td>\n",
       "    </tr>\n",
       "    <tr>\n",
       "      <th>520</th>\n",
       "      <td>The Conjuring</td>\n",
       "      <td>2013</td>\n",
       "      <td>7.5</td>\n",
       "      <td>Horror,Mystery,Thriller</td>\n",
       "      <td>United States</td>\n",
       "      <td>20000000</td>\n",
       "      <td>320290989</td>\n",
       "      <td>50</td>\n",
       "      <td>[Horror, Mystery, Thriller]</td>\n",
       "      <td>300290989</td>\n",
       "    </tr>\n",
       "    <tr>\n",
       "      <th>410</th>\n",
       "      <td>Annabelle: Creation</td>\n",
       "      <td>2017</td>\n",
       "      <td>6.5</td>\n",
       "      <td>Horror,Mystery,Thriller</td>\n",
       "      <td>United States</td>\n",
       "      <td>15000000</td>\n",
       "      <td>306515884</td>\n",
       "      <td>268</td>\n",
       "      <td>[Horror, Mystery, Thriller]</td>\n",
       "      <td>291515884</td>\n",
       "    </tr>\n",
       "    <tr>\n",
       "      <th>116</th>\n",
       "      <td>The Mummy</td>\n",
       "      <td>2017</td>\n",
       "      <td>5.4</td>\n",
       "      <td>Action,Adventure,Fantasy,Horror,Thriller</td>\n",
       "      <td>United States</td>\n",
       "      <td>125000000</td>\n",
       "      <td>409231607</td>\n",
       "      <td>595</td>\n",
       "      <td>[Action, Adventure, Fantasy, Horror, Thriller]</td>\n",
       "      <td>284231607</td>\n",
       "    </tr>\n",
       "    <tr>\n",
       "      <th>495</th>\n",
       "      <td>The Conjuring 2</td>\n",
       "      <td>2016</td>\n",
       "      <td>7.3</td>\n",
       "      <td>Horror,Mystery,Thriller</td>\n",
       "      <td>Canada</td>\n",
       "      <td>40000000</td>\n",
       "      <td>321788219</td>\n",
       "      <td>82</td>\n",
       "      <td>[Horror, Mystery, Thriller]</td>\n",
       "      <td>281788219</td>\n",
       "    </tr>\n",
       "    <tr>\n",
       "      <th>478</th>\n",
       "      <td>Hotel Transylvania</td>\n",
       "      <td>2012</td>\n",
       "      <td>7.1</td>\n",
       "      <td>Animation,Comedy,Family,Fantasy,Horror</td>\n",
       "      <td>United States</td>\n",
       "      <td>85000000</td>\n",
       "      <td>358375603</td>\n",
       "      <td>123</td>\n",
       "      <td>[Animation, Comedy, Family, Fantasy, Horror]</td>\n",
       "      <td>273375603</td>\n",
       "    </tr>\n",
       "    <tr>\n",
       "      <th>250</th>\n",
       "      <td>Resident Evil: The Final Chapter</td>\n",
       "      <td>2016</td>\n",
       "      <td>5.5</td>\n",
       "      <td>Action,Adventure,Fantasy,Horror,Sci-Fi,Thriller</td>\n",
       "      <td>Germany</td>\n",
       "      <td>40000000</td>\n",
       "      <td>312242626</td>\n",
       "      <td>574</td>\n",
       "      <td>[Action, Adventure, Fantasy, Horror, Sci-Fi, T...</td>\n",
       "      <td>272242626</td>\n",
       "    </tr>\n",
       "    <tr>\n",
       "      <th>496</th>\n",
       "      <td>Split</td>\n",
       "      <td>2016</td>\n",
       "      <td>7.3</td>\n",
       "      <td>Horror,Thriller</td>\n",
       "      <td>United States</td>\n",
       "      <td>9000000</td>\n",
       "      <td>278454417</td>\n",
       "      <td>81</td>\n",
       "      <td>[Horror, Thriller]</td>\n",
       "      <td>269454417</td>\n",
       "    </tr>\n",
       "    <tr>\n",
       "      <th>136</th>\n",
       "      <td>The Mummy: Tomb of the Dragon Emperor</td>\n",
       "      <td>2008</td>\n",
       "      <td>5.2</td>\n",
       "      <td>Action,Fantasy,Horror,War</td>\n",
       "      <td>United States</td>\n",
       "      <td>145000000</td>\n",
       "      <td>403449830</td>\n",
       "      <td>638</td>\n",
       "      <td>[Action, Fantasy, Horror, War]</td>\n",
       "      <td>258449830</td>\n",
       "    </tr>\n",
       "    <tr>\n",
       "      <th>526</th>\n",
       "      <td>Get Out</td>\n",
       "      <td>2017</td>\n",
       "      <td>7.7</td>\n",
       "      <td>Horror,Mystery,Thriller</td>\n",
       "      <td>United States</td>\n",
       "      <td>4500000</td>\n",
       "      <td>255589157</td>\n",
       "      <td>25</td>\n",
       "      <td>[Horror, Mystery, Thriller]</td>\n",
       "      <td>251089157</td>\n",
       "    </tr>\n",
       "    <tr>\n",
       "      <th>119</th>\n",
       "      <td>Annabelle</td>\n",
       "      <td>2014</td>\n",
       "      <td>5.4</td>\n",
       "      <td>Horror,Mystery,Thriller</td>\n",
       "      <td>United States</td>\n",
       "      <td>6500000</td>\n",
       "      <td>257579282</td>\n",
       "      <td>594</td>\n",
       "      <td>[Horror, Mystery, Thriller]</td>\n",
       "      <td>251079282</td>\n",
       "    </tr>\n",
       "    <tr>\n",
       "      <th>51</th>\n",
       "      <td>The Blair Witch Project</td>\n",
       "      <td>1999</td>\n",
       "      <td>6.5</td>\n",
       "      <td>Horror,Mystery</td>\n",
       "      <td>United States</td>\n",
       "      <td>60000</td>\n",
       "      <td>248639099</td>\n",
       "      <td>293</td>\n",
       "      <td>[Horror, Mystery]</td>\n",
       "      <td>248579099</td>\n",
       "    </tr>\n",
       "  </tbody>\n",
       "</table>\n",
       "</div>"
      ],
      "text/plain": [
       "                                      Name  Year  Rate  \\\n",
       "500                                     It  2017   7.3   \n",
       "58   Hotel Transylvania 3: Summer Vacation  2018   6.3   \n",
       "535                           The Exorcist  1973   8.0   \n",
       "117                                The Meg  2018   5.6   \n",
       "445                   Hotel Transylvania 2  2015   6.7   \n",
       "411                         It Chapter Two  2019   6.5   \n",
       "26                             World War Z  2013   7.0   \n",
       "228                                The Nun  2018   5.3   \n",
       "2                            A Quiet Place  2018   7.5   \n",
       "520                          The Conjuring  2013   7.5   \n",
       "410                    Annabelle: Creation  2017   6.5   \n",
       "116                              The Mummy  2017   5.4   \n",
       "495                        The Conjuring 2  2016   7.3   \n",
       "478                     Hotel Transylvania  2012   7.1   \n",
       "250       Resident Evil: The Final Chapter  2016   5.5   \n",
       "496                                  Split  2016   7.3   \n",
       "136  The Mummy: Tomb of the Dragon Emperor  2008   5.2   \n",
       "526                                Get Out  2017   7.7   \n",
       "119                              Annabelle  2014   5.4   \n",
       "51                 The Blair Witch Project  1999   6.5   \n",
       "\n",
       "                                                Genre        Country  \\\n",
       "500                                            Horror  United States   \n",
       "58   Animation,Adventure,Comedy,Family,Fantasy,Horror  United States   \n",
       "535                                            Horror  United States   \n",
       "117                     Action,Horror,Sci-Fi,Thriller  United States   \n",
       "445  Animation,Adventure,Comedy,Family,Fantasy,Horror  United States   \n",
       "411                              Drama,Fantasy,Horror  United States   \n",
       "26                     Action,Adventure,Horror,Sci-Fi  United States   \n",
       "228                           Horror,Mystery,Thriller  United States   \n",
       "2                                 Drama,Horror,Sci-Fi  United States   \n",
       "520                           Horror,Mystery,Thriller  United States   \n",
       "410                           Horror,Mystery,Thriller  United States   \n",
       "116          Action,Adventure,Fantasy,Horror,Thriller  United States   \n",
       "495                           Horror,Mystery,Thriller         Canada   \n",
       "478            Animation,Comedy,Family,Fantasy,Horror  United States   \n",
       "250   Action,Adventure,Fantasy,Horror,Sci-Fi,Thriller        Germany   \n",
       "496                                   Horror,Thriller  United States   \n",
       "136                         Action,Fantasy,Horror,War  United States   \n",
       "526                           Horror,Mystery,Thriller  United States   \n",
       "119                           Horror,Mystery,Thriller  United States   \n",
       "51                                     Horror,Mystery  United States   \n",
       "\n",
       "        Budget  Gross Worldwide  Rank  \\\n",
       "500   35000000        701796444    83   \n",
       "58    80000000        528583774   346   \n",
       "535   11000000        441306145    11   \n",
       "117  130000000        530438278   548   \n",
       "445   80000000        475186706   210   \n",
       "411   79000000        473093228   266   \n",
       "26   190000000        540455876   149   \n",
       "228   22000000        365551694   609   \n",
       "2     17000000        340952971    47   \n",
       "520   20000000        320290989    50   \n",
       "410   15000000        306515884   268   \n",
       "116  125000000        409231607   595   \n",
       "495   40000000        321788219    82   \n",
       "478   85000000        358375603   123   \n",
       "250   40000000        312242626   574   \n",
       "496    9000000        278454417    81   \n",
       "136  145000000        403449830   638   \n",
       "526    4500000        255589157    25   \n",
       "119    6500000        257579282   594   \n",
       "51       60000        248639099   293   \n",
       "\n",
       "                                            Genre_list    revenue  \n",
       "500                                           [Horror]  666796444  \n",
       "58   [Animation, Adventure, Comedy, Family, Fantasy...  448583774  \n",
       "535                                           [Horror]  430306145  \n",
       "117                 [Action, Horror, Sci-Fi, Thriller]  400438278  \n",
       "445  [Animation, Adventure, Comedy, Family, Fantasy...  395186706  \n",
       "411                           [Drama, Fantasy, Horror]  394093228  \n",
       "26                 [Action, Adventure, Horror, Sci-Fi]  350455876  \n",
       "228                        [Horror, Mystery, Thriller]  343551694  \n",
       "2                              [Drama, Horror, Sci-Fi]  323952971  \n",
       "520                        [Horror, Mystery, Thriller]  300290989  \n",
       "410                        [Horror, Mystery, Thriller]  291515884  \n",
       "116     [Action, Adventure, Fantasy, Horror, Thriller]  284231607  \n",
       "495                        [Horror, Mystery, Thriller]  281788219  \n",
       "478       [Animation, Comedy, Family, Fantasy, Horror]  273375603  \n",
       "250  [Action, Adventure, Fantasy, Horror, Sci-Fi, T...  272242626  \n",
       "496                                 [Horror, Thriller]  269454417  \n",
       "136                     [Action, Fantasy, Horror, War]  258449830  \n",
       "526                        [Horror, Mystery, Thriller]  251089157  \n",
       "119                        [Horror, Mystery, Thriller]  251079282  \n",
       "51                                   [Horror, Mystery]  248579099  "
      ]
     },
     "execution_count": 278,
     "metadata": {},
     "output_type": "execute_result"
    }
   ],
   "source": [
    "budget.sort_values(by = 'revenue', ascending = False).head(20)"
   ]
  },
  {
   "cell_type": "markdown",
   "id": "912bb32d",
   "metadata": {},
   "source": [
    "### 5.2. Which Genre Is The Most Profitable?\n",
    "We will also cross-analyze the ranking based on revenue with the movies genre to see what type of horror movies people prefer to go to the movie theater."
   ]
  }
 ],
 "metadata": {
  "interpreter": {
   "hash": "b5b2985c9892eb107a3576aa1739bb2ca8a808a10b25f4d7be2fa806ac6ae43f"
  },
  "kernelspec": {
   "display_name": "Python 3.7.11 64-bit ('scrapy-example': conda)",
   "language": "python",
   "name": "python3"
  },
  "language_info": {
   "codemirror_mode": {
    "name": "ipython",
    "version": 3
   },
   "file_extension": ".py",
   "mimetype": "text/x-python",
   "name": "python",
   "nbconvert_exporter": "python",
   "pygments_lexer": "ipython3",
   "version": "3.8.8"
  }
 },
 "nbformat": 4,
 "nbformat_minor": 5
}
