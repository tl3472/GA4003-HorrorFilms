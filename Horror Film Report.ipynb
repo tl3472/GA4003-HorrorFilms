{
 "cells": [
  {
   "cell_type": "markdown",
   "id": "7bc01113",
   "metadata": {},
   "source": [
    "# What Makes a Successful Horror Film?\n",
    "**[Group-1]**\n",
    "\n",
    "- Jingyi Fan (N15191508, jf4258)\n",
    "- Tianyu Li (N18586573, tl3472)\n",
    "- Wenxin Zhang (N15067695, wz2127)"
   ]
  },
  {
   "cell_type": "markdown",
   "id": "809904c7",
   "metadata": {},
   "source": [
    "# Introduction\n",
    "\n",
    "Do you think horror movies are getting worse over time? Nowadays, horror is a genre that gets a lot of criticism for its subpar acting, reputitive and ludicrous plots, and over-the-top gore and violence. Any one of these can lessen a viewer’s opinion about horror films. They are not horrible, they are hilarious and ridiculous.\n",
    "\n",
    "Therefore, in this project, we aim to discuss whether recent horror momvies become much worse than before? Can we find some key characteristics among the low-rating horror films? Are there other factors that contribute to the low-rating films, such as audiences, budget constraints, specific subgenres, rather than the storyline itself.\n"
   ]
  },
  {
   "cell_type": "markdown",
   "id": "cbd03e39",
   "metadata": {},
   "source": [
    "## Outline\n",
    "\n",
    "The report is structured in the following manner:\n",
    "\n",
    "**0. File Reading and Data Description**\n",
    "- 0.1. Data Collection\n",
    "- 0.2. File Reading\n",
    "- 0.3. Data Description\n",
    "\n",
    "**1. Film Release Year & Rating**\n",
    "- 1.1. Film Release Trend by Year\n",
    "- 1.2. Film Rating Trend by Year\n",
    "\n",
    "**2. Genre & Rating**\n",
    "- Color Dictionary\n",
    "- 2.1. Proportion of Genre\n",
    "- 2.2. Ratings by Genre\n",
    "\n",
    "**3. Reviewer Portrait**\n",
    "- 3.1. Age\n",
    "    - 3.1.1. Reviewer Age Distribution\n",
    "    - 3.1.2. Rating Tendency by Age\n",
    "- 3.2. Gender\n",
    "    - 3.2.1. Reviewer Gender Ratio\n",
    "    - 3.2.2. Rating Tendency by Gender\n",
    "\n",
    "**4. Which Country Produces High-Rated Horror Movies the Most?**\n",
    "\n",
    "**5. Budget and Box Office**\n",
    "\n",
    "- 5.1. Are the Most Profitable Films Also Highest-Rated?\n",
    "- 5.2. Which Genre Is the Most Profitable?\n"
   ]
  },
  {
   "cell_type": "markdown",
   "id": "19368add",
   "metadata": {},
   "source": [
    "## 0. File Reading and Data Description\n"
   ]
  },
  {
   "cell_type": "markdown",
   "id": "164ab700",
   "metadata": {},
   "source": [
    "### 0.1. Data Collection\n",
    "We scraped data from IMDb, mainly focusing on the 730 top rated horror movies with more than 25000 ratings (updated on Dec 19th), available at https://www.imdb.com/search/title/?genres=horror&sort=user_rating,desc&title_type=feature&num_votes=25000,&pf_rd_m=A2FGELUUNOQJNL&pf_rd_p=5aab685f-35eb-40f3-95f7-c53f09d542c3&pf_rd_r=2JQFC48GYRC816ZNGW0F&pf_rd_s=right-6&pf_rd_t=15506&pf_rd_i=top&ref_=chttp_gnr_12. \n",
    "\n",
    "We scraped their release years, ratings, genres, countries of origin, budgets, box office and also the reviewers’ portraits from IMDb, parse the data and form visualized figures.\n",
    "\n",
    "7 spiders and 7 .csv files are generated accordingly:\n",
    "1. HorrormovieMainpageSpider.py ----- mainpage.csv\n",
    "2. RankNum.py ----- ranking.csv\n",
    "3. AllRate.py ----- allrate.csv\n",
    "4. age_group.py ----- agegroup.csv\n",
    "5. malespider.py ----- malespider.csv\n",
    "6. femalespider.py ----- femalespider.csv\n",
    "7. budget.py ----- budget.csv"
   ]
  },
  {
   "cell_type": "markdown",
   "id": "e8c0b9f6",
   "metadata": {},
   "source": [
    "### 0.2. File Reading"
   ]
  },
  {
   "cell_type": "code",
   "execution_count": 170,
   "id": "22b8b984",
   "metadata": {},
   "outputs": [],
   "source": [
    "import pandas as pd\n",
    "import numpy as np\n",
    "import matplotlib.pyplot as plt\n",
    "from matplotlib import colors\n",
    "import matplotlib.patches as mpl\n",
    "%matplotlib inline"
   ]
  },
  {
   "cell_type": "code",
   "execution_count": 171,
   "id": "b461a54f",
   "metadata": {},
   "outputs": [],
   "source": [
    "# READ FILES\n",
    "mainpage = pd.read_csv(\"/Users/Annie/Documents/GitHub/horror_film/mainpage.csv\")\n",
    "ranking = pd.read_csv(\"/Users/Annie/Documents/GitHub/horror_film/ranking.csv\")\n",
    "all_rate = pd.read_csv(\"/Users/Annie/Documents/GitHub/horror_film/allrate.csv\")\n",
    "age_group = pd.read_csv(\"/Users/Annie/Documents/GitHub/horror_film/age_group.csv\")\n",
    "male = pd.read_csv(\"/Users/Annie/Documents/GitHub/horror_film/malespider.csv\")\n",
    "female = pd.read_csv(\"/Users/Annie/Documents/GitHub/horror_film/femalespider.csv\")\n",
    "budget_read = pd.read_csv(\"/Users/Annie/Documents/GitHub/horror_film/budget.csv\")"
   ]
  },
  {
   "cell_type": "markdown",
   "id": "ef40db60",
   "metadata": {},
   "source": [
    "### 0.3. Data Description\n"
   ]
  },
  {
   "cell_type": "markdown",
   "id": "ede4047e",
   "metadata": {},
   "source": [
    "#### 0.3.1. mainpage.csv\n",
    "\n",
    "This csv file is generated from **HorrormovieMainpageSpider.py**, which scrapes the basic information of the 730 movies. The spider jumps to each movie’s main page from the horror movie’s ranking page of IMDb: https://www.imdb.com/search/title/?genres=horror&sort=user_rating,desc&title_type=feature&num_votes=25000,&pf_rd_m=A2FGELUUNOQJNL&pf_rd_p=5aab685f-35eb-40f3-95f7-c53f09d542c3&pf_rd_r=MGA2DABQ5PR277WM004C&pf_rd_s=right-6&pf_rd_t=15506&pf_rd_i=top&ref_=chttp_gnr_12.\n",
    "\n",
    "A sample main page of movie can be found here (*Psycho*, 1960): https://www.imdb.com/title/tt0054215/?ref_=adv_li_tt.\n",
    "\n",
    "- **Name**: title of the film;\n",
    "- **Year**: release year of the film;\n",
    "- **Rate**: the weighted average rating given by all of the users, same as the one shown on the main ranking page and the main film information page;\n",
    "- **Genre**: genres of the film, including animation, action, adventure, fantasy, crime, drama, mystery, thriller, etc.;\n",
    "- **Country**: issuing country of the film.\n"
   ]
  },
  {
   "cell_type": "code",
   "execution_count": 172,
   "id": "239090f4",
   "metadata": {},
   "outputs": [
    {
     "data": {
      "text/html": [
       "<div>\n",
       "<style scoped>\n",
       "    .dataframe tbody tr th:only-of-type {\n",
       "        vertical-align: middle;\n",
       "    }\n",
       "\n",
       "    .dataframe tbody tr th {\n",
       "        vertical-align: top;\n",
       "    }\n",
       "\n",
       "    .dataframe thead th {\n",
       "        text-align: right;\n",
       "    }\n",
       "</style>\n",
       "<table border=\"1\" class=\"dataframe\">\n",
       "  <thead>\n",
       "    <tr style=\"text-align: right;\">\n",
       "      <th></th>\n",
       "      <th>Name</th>\n",
       "      <th>Year</th>\n",
       "      <th>Rate</th>\n",
       "      <th>Genre</th>\n",
       "      <th>Country</th>\n",
       "    </tr>\n",
       "  </thead>\n",
       "  <tbody>\n",
       "    <tr>\n",
       "      <th>0</th>\n",
       "      <td>Deep Red</td>\n",
       "      <td>1975</td>\n",
       "      <td>7.6</td>\n",
       "      <td>Horror,Mystery,Thriller</td>\n",
       "      <td>Italy</td>\n",
       "    </tr>\n",
       "    <tr>\n",
       "      <th>1</th>\n",
       "      <td>The Wailing</td>\n",
       "      <td>2016</td>\n",
       "      <td>7.5</td>\n",
       "      <td>Horror,Mystery,Thriller</td>\n",
       "      <td>South Korea</td>\n",
       "    </tr>\n",
       "    <tr>\n",
       "      <th>2</th>\n",
       "      <td>Psycho</td>\n",
       "      <td>1960</td>\n",
       "      <td>8.5</td>\n",
       "      <td>Horror,Mystery,Thriller</td>\n",
       "      <td>United States</td>\n",
       "    </tr>\n",
       "    <tr>\n",
       "      <th>3</th>\n",
       "      <td>A Quiet Place</td>\n",
       "      <td>2018</td>\n",
       "      <td>7.5</td>\n",
       "      <td>Drama,Horror,Sci-Fi</td>\n",
       "      <td>United States</td>\n",
       "    </tr>\n",
       "    <tr>\n",
       "      <th>4</th>\n",
       "      <td>The Lighthouse</td>\n",
       "      <td>2019</td>\n",
       "      <td>7.5</td>\n",
       "      <td>Drama,Fantasy,Horror,Mystery</td>\n",
       "      <td>Canada</td>\n",
       "    </tr>\n",
       "  </tbody>\n",
       "</table>\n",
       "</div>"
      ],
      "text/plain": [
       "             Name  Year  Rate                         Genre        Country\n",
       "0        Deep Red  1975   7.6       Horror,Mystery,Thriller          Italy\n",
       "1     The Wailing  2016   7.5       Horror,Mystery,Thriller    South Korea\n",
       "2          Psycho  1960   8.5       Horror,Mystery,Thriller  United States\n",
       "3   A Quiet Place  2018   7.5           Drama,Horror,Sci-Fi  United States\n",
       "4  The Lighthouse  2019   7.5  Drama,Fantasy,Horror,Mystery         Canada"
      ]
     },
     "execution_count": 172,
     "metadata": {},
     "output_type": "execute_result"
    }
   ],
   "source": [
    "mainpage.head(5)"
   ]
  },
  {
   "cell_type": "markdown",
   "id": "ede4047e",
   "metadata": {},
   "source": [
    "#### 0.3.2. ranking.csv\n",
    "\n",
    "This csv file is generated from **RankNum.py**. This spider scrapes the ranking value of films from the main ranking page. The ranking value before the film title on the ranking page is stored together in a list, so we wrote a for loop to match the ranking value with its film title, and store it in a dictionary.\n",
    "\n",
    "- **Rank**: ranking value of the film on the ranking page;\n",
    "- **Name**: title of the film;\n",
    "- **Year**: release year of the film.\n"
   ]
  },
  {
   "cell_type": "code",
   "execution_count": 173,
   "id": "239090f4",
   "metadata": {},
   "outputs": [
    {
     "data": {
      "text/html": [
       "<div>\n",
       "<style scoped>\n",
       "    .dataframe tbody tr th:only-of-type {\n",
       "        vertical-align: middle;\n",
       "    }\n",
       "\n",
       "    .dataframe tbody tr th {\n",
       "        vertical-align: top;\n",
       "    }\n",
       "\n",
       "    .dataframe thead th {\n",
       "        text-align: right;\n",
       "    }\n",
       "</style>\n",
       "<table border=\"1\" class=\"dataframe\">\n",
       "  <thead>\n",
       "    <tr style=\"text-align: right;\">\n",
       "      <th></th>\n",
       "      <th>Rank</th>\n",
       "      <th>Name</th>\n",
       "      <th>Year</th>\n",
       "    </tr>\n",
       "  </thead>\n",
       "  <tbody>\n",
       "    <tr>\n",
       "      <th>0</th>\n",
       "      <td>1</td>\n",
       "      <td>Psycho</td>\n",
       "      <td>1960</td>\n",
       "    </tr>\n",
       "    <tr>\n",
       "      <th>1</th>\n",
       "      <td>2</td>\n",
       "      <td>The Shining</td>\n",
       "      <td>1980</td>\n",
       "    </tr>\n",
       "    <tr>\n",
       "      <th>2</th>\n",
       "      <td>3</td>\n",
       "      <td>Alien</td>\n",
       "      <td>1979</td>\n",
       "    </tr>\n",
       "    <tr>\n",
       "      <th>3</th>\n",
       "      <td>4</td>\n",
       "      <td>Tumbbad</td>\n",
       "      <td>2018</td>\n",
       "    </tr>\n",
       "    <tr>\n",
       "      <th>4</th>\n",
       "      <td>5</td>\n",
       "      <td>Demon Slayer: Mugen Train</td>\n",
       "      <td>2020</td>\n",
       "    </tr>\n",
       "  </tbody>\n",
       "</table>\n",
       "</div>"
      ],
      "text/plain": [
       "   Rank                       Name  Year\n",
       "0     1                     Psycho  1960\n",
       "1     2                The Shining  1980\n",
       "2     3                      Alien  1979\n",
       "3     4                    Tumbbad  2018\n",
       "4     5  Demon Slayer: Mugen Train  2020"
      ]
     },
     "execution_count": 173,
     "metadata": {},
     "output_type": "execute_result"
    }
   ],
   "source": [
    "ranking.head(5)"
   ]
  },
  {
   "cell_type": "markdown",
   "id": "ede4047e",
   "metadata": {},
   "source": [
    "#### 0.3.3. allrate.csv\n",
    "\n",
    "This csv file is generated from **AllRate.py**, which generates the number of people to vote each rating value. We start from the ranking page, then use the jump_rating function to go to the user ratings page of each horror film. At this page, we scraped the number of voters of each rating value from 1 to 10.\n",
    "\n",
    "A sample rating page of movie can be found here (*Psycho*, 1960): https://www.imdb.com/title/tt0054215/ratings/?ref_=tt_ov_rt.\n",
    "\n",
    "- **Name**: title of the film;\n",
    "- **Year**: release year of the film;\n",
    "- **Rating**: the weighted average rating given by all of the users, same as the one shown on the main ranking page and the main film information page;\n",
    "- **User_Type**: type of users. User_Type is all “IMDb Users” in order to distinguish from other types of users generated by other spiders;\n",
    "- **vote10 ~ vote1**: the number of voters of each rating value (e.g. 55,603 for Saw vote10 means that there are 55,603 IMDb users in total rated horror film Saw 10/10).\n"
   ]
  },
  {
   "cell_type": "code",
   "execution_count": 174,
   "id": "239090f4",
   "metadata": {},
   "outputs": [
    {
     "data": {
      "text/html": [
       "<div>\n",
       "<style scoped>\n",
       "    .dataframe tbody tr th:only-of-type {\n",
       "        vertical-align: middle;\n",
       "    }\n",
       "\n",
       "    .dataframe tbody tr th {\n",
       "        vertical-align: top;\n",
       "    }\n",
       "\n",
       "    .dataframe thead th {\n",
       "        text-align: right;\n",
       "    }\n",
       "</style>\n",
       "<table border=\"1\" class=\"dataframe\">\n",
       "  <thead>\n",
       "    <tr style=\"text-align: right;\">\n",
       "      <th></th>\n",
       "      <th>Name</th>\n",
       "      <th>Year</th>\n",
       "      <th>Rating</th>\n",
       "      <th>User_Type</th>\n",
       "      <th>vote10</th>\n",
       "      <th>vote9</th>\n",
       "      <th>vote8</th>\n",
       "      <th>vote7</th>\n",
       "      <th>vote6</th>\n",
       "      <th>vote5</th>\n",
       "      <th>vote4</th>\n",
       "      <th>vote3</th>\n",
       "      <th>vote2</th>\n",
       "      <th>vote1</th>\n",
       "    </tr>\n",
       "  </thead>\n",
       "  <tbody>\n",
       "    <tr>\n",
       "      <th>0</th>\n",
       "      <td>The Lighthouse</td>\n",
       "      <td>2019</td>\n",
       "      <td>7.5</td>\n",
       "      <td>IMDb Users</td>\n",
       "      <td>21413</td>\n",
       "      <td>29629</td>\n",
       "      <td>48256</td>\n",
       "      <td>37827</td>\n",
       "      <td>18885</td>\n",
       "      <td>9223</td>\n",
       "      <td>4841</td>\n",
       "      <td>3132</td>\n",
       "      <td>2268</td>\n",
       "      <td>3743</td>\n",
       "    </tr>\n",
       "    <tr>\n",
       "      <th>1</th>\n",
       "      <td>A Quiet Place</td>\n",
       "      <td>2018</td>\n",
       "      <td>7.5</td>\n",
       "      <td>IMDb Users</td>\n",
       "      <td>54103</td>\n",
       "      <td>75677</td>\n",
       "      <td>152430</td>\n",
       "      <td>118066</td>\n",
       "      <td>47978</td>\n",
       "      <td>18678</td>\n",
       "      <td>8604</td>\n",
       "      <td>5048</td>\n",
       "      <td>3367</td>\n",
       "      <td>5649</td>\n",
       "    </tr>\n",
       "    <tr>\n",
       "      <th>2</th>\n",
       "      <td>The Conjuring</td>\n",
       "      <td>2013</td>\n",
       "      <td>7.5</td>\n",
       "      <td>IMDb Users</td>\n",
       "      <td>61822</td>\n",
       "      <td>70986</td>\n",
       "      <td>145724</td>\n",
       "      <td>120266</td>\n",
       "      <td>48014</td>\n",
       "      <td>17467</td>\n",
       "      <td>7025</td>\n",
       "      <td>3644</td>\n",
       "      <td>2187</td>\n",
       "      <td>3614</td>\n",
       "    </tr>\n",
       "    <tr>\n",
       "      <th>3</th>\n",
       "      <td>American Psycho</td>\n",
       "      <td>2000</td>\n",
       "      <td>7.6</td>\n",
       "      <td>IMDb Users</td>\n",
       "      <td>62803</td>\n",
       "      <td>84728</td>\n",
       "      <td>168004</td>\n",
       "      <td>131072</td>\n",
       "      <td>51486</td>\n",
       "      <td>19245</td>\n",
       "      <td>8347</td>\n",
       "      <td>4427</td>\n",
       "      <td>2934</td>\n",
       "      <td>4419</td>\n",
       "    </tr>\n",
       "    <tr>\n",
       "      <th>4</th>\n",
       "      <td>Psycho</td>\n",
       "      <td>1960</td>\n",
       "      <td>8.5</td>\n",
       "      <td>IMDb Users</td>\n",
       "      <td>154176</td>\n",
       "      <td>178106</td>\n",
       "      <td>173392</td>\n",
       "      <td>81863</td>\n",
       "      <td>26755</td>\n",
       "      <td>10529</td>\n",
       "      <td>4706</td>\n",
       "      <td>2575</td>\n",
       "      <td>1848</td>\n",
       "      <td>4906</td>\n",
       "    </tr>\n",
       "  </tbody>\n",
       "</table>\n",
       "</div>"
      ],
      "text/plain": [
       "              Name  Year  Rating   User_Type  vote10   vote9   vote8   vote7  \\\n",
       "0   The Lighthouse  2019     7.5  IMDb Users   21413   29629   48256   37827   \n",
       "1    A Quiet Place  2018     7.5  IMDb Users   54103   75677  152430  118066   \n",
       "2    The Conjuring  2013     7.5  IMDb Users   61822   70986  145724  120266   \n",
       "3  American Psycho  2000     7.6  IMDb Users   62803   84728  168004  131072   \n",
       "4           Psycho  1960     8.5  IMDb Users  154176  178106  173392   81863   \n",
       "\n",
       "   vote6  vote5  vote4  vote3  vote2  vote1  \n",
       "0  18885   9223   4841   3132   2268   3743  \n",
       "1  47978  18678   8604   5048   3367   5649  \n",
       "2  48014  17467   7025   3644   2187   3614  \n",
       "3  51486  19245   8347   4427   2934   4419  \n",
       "4  26755  10529   4706   2575   1848   4906  "
      ]
     },
     "execution_count": 174,
     "metadata": {},
     "output_type": "execute_result"
    }
   ],
   "source": [
    "all_rate.head(5)"
   ]
  },
  {
   "cell_type": "markdown",
   "id": "ede4047e",
   "metadata": {},
   "source": [
    "#### 0.3.4. agegroup.csv\n",
    "\n",
    "This csv file is generated from **age_group.py**, which scraped the rating and number of voters from each age group. We used these data to demonstrate the age distribution and rating tendencies for different age groups.\n",
    "\n",
    "A sample rating page of movie can be found here (*Psycho*, 1960): https://www.imdb.com/title/tt0054215/ratings/?ref_=tt_ov_rt.\n",
    "\n",
    "- **Movie**: title of the film;\n",
    "- **Year**: release year of the film;\n",
    "- **Rate_All Ages**: rating value voted by users from all ages;\n",
    "- **Rate_<18 / 18-29 / 30-44 / 45+**: rating value voted by users under 18 / 18-29 / 30-44 / above 45;\n",
    "- **Number_All Ages**: the number of voters for each film;\n",
    "- **Number_<18 / 18-29 / 30-44 / 45+**:  the number of voters of under 18 / 18-29 / 30-44 / above 45\n"
   ]
  },
  {
   "cell_type": "code",
   "execution_count": 175,
   "id": "239090f4",
   "metadata": {},
   "outputs": [
    {
     "data": {
      "text/html": [
       "<div>\n",
       "<style scoped>\n",
       "    .dataframe tbody tr th:only-of-type {\n",
       "        vertical-align: middle;\n",
       "    }\n",
       "\n",
       "    .dataframe tbody tr th {\n",
       "        vertical-align: top;\n",
       "    }\n",
       "\n",
       "    .dataframe thead th {\n",
       "        text-align: right;\n",
       "    }\n",
       "</style>\n",
       "<table border=\"1\" class=\"dataframe\">\n",
       "  <thead>\n",
       "    <tr style=\"text-align: right;\">\n",
       "      <th></th>\n",
       "      <th>Movie</th>\n",
       "      <th>Year</th>\n",
       "      <th>Rate_All Ages</th>\n",
       "      <th>Rate_&lt;18</th>\n",
       "      <th>Rate_18-29</th>\n",
       "      <th>Rate_30-44</th>\n",
       "      <th>Rate_45+</th>\n",
       "      <th>Number_All Ages</th>\n",
       "      <th>Number_&lt;18</th>\n",
       "      <th>Number_18-29</th>\n",
       "      <th>Number_30-44</th>\n",
       "      <th>Number_45+</th>\n",
       "    </tr>\n",
       "  </thead>\n",
       "  <tbody>\n",
       "    <tr>\n",
       "      <th>0</th>\n",
       "      <td>A Quiet Place</td>\n",
       "      <td>2018</td>\n",
       "      <td>7.5</td>\n",
       "      <td>7.6</td>\n",
       "      <td>7.6</td>\n",
       "      <td>7.4</td>\n",
       "      <td>7.4</td>\n",
       "      <td>489831</td>\n",
       "      <td>498</td>\n",
       "      <td>89041</td>\n",
       "      <td>154844</td>\n",
       "      <td>40616</td>\n",
       "    </tr>\n",
       "    <tr>\n",
       "      <th>1</th>\n",
       "      <td>Godzilla</td>\n",
       "      <td>1954</td>\n",
       "      <td>7.6</td>\n",
       "      <td>7.9</td>\n",
       "      <td>7.8</td>\n",
       "      <td>7.5</td>\n",
       "      <td>7.3</td>\n",
       "      <td>32428</td>\n",
       "      <td>32</td>\n",
       "      <td>4824</td>\n",
       "      <td>12546</td>\n",
       "      <td>6129</td>\n",
       "    </tr>\n",
       "    <tr>\n",
       "      <th>2</th>\n",
       "      <td>The Fly</td>\n",
       "      <td>1986</td>\n",
       "      <td>7.6</td>\n",
       "      <td>8.0</td>\n",
       "      <td>7.7</td>\n",
       "      <td>7.6</td>\n",
       "      <td>7.5</td>\n",
       "      <td>171639</td>\n",
       "      <td>58</td>\n",
       "      <td>17814</td>\n",
       "      <td>79829</td>\n",
       "      <td>30968</td>\n",
       "    </tr>\n",
       "    <tr>\n",
       "      <th>3</th>\n",
       "      <td>Psycho</td>\n",
       "      <td>1960</td>\n",
       "      <td>8.5</td>\n",
       "      <td>8.8</td>\n",
       "      <td>8.6</td>\n",
       "      <td>8.5</td>\n",
       "      <td>8.5</td>\n",
       "      <td>639113</td>\n",
       "      <td>371</td>\n",
       "      <td>101170</td>\n",
       "      <td>244362</td>\n",
       "      <td>90742</td>\n",
       "    </tr>\n",
       "    <tr>\n",
       "      <th>4</th>\n",
       "      <td>Deep Red</td>\n",
       "      <td>1975</td>\n",
       "      <td>7.6</td>\n",
       "      <td>7.4</td>\n",
       "      <td>7.7</td>\n",
       "      <td>7.6</td>\n",
       "      <td>7.4</td>\n",
       "      <td>36189</td>\n",
       "      <td>20</td>\n",
       "      <td>3991</td>\n",
       "      <td>16252</td>\n",
       "      <td>7145</td>\n",
       "    </tr>\n",
       "  </tbody>\n",
       "</table>\n",
       "</div>"
      ],
      "text/plain": [
       "           Movie  Year  Rate_All Ages  Rate_<18  Rate_18-29  Rate_30-44  \\\n",
       "0  A Quiet Place  2018            7.5       7.6         7.6         7.4   \n",
       "1       Godzilla  1954            7.6       7.9         7.8         7.5   \n",
       "2        The Fly  1986            7.6       8.0         7.7         7.6   \n",
       "3         Psycho  1960            8.5       8.8         8.6         8.5   \n",
       "4       Deep Red  1975            7.6       7.4         7.7         7.6   \n",
       "\n",
       "   Rate_45+  Number_All Ages  Number_<18  Number_18-29  Number_30-44  \\\n",
       "0       7.4           489831         498         89041        154844   \n",
       "1       7.3            32428          32          4824         12546   \n",
       "2       7.5           171639          58         17814         79829   \n",
       "3       8.5           639113         371        101170        244362   \n",
       "4       7.4            36189          20          3991         16252   \n",
       "\n",
       "   Number_45+  \n",
       "0       40616  \n",
       "1        6129  \n",
       "2       30968  \n",
       "3       90742  \n",
       "4        7145  "
      ]
     },
     "execution_count": 175,
     "metadata": {},
     "output_type": "execute_result"
    }
   ],
   "source": [
    "age_group.head(5)"
   ]
  },
  {
   "cell_type": "markdown",
   "id": "ede4047e",
   "metadata": {},
   "source": [
    "#### 0.3.5. malespider.csv & femalespider.csv\n",
    "\n",
    "This csv file is generated from **malespider.py** & **femalespider.py**. These 2 spiders scraped the rating and number of voters by genders. And we used the scraped data to demonstrate the gender ratio and rating tendencies for different genders.\n",
    "\n",
    "A sample rating page of male reviewers (*Psycho*, 1960): https://www.imdb.com/title/tt0054215/ratings?demo=males;\n",
    "\n",
    "A sample rating page of female reviewers (*Psycho*, 1960): https://www.imdb.com/title/tt0054215/ratings?demo=females.\n",
    "\n",
    "- **Name**: title of the film;\n",
    "- **Year**: release year of the film;\n",
    "- **User_Type**: we have three types of users for this column. For ‘Malespider’, the user type should be ‘males’, and for ‘femalespider’, it should be ‘females’;\n",
    "- **Rating**: the weighted average rating given by male/female users;\n",
    "- **vote10 ~ vote1**: the number of voters of each rating value (e.g. 55,603 for Saw vote10 means that there are 55,603 IMDb users in total rated horror film Saw 10/10);\n",
    "- **Rate_Male/Female**: the weighted average rating given by male/female users;\n",
    "- **Rate_<18 / 18-29 / 30-44 / 45+ m/f**: rating by male/female users (e.g. 7.9 for ‘Rate_<18m’ means that the weighted average rating for male users under 18 years old is 7.9/10);\n",
    "- **Number_Male/Female**: the number of male/female voters for each film;\n",
    "- **Number_<18 / 18-29 / 30-44 / 45+ m/f**: rating by male/female users (e.g. 154 for ‘Number_<18m’ means that there are 154 male users under 18 years old voted this film)\n",
    "\n"
   ]
  },
  {
   "cell_type": "code",
   "execution_count": 176,
   "id": "239090f4",
   "metadata": {},
   "outputs": [
    {
     "data": {
      "text/html": [
       "<div>\n",
       "<style scoped>\n",
       "    .dataframe tbody tr th:only-of-type {\n",
       "        vertical-align: middle;\n",
       "    }\n",
       "\n",
       "    .dataframe tbody tr th {\n",
       "        vertical-align: top;\n",
       "    }\n",
       "\n",
       "    .dataframe thead th {\n",
       "        text-align: right;\n",
       "    }\n",
       "</style>\n",
       "<table border=\"1\" class=\"dataframe\">\n",
       "  <thead>\n",
       "    <tr style=\"text-align: right;\">\n",
       "      <th></th>\n",
       "      <th>Name</th>\n",
       "      <th>Year</th>\n",
       "      <th>User_Type</th>\n",
       "      <th>Rating</th>\n",
       "      <th>vote10m</th>\n",
       "      <th>vote9m</th>\n",
       "      <th>vote8m</th>\n",
       "      <th>vote7m</th>\n",
       "      <th>vote6m</th>\n",
       "      <th>vote5m</th>\n",
       "      <th>...</th>\n",
       "      <th>Rate_Male</th>\n",
       "      <th>Rate_&lt;18m</th>\n",
       "      <th>Rate_18-29m</th>\n",
       "      <th>Rate_30-44m</th>\n",
       "      <th>Rate_45+m</th>\n",
       "      <th>Number_Male</th>\n",
       "      <th>Number_&lt;18m</th>\n",
       "      <th>Number_18-29m</th>\n",
       "      <th>Number_30-44m</th>\n",
       "      <th>Number_45+m</th>\n",
       "    </tr>\n",
       "  </thead>\n",
       "  <tbody>\n",
       "    <tr>\n",
       "      <th>0</th>\n",
       "      <td>The Fly</td>\n",
       "      <td>1986</td>\n",
       "      <td>males</td>\n",
       "      <td>7.6</td>\n",
       "      <td>10089</td>\n",
       "      <td>15490</td>\n",
       "      <td>39687</td>\n",
       "      <td>32512</td>\n",
       "      <td>11422</td>\n",
       "      <td>3703</td>\n",
       "      <td>...</td>\n",
       "      <td>7.6</td>\n",
       "      <td>8.0</td>\n",
       "      <td>7.7</td>\n",
       "      <td>7.6</td>\n",
       "      <td>7.5</td>\n",
       "      <td>115990</td>\n",
       "      <td>46</td>\n",
       "      <td>14846</td>\n",
       "      <td>69205</td>\n",
       "      <td>26819</td>\n",
       "    </tr>\n",
       "    <tr>\n",
       "      <th>1</th>\n",
       "      <td>The Wailing</td>\n",
       "      <td>2016</td>\n",
       "      <td>males</td>\n",
       "      <td>7.5</td>\n",
       "      <td>3252</td>\n",
       "      <td>5868</td>\n",
       "      <td>11518</td>\n",
       "      <td>9438</td>\n",
       "      <td>4029</td>\n",
       "      <td>1759</td>\n",
       "      <td>...</td>\n",
       "      <td>7.5</td>\n",
       "      <td>7.5</td>\n",
       "      <td>7.8</td>\n",
       "      <td>7.4</td>\n",
       "      <td>7.0</td>\n",
       "      <td>37753</td>\n",
       "      <td>22</td>\n",
       "      <td>9020</td>\n",
       "      <td>20925</td>\n",
       "      <td>4842</td>\n",
       "    </tr>\n",
       "    <tr>\n",
       "      <th>2</th>\n",
       "      <td>Godzilla</td>\n",
       "      <td>1954</td>\n",
       "      <td>males</td>\n",
       "      <td>7.5</td>\n",
       "      <td>3639</td>\n",
       "      <td>2717</td>\n",
       "      <td>5979</td>\n",
       "      <td>5475</td>\n",
       "      <td>2422</td>\n",
       "      <td>971</td>\n",
       "      <td>...</td>\n",
       "      <td>7.5</td>\n",
       "      <td>7.9</td>\n",
       "      <td>7.8</td>\n",
       "      <td>7.5</td>\n",
       "      <td>7.3</td>\n",
       "      <td>22060</td>\n",
       "      <td>22</td>\n",
       "      <td>4287</td>\n",
       "      <td>11380</td>\n",
       "      <td>5385</td>\n",
       "    </tr>\n",
       "    <tr>\n",
       "      <th>3</th>\n",
       "      <td>The Lighthouse</td>\n",
       "      <td>2019</td>\n",
       "      <td>males</td>\n",
       "      <td>7.4</td>\n",
       "      <td>9869</td>\n",
       "      <td>15295</td>\n",
       "      <td>26698</td>\n",
       "      <td>21611</td>\n",
       "      <td>10956</td>\n",
       "      <td>5347</td>\n",
       "      <td>...</td>\n",
       "      <td>7.4</td>\n",
       "      <td>8.3</td>\n",
       "      <td>7.9</td>\n",
       "      <td>7.3</td>\n",
       "      <td>6.7</td>\n",
       "      <td>97151</td>\n",
       "      <td>190</td>\n",
       "      <td>29063</td>\n",
       "      <td>45686</td>\n",
       "      <td>12876</td>\n",
       "    </tr>\n",
       "    <tr>\n",
       "      <th>4</th>\n",
       "      <td>Psycho</td>\n",
       "      <td>1960</td>\n",
       "      <td>males</td>\n",
       "      <td>8.5</td>\n",
       "      <td>88505</td>\n",
       "      <td>103803</td>\n",
       "      <td>98779</td>\n",
       "      <td>46092</td>\n",
       "      <td>14826</td>\n",
       "      <td>5504</td>\n",
       "      <td>...</td>\n",
       "      <td>8.5</td>\n",
       "      <td>8.9</td>\n",
       "      <td>8.6</td>\n",
       "      <td>8.5</td>\n",
       "      <td>8.5</td>\n",
       "      <td>364846</td>\n",
       "      <td>263</td>\n",
       "      <td>74742</td>\n",
       "      <td>195130</td>\n",
       "      <td>73595</td>\n",
       "    </tr>\n",
       "  </tbody>\n",
       "</table>\n",
       "<p>5 rows × 24 columns</p>\n",
       "</div>"
      ],
      "text/plain": [
       "             Name  Year User_Type  Rating  vote10m  vote9m  vote8m  vote7m  \\\n",
       "0         The Fly  1986     males     7.6    10089   15490   39687   32512   \n",
       "1     The Wailing  2016     males     7.5     3252    5868   11518    9438   \n",
       "2        Godzilla  1954     males     7.5     3639    2717    5979    5475   \n",
       "3  The Lighthouse  2019     males     7.4     9869   15295   26698   21611   \n",
       "4          Psycho  1960     males     8.5    88505  103803   98779   46092   \n",
       "\n",
       "   vote6m  vote5m  ...  Rate_Male  Rate_<18m  Rate_18-29m  Rate_30-44m  \\\n",
       "0   11422    3703  ...        7.6        8.0          7.7          7.6   \n",
       "1    4029    1759  ...        7.5        7.5          7.8          7.4   \n",
       "2    2422     971  ...        7.5        7.9          7.8          7.5   \n",
       "3   10956    5347  ...        7.4        8.3          7.9          7.3   \n",
       "4   14826    5504  ...        8.5        8.9          8.6          8.5   \n",
       "\n",
       "   Rate_45+m  Number_Male  Number_<18m  Number_18-29m  Number_30-44m  \\\n",
       "0        7.5       115990           46          14846          69205   \n",
       "1        7.0        37753           22           9020          20925   \n",
       "2        7.3        22060           22           4287          11380   \n",
       "3        6.7        97151          190          29063          45686   \n",
       "4        8.5       364846          263          74742         195130   \n",
       "\n",
       "   Number_45+m  \n",
       "0        26819  \n",
       "1         4842  \n",
       "2         5385  \n",
       "3        12876  \n",
       "4        73595  \n",
       "\n",
       "[5 rows x 24 columns]"
      ]
     },
     "execution_count": 176,
     "metadata": {},
     "output_type": "execute_result"
    }
   ],
   "source": [
    "male.head(5)"
   ]
  },
  {
   "cell_type": "code",
   "execution_count": 177,
   "id": "7c4b5ada",
   "metadata": {},
   "outputs": [
    {
     "data": {
      "text/html": [
       "<div>\n",
       "<style scoped>\n",
       "    .dataframe tbody tr th:only-of-type {\n",
       "        vertical-align: middle;\n",
       "    }\n",
       "\n",
       "    .dataframe tbody tr th {\n",
       "        vertical-align: top;\n",
       "    }\n",
       "\n",
       "    .dataframe thead th {\n",
       "        text-align: right;\n",
       "    }\n",
       "</style>\n",
       "<table border=\"1\" class=\"dataframe\">\n",
       "  <thead>\n",
       "    <tr style=\"text-align: right;\">\n",
       "      <th></th>\n",
       "      <th>Name</th>\n",
       "      <th>Year</th>\n",
       "      <th>User_Type</th>\n",
       "      <th>Rating</th>\n",
       "      <th>vote10f</th>\n",
       "      <th>vote9f</th>\n",
       "      <th>vote8f</th>\n",
       "      <th>vote7f</th>\n",
       "      <th>vote6f</th>\n",
       "      <th>vote5f</th>\n",
       "      <th>...</th>\n",
       "      <th>Rate_Female</th>\n",
       "      <th>Rate_&lt;18f</th>\n",
       "      <th>Rate_18-29f</th>\n",
       "      <th>Rate_30-44f</th>\n",
       "      <th>Rate_45+f</th>\n",
       "      <th>Number_Female</th>\n",
       "      <th>Number_&lt;18f</th>\n",
       "      <th>Number_18-29f</th>\n",
       "      <th>Number_30-44f</th>\n",
       "      <th>Number_45+f</th>\n",
       "    </tr>\n",
       "  </thead>\n",
       "  <tbody>\n",
       "    <tr>\n",
       "      <th>0</th>\n",
       "      <td>A Quiet Place</td>\n",
       "      <td>2018</td>\n",
       "      <td>females</td>\n",
       "      <td>7.6</td>\n",
       "      <td>9106</td>\n",
       "      <td>10672</td>\n",
       "      <td>17895</td>\n",
       "      <td>13855</td>\n",
       "      <td>5971</td>\n",
       "      <td>2456</td>\n",
       "      <td>...</td>\n",
       "      <td>7.6</td>\n",
       "      <td>7.5</td>\n",
       "      <td>7.7</td>\n",
       "      <td>7.5</td>\n",
       "      <td>7.6</td>\n",
       "      <td>62991</td>\n",
       "      <td>101</td>\n",
       "      <td>20310</td>\n",
       "      <td>27873</td>\n",
       "      <td>6866</td>\n",
       "    </tr>\n",
       "    <tr>\n",
       "      <th>1</th>\n",
       "      <td>The Wailing</td>\n",
       "      <td>2016</td>\n",
       "      <td>females</td>\n",
       "      <td>7.2</td>\n",
       "      <td>507</td>\n",
       "      <td>800</td>\n",
       "      <td>1675</td>\n",
       "      <td>1549</td>\n",
       "      <td>693</td>\n",
       "      <td>388</td>\n",
       "      <td>...</td>\n",
       "      <td>7.2</td>\n",
       "      <td>7.2</td>\n",
       "      <td>7.4</td>\n",
       "      <td>7.1</td>\n",
       "      <td>7.0</td>\n",
       "      <td>6005</td>\n",
       "      <td>6</td>\n",
       "      <td>1756</td>\n",
       "      <td>3000</td>\n",
       "      <td>662</td>\n",
       "    </tr>\n",
       "    <tr>\n",
       "      <th>2</th>\n",
       "      <td>Tucker and Dale vs Evil</td>\n",
       "      <td>2010</td>\n",
       "      <td>females</td>\n",
       "      <td>7.6</td>\n",
       "      <td>3158</td>\n",
       "      <td>2960</td>\n",
       "      <td>5198</td>\n",
       "      <td>4057</td>\n",
       "      <td>1616</td>\n",
       "      <td>645</td>\n",
       "      <td>...</td>\n",
       "      <td>7.6</td>\n",
       "      <td>6.9</td>\n",
       "      <td>7.5</td>\n",
       "      <td>7.6</td>\n",
       "      <td>7.8</td>\n",
       "      <td>18337</td>\n",
       "      <td>7</td>\n",
       "      <td>4150</td>\n",
       "      <td>10972</td>\n",
       "      <td>2181</td>\n",
       "    </tr>\n",
       "    <tr>\n",
       "      <th>3</th>\n",
       "      <td>Godzilla</td>\n",
       "      <td>1954</td>\n",
       "      <td>females</td>\n",
       "      <td>7.4</td>\n",
       "      <td>314</td>\n",
       "      <td>285</td>\n",
       "      <td>624</td>\n",
       "      <td>553</td>\n",
       "      <td>195</td>\n",
       "      <td>132</td>\n",
       "      <td>...</td>\n",
       "      <td>7.4</td>\n",
       "      <td>8.4</td>\n",
       "      <td>7.5</td>\n",
       "      <td>7.3</td>\n",
       "      <td>7.3</td>\n",
       "      <td>2219</td>\n",
       "      <td>6</td>\n",
       "      <td>442</td>\n",
       "      <td>1027</td>\n",
       "      <td>654</td>\n",
       "    </tr>\n",
       "    <tr>\n",
       "      <th>4</th>\n",
       "      <td>Psycho</td>\n",
       "      <td>1960</td>\n",
       "      <td>females</td>\n",
       "      <td>8.4</td>\n",
       "      <td>21933</td>\n",
       "      <td>24749</td>\n",
       "      <td>24497</td>\n",
       "      <td>11939</td>\n",
       "      <td>4167</td>\n",
       "      <td>1866</td>\n",
       "      <td>...</td>\n",
       "      <td>8.4</td>\n",
       "      <td>8.2</td>\n",
       "      <td>8.5</td>\n",
       "      <td>8.4</td>\n",
       "      <td>8.5</td>\n",
       "      <td>91367</td>\n",
       "      <td>82</td>\n",
       "      <td>23989</td>\n",
       "      <td>46082</td>\n",
       "      <td>15597</td>\n",
       "    </tr>\n",
       "  </tbody>\n",
       "</table>\n",
       "<p>5 rows × 24 columns</p>\n",
       "</div>"
      ],
      "text/plain": [
       "                      Name  Year User_Type  Rating  vote10f  vote9f  vote8f  \\\n",
       "0            A Quiet Place  2018   females     7.6     9106   10672   17895   \n",
       "1              The Wailing  2016   females     7.2      507     800    1675   \n",
       "2  Tucker and Dale vs Evil  2010   females     7.6     3158    2960    5198   \n",
       "3                 Godzilla  1954   females     7.4      314     285     624   \n",
       "4                   Psycho  1960   females     8.4    21933   24749   24497   \n",
       "\n",
       "   vote7f  vote6f  vote5f  ...  Rate_Female  Rate_<18f  Rate_18-29f  \\\n",
       "0   13855    5971    2456  ...          7.6        7.5          7.7   \n",
       "1    1549     693     388  ...          7.2        7.2          7.4   \n",
       "2    4057    1616     645  ...          7.6        6.9          7.5   \n",
       "3     553     195     132  ...          7.4        8.4          7.5   \n",
       "4   11939    4167    1866  ...          8.4        8.2          8.5   \n",
       "\n",
       "   Rate_30-44f  Rate_45+f  Number_Female  Number_<18f  Number_18-29f  \\\n",
       "0          7.5        7.6          62991          101          20310   \n",
       "1          7.1        7.0           6005            6           1756   \n",
       "2          7.6        7.8          18337            7           4150   \n",
       "3          7.3        7.3           2219            6            442   \n",
       "4          8.4        8.5          91367           82          23989   \n",
       "\n",
       "   Number_30-44f  Number_45+f  \n",
       "0          27873         6866  \n",
       "1           3000          662  \n",
       "2          10972         2181  \n",
       "3           1027          654  \n",
       "4          46082        15597  \n",
       "\n",
       "[5 rows x 24 columns]"
      ]
     },
     "execution_count": 177,
     "metadata": {},
     "output_type": "execute_result"
    }
   ],
   "source": [
    "female.head(5)"
   ]
  },
  {
   "cell_type": "markdown",
   "id": "ede4047e",
   "metadata": {},
   "source": [
    "#### 0.3.6. budget.csv\n",
    "\n",
    "This csv file is generated from **budget.py**, which functions similar to **HorrormovieMainpageSpider.py**. It scrapes the budget and gross worldwide box office data (in US dollar) located on the main information page.\n",
    "\n",
    "A sample main page of movie can be found here (*Psycho*, 1960): https://www.imdb.com/title/tt0054215/?ref_=adv_li_tt.\n",
    "\n",
    "- **Name**: title of the film;\n",
    "- **Year**: release year of the film;\n",
    "- **Rate**: the weighted average rating given by all of the users, same as the one shown on the main ranking page and the main film information page;\n",
    "- **Genre**: genres of the film, including animation, action, adventure, fantasy, crime, drama, mystery, thriller, etc.;\n",
    "- **Country**: issuing country of the film.\n",
    "- **Budget**: the estimated budget of the film;\n",
    "- **Gross Worldwide**: gross box office worldwide."
   ]
  },
  {
   "cell_type": "code",
   "execution_count": 178,
   "id": "239090f4",
   "metadata": {},
   "outputs": [
    {
     "data": {
      "text/html": [
       "<div>\n",
       "<style scoped>\n",
       "    .dataframe tbody tr th:only-of-type {\n",
       "        vertical-align: middle;\n",
       "    }\n",
       "\n",
       "    .dataframe tbody tr th {\n",
       "        vertical-align: top;\n",
       "    }\n",
       "\n",
       "    .dataframe thead th {\n",
       "        text-align: right;\n",
       "    }\n",
       "</style>\n",
       "<table border=\"1\" class=\"dataframe\">\n",
       "  <thead>\n",
       "    <tr style=\"text-align: right;\">\n",
       "      <th></th>\n",
       "      <th>Name</th>\n",
       "      <th>Year</th>\n",
       "      <th>Rate</th>\n",
       "      <th>Genre</th>\n",
       "      <th>Country</th>\n",
       "      <th>Budget</th>\n",
       "      <th>Gross Worldwide</th>\n",
       "    </tr>\n",
       "  </thead>\n",
       "  <tbody>\n",
       "    <tr>\n",
       "      <th>0</th>\n",
       "      <td>Psycho</td>\n",
       "      <td>1960</td>\n",
       "      <td>8.5</td>\n",
       "      <td>Horror,Mystery,Thriller</td>\n",
       "      <td>United States</td>\n",
       "      <td>806947</td>\n",
       "      <td>32041845</td>\n",
       "    </tr>\n",
       "    <tr>\n",
       "      <th>1</th>\n",
       "      <td>The Wailing</td>\n",
       "      <td>2016</td>\n",
       "      <td>7.5</td>\n",
       "      <td>Horror,Mystery,Thriller</td>\n",
       "      <td>South Korea</td>\n",
       "      <td>6420000</td>\n",
       "      <td>49851770</td>\n",
       "    </tr>\n",
       "    <tr>\n",
       "      <th>2</th>\n",
       "      <td>A Quiet Place</td>\n",
       "      <td>2018</td>\n",
       "      <td>7.5</td>\n",
       "      <td>Drama,Horror,Sci-Fi</td>\n",
       "      <td>United States</td>\n",
       "      <td>17000000</td>\n",
       "      <td>340952971</td>\n",
       "    </tr>\n",
       "    <tr>\n",
       "      <th>3</th>\n",
       "      <td>The Lighthouse</td>\n",
       "      <td>2019</td>\n",
       "      <td>7.5</td>\n",
       "      <td>Drama,Fantasy,Horror,Mystery</td>\n",
       "      <td>Canada</td>\n",
       "      <td>11000000</td>\n",
       "      <td>18124206</td>\n",
       "    </tr>\n",
       "    <tr>\n",
       "      <th>4</th>\n",
       "      <td>Saw</td>\n",
       "      <td>2004</td>\n",
       "      <td>7.6</td>\n",
       "      <td>Horror,Mystery,Thriller</td>\n",
       "      <td>United States</td>\n",
       "      <td>1200000</td>\n",
       "      <td>103911669</td>\n",
       "    </tr>\n",
       "  </tbody>\n",
       "</table>\n",
       "</div>"
      ],
      "text/plain": [
       "             Name  Year  Rate                         Genre        Country  \\\n",
       "0          Psycho  1960   8.5       Horror,Mystery,Thriller  United States   \n",
       "1     The Wailing  2016   7.5       Horror,Mystery,Thriller    South Korea   \n",
       "2   A Quiet Place  2018   7.5           Drama,Horror,Sci-Fi  United States   \n",
       "3  The Lighthouse  2019   7.5  Drama,Fantasy,Horror,Mystery         Canada   \n",
       "4             Saw  2004   7.6       Horror,Mystery,Thriller  United States   \n",
       "\n",
       "     Budget  Gross Worldwide  \n",
       "0    806947         32041845  \n",
       "1   6420000         49851770  \n",
       "2  17000000        340952971  \n",
       "3  11000000         18124206  \n",
       "4   1200000        103911669  "
      ]
     },
     "execution_count": 178,
     "metadata": {},
     "output_type": "execute_result"
    }
   ],
   "source": [
    "budget_read.head(5)"
   ]
  },
  {
   "cell_type": "markdown",
   "id": "fc99d4c0",
   "metadata": {},
   "source": [
    "## 1. Film Release Year & Rating\n",
    "People often think that most top-rated horror movies are the classic old ones. So, at the beginning of our project, we want to figure out whether old horror movies are indeed better than modern horror movies."
   ]
  },
  {
   "cell_type": "code",
   "execution_count": 179,
   "id": "5a18c3c5",
   "metadata": {},
   "outputs": [],
   "source": [
    "main_rank = pd.merge(ranking, mainpage, on = [\"Name\", \"Year\"])"
   ]
  },
  {
   "cell_type": "markdown",
   "id": "cfc2905e",
   "metadata": {},
   "source": [
    "### 1.1. Film Release Trend by Year\n",
    "First, we used a bar chart to show the number of horror movies for each year, in order to get a brief understanding about the trend."
   ]
  },
  {
   "cell_type": "code",
   "execution_count": 180,
   "id": "a399c08b",
   "metadata": {},
   "outputs": [
    {
     "data": {
      "text/plain": [
       "Text(0.5, 0, 'Year')"
      ]
     },
     "execution_count": 180,
     "metadata": {},
     "output_type": "execute_result"
    },
    {
     "data": {
      "image/png": "[encoded data removed]",
      "text/plain": [
       "<Figure size 1440x432 with 1 Axes>"
      ]
     },
     "metadata": {
      "needs_background": "light"
     },
     "output_type": "display_data"
    }
   ],
   "source": [
    "release_count = main_rank[[\"Year\", \"Rate\"]].groupby(['Year']).count().reset_index().rename(columns={'Rate':'Count'})\n",
    "\n",
    "fig, ax = plt.subplots(1, 1, figsize = (20,6))\n",
    "ax.bar(\n",
    "    x = release_count['Year'],\n",
    "    height = release_count['Count'],\n",
    "    color = '#34495E'\n",
    ")\n",
    "plt.xlim(1919, 2022)\n",
    "plt.title(\"Number of Horror Films Released by Year\", size = 25)\n",
    "ax.set_ylabel(\"Counts of Horror Films\", size = 15)\n",
    "ax.set_xlabel(\"Year\", size = 15)"
   ]
  },
  {
   "cell_type": "markdown",
   "id": "7d49cd02",
   "metadata": {},
   "source": [
    ">The first horror film was released in 1920. From then on, **generally more and more horror films are released each year, with a peak in 2019**. Unfortunately, the number decreases in 2020 and 2021 and violate the general trend, largely due to shocks of COVID-19 that freezes film industry. However, we should still remain optimistic about the release of horror film to recover back to its increasing trend in the future."
   ]
  },
  {
   "cell_type": "markdown",
   "id": "fd460635",
   "metadata": {},
   "source": [
    "### 1.2. Film Rating Trend by Year\n",
    "We analyzed the time trend of ratings of horror films by using a scatter plot."
   ]
  },
  {
   "cell_type": "code",
   "execution_count": 181,
   "id": "12edadae",
   "metadata": {},
   "outputs": [
    {
     "data": {
      "text/plain": [
       "[<matplotlib.lines.Line2D at 0x7fce29a5da60>]"
      ]
     },
     "execution_count": 181,
     "metadata": {},
     "output_type": "execute_result"
    },
    {
     "data": {
      "image/png": "[encoded data removed]",
      "text/plain": [
       "<Figure size 1440x432 with 1 Axes>"
      ]
     },
     "metadata": {
      "needs_background": "light"
     },
     "output_type": "display_data"
    }
   ],
   "source": [
    "release_rate = main_rank[[\"Year\", \"Rate\"]].groupby(['Year']).mean()\n",
    "\n",
    "fig, ax = plt.subplots(1, 1, figsize = (20,6))\n",
    "x = np.array(mainpage['Year'])\n",
    "y = np.array(mainpage['Rate'])\n",
    "m, b = np.polyfit(x, y, 1)\n",
    "plt.ylim(0, 10)\n",
    "ax.set_ylabel('Rating', size = 15)\n",
    "plt.title('Horror Film Rating by Release Year', size = 25)\n",
    "plt.plot(x, y, 'o', color = '#34495E')\n",
    "plt.axhline(y=7, color='blue', linestyle='--')\n",
    "plt.axhline(y=3, color='red', linestyle='--')\n",
    "plt.plot(x, m*x + b, color = 'orange', lw=3)"
   ]
  },
  {
   "cell_type": "markdown",
   "id": "24709a42",
   "metadata": {},
   "source": [
    ">We find a generally **decreasing** trend of horror film ratings over time. Although more and more horror films are released in recent years, the average rating is not higher. However, we cannot deny the fact that there is no recent high-rated horror films. There are always good horror films (rated over 7) released each year, but bad films (rated below 3) show up less frequently."
   ]
  },
  {
   "cell_type": "markdown",
   "id": "e59a0a69",
   "metadata": {},
   "source": [
    "By looking at the time trend of released horror films alone, it is not safe for us to conclude that modern horror films are worse than old ones. Despite of the general decreasing trend, variance of film rating scores in recent years is higher due to a larger number of films released.\n",
    "\n",
    "Perception and rating tendencies of modern film audience should also be taken into consideration when analyzing film rating. Therefore, we turned to explore the difference in rating tendencies among different genders and age groups."
   ]
  },
  {
   "cell_type": "markdown",
   "id": "e7442b18",
   "metadata": {},
   "source": [
    "## 2. Genre & Rating"
   ]
  },
  {
   "cell_type": "markdown",
   "id": "c6a5c7da",
   "metadata": {},
   "source": [
    "In this section, we plan to analyze the relationship between film genres and ranking. \n",
    "- First, we want to find the most popular subgenres by calculating their frequencies and proportions. We can see what genre of horror films filmmakers like to produce the most.\n",
    "- Second, we analyze the average rating of each subgenre. By doing this, we can find out which subgenre of horror films is most likely to produce a high-rated film."
   ]
  },
  {
   "cell_type": "code",
   "execution_count": 182,
   "id": "8ccf1354",
   "metadata": {},
   "outputs": [],
   "source": [
    "#convert string to list\n",
    "def stringToList(string):\n",
    "    listRes = list(string.split(\",\"))\n",
    "    return listRes\n",
    "\n",
    "mainpage[\"Genre_list\"] =mainpage.apply(lambda x : stringToList(x[\"Genre\"]),axis=1)"
   ]
  },
  {
   "cell_type": "code",
   "execution_count": 183,
   "id": "4b6ac663",
   "metadata": {},
   "outputs": [
    {
     "data": {
      "text/html": [
       "<div>\n",
       "<style scoped>\n",
       "    .dataframe tbody tr th:only-of-type {\n",
       "        vertical-align: middle;\n",
       "    }\n",
       "\n",
       "    .dataframe tbody tr th {\n",
       "        vertical-align: top;\n",
       "    }\n",
       "\n",
       "    .dataframe thead th {\n",
       "        text-align: right;\n",
       "    }\n",
       "</style>\n",
       "<table border=\"1\" class=\"dataframe\">\n",
       "  <thead>\n",
       "    <tr style=\"text-align: right;\">\n",
       "      <th></th>\n",
       "      <th>Frequency</th>\n",
       "      <th>Propotion</th>\n",
       "    </tr>\n",
       "  </thead>\n",
       "  <tbody>\n",
       "    <tr>\n",
       "      <th>Thriller</th>\n",
       "      <td>439</td>\n",
       "      <td>60.14</td>\n",
       "    </tr>\n",
       "    <tr>\n",
       "      <th>Mystery</th>\n",
       "      <td>270</td>\n",
       "      <td>36.99</td>\n",
       "    </tr>\n",
       "    <tr>\n",
       "      <th>Drama</th>\n",
       "      <td>187</td>\n",
       "      <td>25.62</td>\n",
       "    </tr>\n",
       "    <tr>\n",
       "      <th>Sci-Fi</th>\n",
       "      <td>178</td>\n",
       "      <td>24.38</td>\n",
       "    </tr>\n",
       "    <tr>\n",
       "      <th>Fantasy</th>\n",
       "      <td>136</td>\n",
       "      <td>18.63</td>\n",
       "    </tr>\n",
       "  </tbody>\n",
       "</table>\n",
       "</div>"
      ],
      "text/plain": [
       "          Frequency  Propotion\n",
       "Thriller        439      60.14\n",
       "Mystery         270      36.99\n",
       "Drama           187      25.62\n",
       "Sci-Fi          178      24.38\n",
       "Fantasy         136      18.63"
      ]
     },
     "execution_count": 183,
     "metadata": {},
     "output_type": "execute_result"
    }
   ],
   "source": [
    "#count the frequency and proportion of each subgenre\n",
    "a = pd.Series(np.concatenate(mainpage.Genre_list))\n",
    "Genre_count = pd.DataFrame({\"Frequency\":a.value_counts()}).rename(index={\"Horror\":\"Total Number\"})\n",
    "Genre_count[\"Propotion\"] =Genre_count[\"Frequency\"]/Genre_count[\"Frequency\"][0]*100  #calculate percentage for each genre\n",
    "Genre_count= Genre_count.drop(index='Total Number')\n",
    "Genre_count[\"Propotion\"] = Genre_count[\"Propotion\"].apply(lambda x: float(\"{:.2f}\".format(x)))\n",
    "Genre_count.head(5)"
   ]
  },
  {
   "cell_type": "markdown",
   "id": "18b7e082",
   "metadata": {},
   "source": [
    "### Color Dictionary\n",
    "\n",
    "In order to distinguish the subgenres, we created a color Dictionary to specify each subgenre for the following discussion."
   ]
  },
  {
   "cell_type": "code",
   "execution_count": 184,
   "id": "0022e7c2",
   "metadata": {},
   "outputs": [
    {
     "name": "stdout",
     "output_type": "stream",
     "text": [
      "On IMDb we can find 18 sub-genres for horror films.\n"
     ]
    }
   ],
   "source": [
    "number = Genre_count.index.value_counts().sum()\n",
    "print(f\"On IMDb we can find {number} sub-genres for horror films.\")"
   ]
  },
  {
   "cell_type": "code",
   "execution_count": 185,
   "id": "8d428e09",
   "metadata": {},
   "outputs": [],
   "source": [
    "colors_list = {\n",
    "       'Horror' : '#34495E',\n",
    "       'Thriller' : '#1A5276',\n",
    "       'Mystery' : '#EC7063',\n",
    "       'Drama' : '#DC7633',\n",
    "       'Sci-Fi' : '#EB984E',\n",
    "       'Fantasy' : '#F5B041',\n",
    "       'Action' : '#F4D03F',\n",
    "       'Comedy' : '#58D68D',\n",
    "       'Adventure' : '#52BE80',\n",
    "       'Crime' : '#45B39D',\n",
    "       'Romance' : '#48C9B0',\n",
    "       'Family' : '#5DADE2',\n",
    "       'Animation' : '#5499C7',\n",
    "       'Western' : '#A569BD',\n",
    "       'War' : '#AF7AC5',\n",
    "       'Musical' : '#9FE2BF',\n",
    "       'History' : '#DE3163',\n",
    "       'Music' : '#7D3C98',\n",
    "       'Biography' : '#CD6155'\n",
    "       }"
   ]
  },
  {
   "cell_type": "markdown",
   "id": "c9413941",
   "metadata": {},
   "source": [
    "**Plot the Dictionary**\n",
    "\n",
    "Here we show the color of each subgenre."
   ]
  },
  {
   "cell_type": "code",
   "execution_count": 186,
   "id": "692d71c2",
   "metadata": {},
   "outputs": [
    {
     "data": {
      "image/png": "[encoded data removed]",
      "text/plain": [
       "<Figure size 432x288 with 1 Axes>"
      ]
     },
     "metadata": {
      "needs_background": "light"
     },
     "output_type": "display_data"
    }
   ],
   "source": [
    "handles = [mpl.Patch(color=colors_list[x], label=x) for x in colors_list.keys()]\n",
    "# Create legend\n",
    "plt.legend(handles=handles)\n",
    "# Get current axes object and turn off axis\n",
    "plt.gca().set_axis_off()\n",
    "plt.show()"
   ]
  },
  {
   "cell_type": "markdown",
   "id": "6403720f",
   "metadata": {},
   "source": [
    "### 2.1. Proportion of Genre\n",
    "We used the frequency and proportion of each subgenre to create a bar chart and show their popularity among the horror movie field."
   ]
  },
  {
   "cell_type": "code",
   "execution_count": 187,
   "id": "58b77a74",
   "metadata": {},
   "outputs": [
    {
     "data": {
      "image/png": "[encoded data removed]",
      "text/plain": [
       "<Figure size 720x360 with 1 Axes>"
      ]
     },
     "metadata": {
      "needs_background": "light"
     },
     "output_type": "display_data"
    }
   ],
   "source": [
    "Genre_count['Genre'] =Genre_count.index\n",
    "Genre_count_top5 = Genre_count.head(5)\n",
    "plt.figure(figsize=(10,5))\n",
    "c = Genre_count['Genre'].apply(lambda x: colors_list[x])\n",
    "graph = plt.bar(Genre_count_top5.Genre,Genre_count_top5.Frequency, color = c)\n",
    "plt.title('Top 5 popular Subgenres of Horror Films',size =20)\n",
    " \n",
    "i = 0\n",
    "for p in graph:\n",
    "    width = p.get_width()\n",
    "    height = p.get_height()\n",
    "    x, y = p.get_xy()\n",
    "    plt.text(x+width/2,\n",
    "             y+height*1.01,\n",
    "             str(Genre_count.Propotion[i])+'%',\n",
    "             ha='center')\n",
    "    i+=1\n",
    "plt.show()"
   ]
  },
  {
   "cell_type": "markdown",
   "id": "2f0a762f",
   "metadata": {},
   "source": [
    "On the horizontal axis, we have the top 5 popular subgenres, and on the vertical axis, we have the frequency for each subgenre. The percentage above each bar represents the proportion of subgenre."
   ]
  },
  {
   "cell_type": "markdown",
   "id": "9c6d0dee",
   "metadata": {},
   "source": [
    ">As we can see in this chart, **Thriller** is the most popular subgenre among horror films, over 60% horror films contain the thriller element. **Mystery**, **Drama**, **Sci-fi** and **Fantasy** are also popular elements in horror films."
   ]
  },
  {
   "cell_type": "markdown",
   "id": "4745b271",
   "metadata": {},
   "source": [
    "### 2.2. Ratings by Genre\n",
    "For this section, we calculate the average ratings of each subgenre. What we are interested is to find the top-rating subgenres by IMDb users."
   ]
  },
  {
   "cell_type": "code",
   "execution_count": 188,
   "id": "1b76e581",
   "metadata": {},
   "outputs": [],
   "source": [
    "# Function to Calculate Average Rating by Genre\n",
    "def genre_avgRating (genre):\n",
    "    total_rating=0\n",
    "    count=0\n",
    "    for list in mainpage[\"Genre_list\"]:\n",
    "        i = mainpage[\"Genre_list\"].tolist().index(list)\n",
    "        if genre in list:\n",
    "            total_rating = total_rating + mainpage[\"Rate\"][i]\n",
    "            count += 1\n",
    "    return float(\"{:.2f}\".format(total_rating / count))"
   ]
  },
  {
   "cell_type": "code",
   "execution_count": 189,
   "id": "9b076bab",
   "metadata": {},
   "outputs": [],
   "source": [
    "# Get average rating of each film genre\n",
    "a = pd.Series(np.concatenate(mainpage.Genre_list)).value_counts().index.tolist()\n",
    "b = pd.DataFrame({'Genre' : a})\n",
    "b['avg_rating'] = \"\"\n",
    "for genre in b['Genre']:\n",
    "    i = b['Genre'].tolist().index(genre)\n",
    "    b['avg_rating'][i] = genre_avgRating(genre)\n",
    "Genre_Rating = b.sort_values(by='avg_rating', ascending=False).reset_index().drop(columns=\"index\")\n",
    "Genre_Rating = Genre_Rating[Genre_Rating.Genre.isin(['Horror']) == False].reset_index().drop(columns=\"index\")\n",
    "Genre_Rating_top5 = Genre_Rating.head(5)"
   ]
  },
  {
   "cell_type": "markdown",
   "id": "682541e8",
   "metadata": {},
   "source": [
    "**Average Rating of Subgenres**"
   ]
  },
  {
   "cell_type": "code",
   "execution_count": 190,
   "id": "4a0066b0",
   "metadata": {},
   "outputs": [
    {
     "data": {
      "image/png": "[encoded data removed]",
      "text/plain": [
       "<Figure size 1440x360 with 1 Axes>"
      ]
     },
     "metadata": {
      "needs_background": "light"
     },
     "output_type": "display_data"
    }
   ],
   "source": [
    "# Plot the average rating of each subgenre\n",
    "plt.figure(figsize=(20,5))\n",
    "z = Genre_Rating['Genre'].apply(lambda x: colors_list[x])\n",
    "graph = plt.bar(Genre_Rating.Genre,Genre_Rating.avg_rating, color = z )\n",
    "plt.ylim(5.5,7.5)\n",
    "plt.title('Average Rating of Subgenres',size =20)\n",
    "\n",
    "i = 0\n",
    "for p in graph:\n",
    "    width = p.get_width()\n",
    "    height = p.get_height()\n",
    "    x, y = p.get_xy()\n",
    "    plt.text(x+width/2,\n",
    "             y+height*1.01,\n",
    "             str(Genre_Rating.avg_rating[i]),\n",
    "             ha='center')\n",
    "    i+=1"
   ]
  },
  {
   "cell_type": "markdown",
   "id": "af171ac2",
   "metadata": {},
   "source": [
    "The horizontal axis includes all 18 subgenres, and the vertical axis is the average rating. Specific average rating for each subgenre is shown above the bar."
   ]
  },
  {
   "cell_type": "markdown",
   "id": "db8a6a1f",
   "metadata": {},
   "source": [
    ">The result shows that **Musical**, **Biography** and **Music** are the top rating genres. **Family**, **Adventure** and **History** are the lowest rating genres. Therefore, people are more likely to watch horror films with **Musical**, **Biography** or **Music** elements, instead of the ones in **Family**, **Adventure** or **History** subgenres."
   ]
  },
  {
   "cell_type": "markdown",
   "id": "e7b52f8c",
   "metadata": {},
   "source": [
    "However, this conclusion may not hold if we take a closer look at the top rating genres."
   ]
  },
  {
   "cell_type": "markdown",
   "id": "8af8ca5d",
   "metadata": {},
   "source": [
    "**A Closer Look at the Top 5 Rating of Subgenres**"
   ]
  },
  {
   "cell_type": "code",
   "execution_count": 191,
   "id": "e9c9d6a9",
   "metadata": {},
   "outputs": [
    {
     "data": {
      "image/png": "[encoded data removed]",
      "text/plain": [
       "<Figure size 720x360 with 1 Axes>"
      ]
     },
     "metadata": {
      "needs_background": "light"
     },
     "output_type": "display_data"
    }
   ],
   "source": [
    "#Top 5 Rating Subgenres of Horror Films\n",
    "plt.figure(figsize=(10,5))\n",
    "c = Genre_Rating_top5['Genre'].apply(lambda x: colors_list[x])\n",
    "graph = plt.bar(Genre_Rating_top5.Genre,Genre_Rating_top5.avg_rating, color = c )\n",
    "plt.ylim(6,8)\n",
    "plt.title('Top 5 Rating of Subgenres',size=20)\n",
    "i = 0\n",
    "for p in graph:\n",
    "    width = p.get_width()\n",
    "    height = p.get_height()\n",
    "    x, y = p.get_xy()\n",
    "    plt.text(x+width/2,\n",
    "             y+height*1.01,\n",
    "             str(Genre_Rating_top5.avg_rating[i]),\n",
    "             ha='center')\n",
    "    i+=1\n",
    "plt.annotate('Genre proportion <1%',xy = (0,7.5),\n",
    "            xytext=(1.5,7.75),\n",
    "            arrowprops = {'arrowstyle' : \"->\",\n",
    "                            'connectionstyle' : \"arc3\",\n",
    "                            'color': 'grey'},)\n",
    "plt.annotate('',xy = (1,7.35),\n",
    "            xytext=(1.75,7.7),\n",
    "            arrowprops = {'arrowstyle' : \"->\",\n",
    "                            'connectionstyle' : \"arc3\",\n",
    "                            'color': 'grey'},)\n",
    "plt.annotate('',xy = (2,7.25),\n",
    "            xytext=(2,7.7),\n",
    "            arrowprops = {'arrowstyle' : \"->\",\n",
    "                            'connectionstyle' : \"arc3\",\n",
    "                            'color': 'grey'},)\n",
    "plt.annotate('',xy = (3,7.25),\n",
    "            xytext=(2.25,7.7),\n",
    "            arrowprops = {'arrowstyle' : \"->\",\n",
    "                            'connectionstyle' : \"arc3\",\n",
    "                            'color': 'grey'},)\n",
    "\n",
    "plt.show()"
   ]
  },
  {
   "cell_type": "markdown",
   "id": "cb828d91",
   "metadata": {},
   "source": [
    ">As we can see, if we look at the top rating subgenres separately, the proportion for the top 4 are smaller than 1% ( based on the dataframe in 2.1), which means we don't have enough sample to confirm our conclusion, and prove **Musical**, **Biography**, **Music** and **Western** are most likely to have high rating horror films comparing with other subgenres."
   ]
  },
  {
   "cell_type": "markdown",
   "id": "211c2e8f",
   "metadata": {},
   "source": [
    ">In terms of our results, horror films with these elements may produce outright masterpieces, but we have to admit this conclusion is contrary to our own experience."
   ]
  },
  {
   "cell_type": "markdown",
   "id": "a3599083",
   "metadata": {},
   "source": [
    "**Rating of Top 5 Popular Subgenres**"
   ]
  },
  {
   "cell_type": "code",
   "execution_count": 192,
   "id": "9e37fb9f",
   "metadata": {},
   "outputs": [],
   "source": [
    "Genre_Rating_count = Genre_Rating[Genre_Rating.Genre.isin(['Horror']) == False]\n",
    "Genre_Rating_count = Genre_Rating_count[Genre_Rating_count.Genre.isin(['Thriller','Mystery','Drama','Sci-Fi','Fantasy']) == True].reset_index().drop(columns='index')"
   ]
  },
  {
   "cell_type": "code",
   "execution_count": 193,
   "id": "54e82c54",
   "metadata": {},
   "outputs": [
    {
     "data": {
      "image/png": "[encoded data removed]",
      "text/plain": [
       "<Figure size 720x360 with 1 Axes>"
      ]
     },
     "metadata": {
      "needs_background": "light"
     },
     "output_type": "display_data"
    }
   ],
   "source": [
    "#Rating of Top 5 Popular Subgenres\n",
    "plt.figure(figsize=(10,5))\n",
    "c = Genre_Rating_count['Genre'].apply(lambda x: colors_list[x])\n",
    "graph = plt.bar(Genre_Rating_count.Genre,Genre_Rating_count.avg_rating, color = c )\n",
    "plt.ylim(6,7.5)\n",
    "plt.title('Rating of Top 5 Popular Subgenres',size=20)\n",
    "i = 0\n",
    "for p in graph:\n",
    "    width = p.get_width()\n",
    "    height = p.get_height()\n",
    "    x, y = p.get_xy()\n",
    "    plt.text(x+width/2,\n",
    "             y+height*1.01,\n",
    "             str(Genre_Rating_count.avg_rating[i]),\n",
    "             ha='center')\n",
    "    i+=1\n",
    "\n",
    "plt.show()"
   ]
  },
  {
   "cell_type": "markdown",
   "id": "f75ea799",
   "metadata": {},
   "source": [
    ">The result demonstrates that the top 5 popular subgenres have a similar average rating, expect **Fantasy**.\n",
    "\n",
    ">Probably due to the heavy reliance on cgi or the lack of compelling storyline, it is difficult for **Fantasy** horror films to have a higher rating."
   ]
  },
  {
   "cell_type": "markdown",
   "id": "0bfbd98e",
   "metadata": {},
   "source": [
    "## 3. Reviewer Portrait\n",
    "We would like to summarize the characteristics of horror movie viewers and make a reviewer portrait, including the reviewers’ ages and genders."
   ]
  },
  {
   "cell_type": "markdown",
   "id": "ea4d9230",
   "metadata": {},
   "source": [
    "### 3.1. Age"
   ]
  },
  {
   "cell_type": "markdown",
   "id": "d319459b",
   "metadata": {},
   "source": [
    "To study horror movie reviewers of different age groups, we scraped the number of rating and rating scores of each age group on IMDb user rating page. Due to reasons like film rating system, the scoring data of some movies by age group is missing, so only the data of 723 movies are analyzed."
   ]
  },
  {
   "cell_type": "markdown",
   "id": "fc3c3556",
   "metadata": {},
   "source": [
    "#### 3.1.1. Reviewer Age Distribution\n",
    "By using pie chart, we first demonstrated the age distribution of horror movie reviewers."
   ]
  },
  {
   "cell_type": "code",
   "execution_count": 194,
   "id": "5225d528",
   "metadata": {},
   "outputs": [
    {
     "data": {
      "text/html": [
       "<div>\n",
       "<style scoped>\n",
       "    .dataframe tbody tr th:only-of-type {\n",
       "        vertical-align: middle;\n",
       "    }\n",
       "\n",
       "    .dataframe tbody tr th {\n",
       "        vertical-align: top;\n",
       "    }\n",
       "\n",
       "    .dataframe thead th {\n",
       "        text-align: right;\n",
       "    }\n",
       "</style>\n",
       "<table border=\"1\" class=\"dataframe\">\n",
       "  <thead>\n",
       "    <tr style=\"text-align: right;\">\n",
       "      <th></th>\n",
       "      <th>Number</th>\n",
       "    </tr>\n",
       "  </thead>\n",
       "  <tbody>\n",
       "    <tr>\n",
       "      <th>Age&lt;18</th>\n",
       "      <td>33096</td>\n",
       "    </tr>\n",
       "    <tr>\n",
       "      <th>18-29</th>\n",
       "      <td>9924324</td>\n",
       "    </tr>\n",
       "    <tr>\n",
       "      <th>30-44</th>\n",
       "      <td>31255041</td>\n",
       "    </tr>\n",
       "    <tr>\n",
       "      <th>Age&gt;44</th>\n",
       "      <td>9039414</td>\n",
       "    </tr>\n",
       "  </tbody>\n",
       "</table>\n",
       "</div>"
      ],
      "text/plain": [
       "          Number\n",
       "Age<18     33096\n",
       "18-29    9924324\n",
       "30-44   31255041\n",
       "Age>44   9039414"
      ]
     },
     "execution_count": 194,
     "metadata": {},
     "output_type": "execute_result"
    }
   ],
   "source": [
    "age_group_number_sum = pd.DataFrame({\"Number\": age_group[['Number_<18','Number_18-29','Number_30-44','Number_45+']].sum(axis=0)})\n",
    "age_group_number_sum = age_group_number_sum.rename(index={'Number_<18': \"Age<18\", 'Number_18-29': \"18-29\", 'Number_30-44': \"30-44\",'Number_45+':\"Age>44\"})\n",
    "age_group_number_sum"
   ]
  },
  {
   "cell_type": "code",
   "execution_count": 195,
   "id": "4c9cdf89",
   "metadata": {},
   "outputs": [
    {
     "data": {
      "text/plain": [
       "Text(0.5, 1.0, 'Age Distribution of Reviewers')"
      ]
     },
     "execution_count": 195,
     "metadata": {},
     "output_type": "execute_result"
    },
    {
     "data": {
      "image/png": "[encoded data removed]",
      "text/plain": [
       "<Figure size 720x432 with 1 Axes>"
      ]
     },
     "metadata": {},
     "output_type": "display_data"
    }
   ],
   "source": [
    "fig, ax = plt.subplots(1,1,figsize = (10,6), tight_layout = True)\n",
    "ax.pie(\n",
    "    x = age_group_number_sum['Number'],\n",
    "    labels = age_group_number_sum.index,\n",
    "    autopct='%1.1f%%',\n",
    "    colors = ['#F1C40F', '#F39C12', '#E67E22', '#D35400'])\n",
    "plt.title('Age Distribution of Reviewers', size = 20)"
   ]
  },
  {
   "cell_type": "markdown",
   "id": "f4be44df",
   "metadata": {},
   "source": [
    ">We find that **more than half (62.2%) of the reviewers are from 30 to 44 years old**, with only 0.1% reviewers under 18 years old, 19.7% reviewers from 18-29 years old and 18.0% reviewers above 44 years old."
   ]
  },
  {
   "cell_type": "markdown",
   "id": "44a72a72",
   "metadata": {},
   "source": [
    "#### 3.1.2. Rating Tendency by Age\n",
    "Then we used sub-bar plots to cross-analyze whether different age groups have different film-rating tendencies."
   ]
  },
  {
   "cell_type": "markdown",
   "id": "962f7f99",
   "metadata": {},
   "source": [
    "##### 3.1.2.1. Sub-bar Plot\n",
    "We scraped the weighted average scores of each movie based on different age group, counted the frequency of the scores and plotted frequency histograms."
   ]
  },
  {
   "cell_type": "code",
   "execution_count": 196,
   "id": "e86f4773",
   "metadata": {},
   "outputs": [
    {
     "data": {
      "text/plain": [
       "Text(0.5, 0, 'Ratings')"
      ]
     },
     "execution_count": 196,
     "metadata": {},
     "output_type": "execute_result"
    },
    {
     "data": {
      "image/png": "[encoded data removed]",
      "text/plain": [
       "<Figure size 576x720 with 5 Axes>"
      ]
     },
     "metadata": {
      "needs_background": "light"
     },
     "output_type": "display_data"
    }
   ],
   "source": [
    "fig, axs = plt.subplots(5, 1, sharey=True, tight_layout=True,figsize=(8, 10))\n",
    "# '#F1C40F', '#F39C12', '#E67E22', '#D35400'\n",
    "axs[0].hist(age_group['Rate_All Ages'],range = [0, 10],bins = 10,density = False, color = '#34495E')\n",
    "axs[0].set_title('All Ages', size = 15)\n",
    "axs[1].hist(age_group['Rate_<18'],range = [0, 10],bins = 10,density = False, color = '#F1C40F')\n",
    "axs[1].set_title('Under 18', size = 15)\n",
    "axs[2].hist(age_group['Rate_18-29'],range = [0, 10],bins = 10,density = False, color = '#F39C12')\n",
    "axs[2].set_title('18-29', size = 15)\n",
    "axs[3].hist(age_group['Rate_30-44'],range = [0, 10],bins = 10,density = False, color = '#E67E22')\n",
    "axs[3].set_title('30-44', size = 15)\n",
    "axs[4].hist(age_group['Rate_45+'],range = [0, 10],bins = 10,density = False, color = '#D35400')\n",
    "axs[4].set_title('Over 44', size = 15)\n",
    "fig.suptitle('Frequency of Movies for Certain Ratings', size = 20)\n",
    "plt.xlabel(\"Ratings\", size = 15)"
   ]
  },
  {
   "cell_type": "markdown",
   "id": "982719f3",
   "metadata": {},
   "source": [
    ">We can find from the histogram that, for all age groups, **most movies have an weighted average score between 6 and 7**. But the rating distribution for reviewers under 18 is relatively more dispersed, while the one for reviewers over 44 is more concentrated."
   ]
  },
  {
   "cell_type": "markdown",
   "id": "962f7f99",
   "metadata": {},
   "source": [
    "##### 3.1.2.2. Bar Chart\n",
    "We also calculated the average rating scores of all movies based on different age groups and created a bar plot."
   ]
  },
  {
   "cell_type": "code",
   "execution_count": 197,
   "id": "18bf768a",
   "metadata": {},
   "outputs": [
    {
     "data": {
      "text/html": [
       "<div>\n",
       "<style scoped>\n",
       "    .dataframe tbody tr th:only-of-type {\n",
       "        vertical-align: middle;\n",
       "    }\n",
       "\n",
       "    .dataframe tbody tr th {\n",
       "        vertical-align: top;\n",
       "    }\n",
       "\n",
       "    .dataframe thead th {\n",
       "        text-align: right;\n",
       "    }\n",
       "</style>\n",
       "<table border=\"1\" class=\"dataframe\">\n",
       "  <thead>\n",
       "    <tr style=\"text-align: right;\">\n",
       "      <th></th>\n",
       "      <th>Average Rating</th>\n",
       "    </tr>\n",
       "  </thead>\n",
       "  <tbody>\n",
       "    <tr>\n",
       "      <th>All Ages</th>\n",
       "      <td>6.205394</td>\n",
       "    </tr>\n",
       "    <tr>\n",
       "      <th>Under 18</th>\n",
       "      <td>6.205256</td>\n",
       "    </tr>\n",
       "    <tr>\n",
       "      <th>18-29</th>\n",
       "      <td>6.248548</td>\n",
       "    </tr>\n",
       "    <tr>\n",
       "      <th>30-44</th>\n",
       "      <td>6.167635</td>\n",
       "    </tr>\n",
       "    <tr>\n",
       "      <th>Over 44</th>\n",
       "      <td>6.142877</td>\n",
       "    </tr>\n",
       "  </tbody>\n",
       "</table>\n",
       "</div>"
      ],
      "text/plain": [
       "          Average Rating\n",
       "All Ages        6.205394\n",
       "Under 18        6.205256\n",
       "18-29           6.248548\n",
       "30-44           6.167635\n",
       "Over 44         6.142877"
      ]
     },
     "execution_count": 197,
     "metadata": {},
     "output_type": "execute_result"
    }
   ],
   "source": [
    "age_group_number_mean = pd.DataFrame({\"Average Rating\": age_group[['Rate_All Ages','Rate_<18','Rate_18-29','Rate_30-44','Rate_45+']].mean(axis=0)})\n",
    "age_group_number_mean = age_group_number_mean.rename(index={'Rate_All Ages':'All Ages','Rate_<18': \"Under 18\", 'Rate_18-29': \"18-29\", 'Rate_30-44': \"30-44\",'Rate_45+':\"Over 44\"})\n",
    "age_group_number_mean"
   ]
  },
  {
   "cell_type": "code",
   "execution_count": 198,
   "id": "ca233324",
   "metadata": {},
   "outputs": [
    {
     "data": {
      "text/plain": [
       "Text(0.5, 1.0, 'Average Ratings of Different Age Groups')"
      ]
     },
     "execution_count": 198,
     "metadata": {},
     "output_type": "execute_result"
    },
    {
     "data": {
      "image/png": "[encoded data removed]",
      "text/plain": [
       "<Figure size 720x432 with 1 Axes>"
      ]
     },
     "metadata": {
      "needs_background": "light"
     },
     "output_type": "display_data"
    }
   ],
   "source": [
    "color = ['#34495E', '#F1C40F', '#F39C12', '#E67E22', '#D35400']\n",
    "fig, ax = plt.subplots(1, 1, figsize = (10,6))\n",
    "ax.bar(\n",
    "    x = age_group_number_mean.index,\n",
    "    height = age_group_number_mean['Average Rating'],\n",
    "    color = color\n",
    "    )\n",
    "plt.ylim([6,6.3])\n",
    "plt.title(\"Average Ratings of Different Age Groups\", size = 20)"
   ]
  },
  {
   "cell_type": "markdown",
   "id": "3440ef41",
   "metadata": {},
   "source": [
    ">We find that **reviewers from 18 to 29 years old are the most willing to give high scores to horror movies**. And the second and third most willing are reviewers under 18 and from 30 to 44 years old. Reviewers over 44 years old are more likely to give lower scores to horror moview than other age groups."
   ]
  },
  {
   "cell_type": "markdown",
   "id": "74650573",
   "metadata": {},
   "source": [
    "### 3.2. Gender"
   ]
  },
  {
   "cell_type": "markdown",
   "id": "ce56c52c",
   "metadata": {},
   "source": [
    "To study horror movie reviewers of different genders, we scraped the number of rating and rating scores of each genders on IMDb user rating page. Due to reasons that users may not choose their genders, the gender-based scoring of some movies is missing."
   ]
  },
  {
   "cell_type": "markdown",
   "id": "fc3c3556",
   "metadata": {},
   "source": [
    "#### 3.2.1. Reviewer Gender Ratio\n",
    "By using pie chart, we can demonstrate the age distribution of horror movie reviewers."
   ]
  },
  {
   "cell_type": "code",
   "execution_count": 199,
   "id": "924698d5",
   "metadata": {},
   "outputs": [
    {
     "data": {
      "text/html": [
       "<div>\n",
       "<style scoped>\n",
       "    .dataframe tbody tr th:only-of-type {\n",
       "        vertical-align: middle;\n",
       "    }\n",
       "\n",
       "    .dataframe tbody tr th {\n",
       "        vertical-align: top;\n",
       "    }\n",
       "\n",
       "    .dataframe thead th {\n",
       "        text-align: right;\n",
       "    }\n",
       "</style>\n",
       "<table border=\"1\" class=\"dataframe\">\n",
       "  <thead>\n",
       "    <tr style=\"text-align: right;\">\n",
       "      <th></th>\n",
       "      <th>Number</th>\n",
       "    </tr>\n",
       "  </thead>\n",
       "  <tbody>\n",
       "    <tr>\n",
       "      <th>Female</th>\n",
       "      <td>8764216</td>\n",
       "    </tr>\n",
       "    <tr>\n",
       "      <th>Male</th>\n",
       "      <td>43032012</td>\n",
       "    </tr>\n",
       "  </tbody>\n",
       "</table>\n",
       "</div>"
      ],
      "text/plain": [
       "          Number\n",
       "Female   8764216\n",
       "Male    43032012"
      ]
     },
     "execution_count": 199,
     "metadata": {},
     "output_type": "execute_result"
    }
   ],
   "source": [
    "gender_ratio = pd.DataFrame({\"Number\": [female['Number_Female'].sum(axis=0),male['Number_Male'].sum(axis=0)]},\n",
    "                            index=['Female','Male'])\n",
    "gender_ratio"
   ]
  },
  {
   "cell_type": "code",
   "execution_count": 200,
   "id": "34823625",
   "metadata": {},
   "outputs": [
    {
     "data": {
      "text/plain": [
       "Text(0.5, 1.0, 'Gender Ratio of Reviewers')"
      ]
     },
     "execution_count": 200,
     "metadata": {},
     "output_type": "execute_result"
    },
    {
     "data": {
      "image/png": "[encoded data removed]",
      "text/plain": [
       "<Figure size 720x432 with 1 Axes>"
      ]
     },
     "metadata": {},
     "output_type": "display_data"
    }
   ],
   "source": [
    "fig, ax = plt.subplots(1,1,figsize = (10,6), tight_layout = True)\n",
    "color = ['#F1948A', '#5DADE2']\n",
    "ax.pie(\n",
    "    x = gender_ratio['Number'],\n",
    "    labels = gender_ratio.index,\n",
    "    autopct='%1.1f%%',\n",
    "    colors = color)\n",
    "plt.title('Gender Ratio of Reviewers', size = 20)"
   ]
  },
  {
   "cell_type": "markdown",
   "id": "b70846b6",
   "metadata": {},
   "source": [
    ">We find that **83.1% of the horror movie reviewers are male and only 16.9% of the reviewers are female**. Probably, males are more fond of horror films than females."
   ]
  },
  {
   "cell_type": "markdown",
   "id": "fc3c3556",
   "metadata": {},
   "source": [
    "#### 3.2.2. Rating Tendency by Gender\n",
    "Then we used sub-bar plots to cross-analyze whether different genders have different film-rating tendencies."
   ]
  },
  {
   "cell_type": "markdown",
   "id": "962f7f99",
   "metadata": {},
   "source": [
    "##### 3.2.2.1. Sub-bar Plot 1\n",
    "We scraped the weighted average scores of each movie based on different genders, counted the frequency of the scores and plotted frequency histograms."
   ]
  },
  {
   "cell_type": "code",
   "execution_count": 201,
   "id": "72b0c2b2",
   "metadata": {},
   "outputs": [
    {
     "data": {
      "text/plain": [
       "Text(0.5, 0, 'Ratings')"
      ]
     },
     "execution_count": 201,
     "metadata": {},
     "output_type": "execute_result"
    },
    {
     "data": {
      "image/png": "[encoded data removed]",
      "text/plain": [
       "<Figure size 576x720 with 3 Axes>"
      ]
     },
     "metadata": {
      "needs_background": "light"
     },
     "output_type": "display_data"
    }
   ],
   "source": [
    "fig, axs = plt.subplots(3, 1, sharey=True, tight_layout=True,figsize=(8, 10))\n",
    "axs[0].hist(female['Rating'],range = [0, 10],bins = 10,density = False, color = '#34495E')\n",
    "axs[0].set_title('All People', size = 15)\n",
    "axs[1].hist(female['Rate_Female'],range = [0, 10],bins = 10,density = False, color = '#F1948A')\n",
    "axs[1].set_title('Female', size = 15)\n",
    "axs[2].hist(male['Rate_Male'],range = [0, 10],bins = 10,density = False, color = '#5DADE2')\n",
    "axs[2].set_title('Male', size = 15)\n",
    "fig.suptitle('Frequency of Movies for Different Genders', size = 20)\n",
    "plt.xlabel(\"Ratings\", size = 15)"
   ]
  },
  {
   "cell_type": "markdown",
   "id": "e1ce4c66",
   "metadata": {},
   "source": [
    ">In both genders, most movies have an weighted average score between 6 and 7. But **in male's group, more movies gained an average weighted score between 5 and 6, comparing to female's group**."
   ]
  },
  {
   "cell_type": "markdown",
   "id": "5389c4ed",
   "metadata": {},
   "source": [
    "##### 3.2.2.2. Sub-bar Plot 2\n",
    "We scraped the number of people (all people/female/male) voting for different scores, and calculated the proportion of the number of people (all people/female/male) voting a certain score to the total number of people (all people/female/male) voted. Using that proportion, we created the bar plots based on gender groups."
   ]
  },
  {
   "cell_type": "code",
   "execution_count": 202,
   "id": "325e310c",
   "metadata": {},
   "outputs": [
    {
     "data": {
      "text/html": [
       "<div>\n",
       "<style scoped>\n",
       "    .dataframe tbody tr th:only-of-type {\n",
       "        vertical-align: middle;\n",
       "    }\n",
       "\n",
       "    .dataframe tbody tr th {\n",
       "        vertical-align: top;\n",
       "    }\n",
       "\n",
       "    .dataframe thead th {\n",
       "        text-align: right;\n",
       "    }\n",
       "</style>\n",
       "<table border=\"1\" class=\"dataframe\">\n",
       "  <thead>\n",
       "    <tr style=\"text-align: right;\">\n",
       "      <th></th>\n",
       "      <th>All People Num</th>\n",
       "      <th>Female Num</th>\n",
       "      <th>Male Num</th>\n",
       "      <th>All People Proportion</th>\n",
       "      <th>Female Proportion</th>\n",
       "      <th>Male Proportion</th>\n",
       "    </tr>\n",
       "  </thead>\n",
       "  <tbody>\n",
       "    <tr>\n",
       "      <th>1</th>\n",
       "      <td>1969204</td>\n",
       "      <td>261195</td>\n",
       "      <td>1163609</td>\n",
       "      <td>2.833597</td>\n",
       "      <td>2.980244</td>\n",
       "      <td>2.704054</td>\n",
       "    </tr>\n",
       "    <tr>\n",
       "      <th>2</th>\n",
       "      <td>1343036</td>\n",
       "      <td>175725</td>\n",
       "      <td>822070</td>\n",
       "      <td>1.932569</td>\n",
       "      <td>2.005028</td>\n",
       "      <td>1.910368</td>\n",
       "    </tr>\n",
       "    <tr>\n",
       "      <th>3</th>\n",
       "      <td>2106162</td>\n",
       "      <td>259135</td>\n",
       "      <td>1317922</td>\n",
       "      <td>3.030674</td>\n",
       "      <td>2.956739</td>\n",
       "      <td>3.062655</td>\n",
       "    </tr>\n",
       "    <tr>\n",
       "      <th>4</th>\n",
       "      <td>3663505</td>\n",
       "      <td>446345</td>\n",
       "      <td>2317260</td>\n",
       "      <td>5.271621</td>\n",
       "      <td>5.092811</td>\n",
       "      <td>5.384968</td>\n",
       "    </tr>\n",
       "    <tr>\n",
       "      <th>5</th>\n",
       "      <td>7149592</td>\n",
       "      <td>866972</td>\n",
       "      <td>4551503</td>\n",
       "      <td>10.287946</td>\n",
       "      <td>9.892180</td>\n",
       "      <td>10.577016</td>\n",
       "    </tr>\n",
       "    <tr>\n",
       "      <th>6</th>\n",
       "      <td>12365797</td>\n",
       "      <td>1447550</td>\n",
       "      <td>7914354</td>\n",
       "      <td>17.793833</td>\n",
       "      <td>16.516594</td>\n",
       "      <td>18.391782</td>\n",
       "    </tr>\n",
       "    <tr>\n",
       "      <th>7</th>\n",
       "      <td>16073705</td>\n",
       "      <td>1892304</td>\n",
       "      <td>10165015</td>\n",
       "      <td>23.129348</td>\n",
       "      <td>21.591252</td>\n",
       "      <td>23.621984</td>\n",
       "    </tr>\n",
       "    <tr>\n",
       "      <th>8</th>\n",
       "      <td>12668376</td>\n",
       "      <td>1586323</td>\n",
       "      <td>7796295</td>\n",
       "      <td>18.229231</td>\n",
       "      <td>18.099999</td>\n",
       "      <td>18.117431</td>\n",
       "    </tr>\n",
       "    <tr>\n",
       "      <th>9</th>\n",
       "      <td>5954108</td>\n",
       "      <td>828134</td>\n",
       "      <td>3539765</td>\n",
       "      <td>8.567697</td>\n",
       "      <td>9.449037</td>\n",
       "      <td>8.225888</td>\n",
       "    </tr>\n",
       "    <tr>\n",
       "      <th>10</th>\n",
       "      <td>6201361</td>\n",
       "      <td>1000533</td>\n",
       "      <td>3444219</td>\n",
       "      <td>8.923483</td>\n",
       "      <td>11.416115</td>\n",
       "      <td>8.003853</td>\n",
       "    </tr>\n",
       "  </tbody>\n",
       "</table>\n",
       "</div>"
      ],
      "text/plain": [
       "    All People Num  Female Num  Male Num  All People Proportion  \\\n",
       "1          1969204      261195   1163609               2.833597   \n",
       "2          1343036      175725    822070               1.932569   \n",
       "3          2106162      259135   1317922               3.030674   \n",
       "4          3663505      446345   2317260               5.271621   \n",
       "5          7149592      866972   4551503              10.287946   \n",
       "6         12365797     1447550   7914354              17.793833   \n",
       "7         16073705     1892304  10165015              23.129348   \n",
       "8         12668376     1586323   7796295              18.229231   \n",
       "9          5954108      828134   3539765               8.567697   \n",
       "10         6201361     1000533   3444219               8.923483   \n",
       "\n",
       "    Female Proportion  Male Proportion  \n",
       "1            2.980244         2.704054  \n",
       "2            2.005028         1.910368  \n",
       "3            2.956739         3.062655  \n",
       "4            5.092811         5.384968  \n",
       "5            9.892180        10.577016  \n",
       "6           16.516594        18.391782  \n",
       "7           21.591252        23.621984  \n",
       "8           18.099999        18.117431  \n",
       "9            9.449037         8.225888  \n",
       "10          11.416115         8.003853  "
      ]
     },
     "execution_count": 202,
     "metadata": {},
     "output_type": "execute_result"
    }
   ],
   "source": [
    "vote = pd.DataFrame(all_rate[['vote1','vote2','vote3','vote4','vote5','vote6','vote7','vote8','vote9','vote10']].sum(axis=0)).reset_index(drop=True)\n",
    "vote = pd.concat([vote,\n",
    "                 pd.DataFrame(female[['vote1f','vote2f','vote3f','vote4f','vote5f','vote6f','vote7f','vote8f','vote9f','vote10f']].sum(axis=0)).reset_index(drop=True)\n",
    "                 ],axis=1)\n",
    "vote = pd.concat([vote,\n",
    "                 pd.DataFrame(male[['vote1m','vote2m','vote3m','vote4m','vote5m','vote6m','vote7m','vote8m','vote9m','vote10m']].sum(axis=0)).reset_index(drop=True)\n",
    "                 ],axis=1)\n",
    "vote.index = np.arange(1, len(vote) + 1)\n",
    "vote = vote.T.reset_index(drop=True).T\n",
    "vote['All People Proportion']=(vote[0]/sum(vote[0]))*100\n",
    "vote['Female Proportion']=(vote[1]/sum(vote[1]))*100\n",
    "vote['Male Proportion']=(vote[2]/sum(vote[2]))*100\n",
    "vote.rename(columns = {\n",
    "    0 : 'All People Num',\n",
    "    1 : 'Female Num',\n",
    "    2 : 'Male Num'\n",
    "    })\n"
   ]
  },
  {
   "cell_type": "code",
   "execution_count": 203,
   "id": "1fd9b3aa",
   "metadata": {},
   "outputs": [
    {
     "data": {
      "text/plain": [
       "Text(0.5, 0, 'Rating Scores')"
      ]
     },
     "execution_count": 203,
     "metadata": {},
     "output_type": "execute_result"
    },
    {
     "data": {
      "image/png": "[encoded data removed]",
      "text/plain": [
       "<Figure size 576x720 with 3 Axes>"
      ]
     },
     "metadata": {
      "needs_background": "light"
     },
     "output_type": "display_data"
    }
   ],
   "source": [
    "fig, axs = plt.subplots(3, 1, sharey=False, tight_layout=True,figsize=(8, 10))\n",
    "axs[0].bar(vote.index,vote['All People Proportion'], color = '#34495E')\n",
    "axs[0].set_title('All People', size = 15)\n",
    "axs[1].bar(vote.index,vote['Female Proportion'], color = '#F1948A')\n",
    "axs[1].set_title('Female', size = 15)\n",
    "axs[2].bar(vote.index,vote['Male Proportion'], color = '#5DADE2')\n",
    "axs[2].set_title('Male', size = 15)\n",
    "fig.suptitle('Percentage of Voters for Each Rating Scores', size = 20)\n",
    "plt.xlabel(\"Rating Scores\", size = 15)"
   ]
  },
  {
   "cell_type": "markdown",
   "id": "5a5f3e4b",
   "metadata": {},
   "source": [
    ">The graph shows that **the proportion of females voting for a score above 8 is higher than the proportion of males**."
   ]
  },
  {
   "cell_type": "markdown",
   "id": "962f7f99",
   "metadata": {},
   "source": [
    "##### 3.2.2.3. Bar Chart\n",
    "We also calculated the average rating scores of all movies based on different gender groups and created a bar plot.\n"
   ]
  },
  {
   "cell_type": "code",
   "execution_count": 204,
   "id": "a47b646c",
   "metadata": {},
   "outputs": [
    {
     "data": {
      "text/html": [
       "<div>\n",
       "<style scoped>\n",
       "    .dataframe tbody tr th:only-of-type {\n",
       "        vertical-align: middle;\n",
       "    }\n",
       "\n",
       "    .dataframe tbody tr th {\n",
       "        vertical-align: top;\n",
       "    }\n",
       "\n",
       "    .dataframe thead th {\n",
       "        text-align: right;\n",
       "    }\n",
       "</style>\n",
       "<table border=\"1\" class=\"dataframe\">\n",
       "  <thead>\n",
       "    <tr style=\"text-align: right;\">\n",
       "      <th></th>\n",
       "      <th>Average Rating</th>\n",
       "    </tr>\n",
       "  </thead>\n",
       "  <tbody>\n",
       "    <tr>\n",
       "      <th>All People</th>\n",
       "      <td>6.198765</td>\n",
       "    </tr>\n",
       "    <tr>\n",
       "      <th>Female</th>\n",
       "      <td>6.314149</td>\n",
       "    </tr>\n",
       "    <tr>\n",
       "      <th>Male</th>\n",
       "      <td>6.179609</td>\n",
       "    </tr>\n",
       "  </tbody>\n",
       "</table>\n",
       "</div>"
      ],
      "text/plain": [
       "            Average Rating\n",
       "All People        6.198765\n",
       "Female            6.314149\n",
       "Male              6.179609"
      ]
     },
     "execution_count": 204,
     "metadata": {},
     "output_type": "execute_result"
    }
   ],
   "source": [
    "gender_rate_mean = pd.DataFrame({\"Average Rating\": all_rate[['Rating']].mean()})\n",
    "gender_rate_mean = pd.concat([gender_rate_mean,\n",
    "                              pd.DataFrame({\"Average Rating\": female[['Rate_Female']].mean()})\n",
    "                              ])\n",
    "gender_rate_mean = pd.concat([gender_rate_mean,\n",
    "                              pd.DataFrame({\"Average Rating\": male[['Rate_Male']].mean()})\n",
    "                              ])                              \n",
    "gender_rate_mean = gender_rate_mean.rename(index={'Rating':'All People','Rate_Female': \"Female\", 'Rate_Male': \"Male\"})\n",
    "gender_rate_mean"
   ]
  },
  {
   "cell_type": "code",
   "execution_count": 205,
   "id": "da6be053",
   "metadata": {},
   "outputs": [
    {
     "data": {
      "text/plain": [
       "Text(0.5, 1.0, 'Average Ratings of Different Genders')"
      ]
     },
     "execution_count": 205,
     "metadata": {},
     "output_type": "execute_result"
    },
    {
     "data": {
      "image/png": "[encoded data removed]",
      "text/plain": [
       "<Figure size 720x432 with 1 Axes>"
      ]
     },
     "metadata": {
      "needs_background": "light"
     },
     "output_type": "display_data"
    }
   ],
   "source": [
    "color = ['#34495E', '#F1948A', '#5DADE2']\n",
    "fig, ax = plt.subplots(1, 1, figsize = (10,6))\n",
    "ax.bar(\n",
    "    x = gender_rate_mean.index,\n",
    "    height = gender_rate_mean['Average Rating'],\n",
    "    color = color\n",
    "    )\n",
    "plt.ylim([6,6.5])\n",
    "plt.title(\"Average Ratings of Different Genders\", size = 20)"
   ]
  },
  {
   "cell_type": "markdown",
   "id": "3902c25f",
   "metadata": {},
   "source": [
    ">We find that **females have a higher average rating score of 6.31 than males**. But as there are only 16.9% reviewers are female, so the average ratings of all people are more similar to males than to females, with **the average of male reviewers being 6.18 and the average of all people being 6.20**."
   ]
  },
  {
   "cell_type": "markdown",
   "id": "025e10cd",
   "metadata": {},
   "source": [
    "#### Conclusion\n",
    ">**By age**, we find that the main reviewers of horror movies are people from 30 to 44 years old. The proportion of reviewers of 'under 18', '18-29', '30-44', 'over 44' are 0.1%, 19.7%, 62.2%, and 18.0%, respectively. Reviewers under 18 has the lowest concentration of scoring, and reviewers from 18 to 29 are the most willing to give high scores to horror movies.\n",
    "\n",
    ">**By gender**, we find that 83.1% of the horror movie reviewers are male and only 16.9% of the reviewers are female. And females are more likely to give higher scores to horror movies than males."
   ]
  },
  {
   "cell_type": "markdown",
   "id": "0bfbd98e",
   "metadata": {},
   "source": [
    "## 4. Which Country Produces High-Rated Horror Movies the Most?\n",
    "Does the US produce more horror movies rated over 4 or below 3? Does Canada release more low-rated movies than the UK? To analyze which country produces most high-rated horror films, we produced bar plots for each country to count the number of films by rating value."
   ]
  },
  {
   "cell_type": "code",
   "execution_count": 206,
   "id": "13f4a5ae",
   "metadata": {},
   "outputs": [],
   "source": [
    "gb_country = mainpage[['Name', 'Country']].groupby('Country').count().sort_values(by='Name', ascending=False).reset_index().rename(columns={'Name' : 'Count'})"
   ]
  },
  {
   "cell_type": "code",
   "execution_count": 207,
   "metadata": {},
   "outputs": [],
   "source": [
    "def add_value_labels(ax, spacing=5):\n",
    "    \"\"\"Add labels to the end of each bar in a bar chart.\n",
    "\n",
    "    Arguments:\n",
    "        ax (matplotlib.axes.Axes): The matplotlib object containing the axes\n",
    "            of the plot to annotate.\n",
    "        spacing (int): The distance between the labels and the bars.\n",
    "    \"\"\"\n",
    "\n",
    "    # For each bar: Place a label\n",
    "    for rect in ax.patches:\n",
    "        # Get X and Y placement of label from rect.\n",
    "        y_value = rect.get_height()\n",
    "        x_value = rect.get_x() + rect.get_width() / 2\n",
    "\n",
    "        # Number of points between bar and label. Change to your liking.\n",
    "        space = spacing\n",
    "        # Vertical alignment for positive values\n",
    "        va = 'bottom'\n",
    "\n",
    "        # If value of bar is greater than 400: Adjust label location\n",
    "        if y_value > 400:\n",
    "            space = spacing - 3\n",
    "            # Vertically align label at top\n",
    "            va = 'bottom'\n",
    "\n",
    "        # Use Y value as label and format number with one decimal place, if Y is positive (nonzero)\n",
    "        label = int(y_value) if y_value > 0 else None\n",
    "\n",
    "        # Create annotation\n",
    "        ax.annotate(\n",
    "            label,                      # Use `label` as label\n",
    "            (x_value, y_value),         # Place label at end of the bar\n",
    "            xytext=(0, space),          # Vertically shift label by `space`\n",
    "            textcoords=\"offset points\", # Interpret `xytext` as offset in points\n",
    "            ha='center',                # Horizontally center label\n",
    "            va=va)                      # Vertically align label differently for\n",
    "                                        # positive and negative values."
   ]
  },
  {
   "cell_type": "code",
   "execution_count": 208,
   "id": "8a2a96e2",
   "metadata": {},
   "outputs": [
    {
     "data": {
      "image/png": "[encoded data removed]",
      "text/plain": [
       "<Figure size 1080x360 with 1 Axes>"
      ]
     },
     "metadata": {
      "needs_background": "light"
     },
     "output_type": "display_data"
    }
   ],
   "source": [
    "# plot\n",
    "fig, ax =plt.subplots(1,1,tight_layout=True,figsize = (15,5))\n",
    "clrs = ['orange' if (a == max(gb_country[:10]['Count'])) else '#34495E' for a in gb_country[:10]['Count']]\n",
    "ax.bar(\n",
    "    x = gb_country[:10]['Country'],\n",
    "    height = gb_country[:10]['Count'],\n",
    "    color = clrs)\n",
    "ax.set_xlabel(\"Country\", size = 15)\n",
    "ax.set_ylabel('Total Film Released', size = 15)\n",
    "plt.title('Top 10 Countries Released the Most Horror Films', size = 20)\n",
    "add_value_labels(ax)"
   ]
  },
  {
   "cell_type": "markdown",
   "id": "17d4e2e6",
   "metadata": {},
   "source": [
    ">We see that **the US takes a dominately leading role in horror film industry, far beyond other countries.** It might be due to the fact that IMDb is a US film rating website and may not include all films released in areas other then North America."
   ]
  },
  {
   "cell_type": "markdown",
   "id": "e2b451b7",
   "metadata": {},
   "source": [
    "Because the difference of total horror films released is not significant among countries other than the top 3, we combined those countries together when calculating the proportion of horror films released."
   ]
  },
  {
   "cell_type": "code",
   "execution_count": 209,
   "id": "1a3f63f1",
   "metadata": {},
   "outputs": [],
   "source": [
    "# combine: top 3 and others\n",
    "country_top_proportion = pd.DataFrame({\n",
    "    'country' : [\n",
    "        gb_country['Country'][0],\n",
    "        gb_country['Country'][1],\n",
    "        gb_country['Country'][2],\n",
    "        'Other'],\n",
    "    'frequency' : [\n",
    "        gb_country['Count'][0],\n",
    "        gb_country['Count'][1],\n",
    "        gb_country['Count'][2],\n",
    "        gb_country['Count'][3:].sum()]\n",
    "})"
   ]
  },
  {
   "cell_type": "code",
   "execution_count": 210,
   "id": "9b8a437c",
   "metadata": {},
   "outputs": [
    {
     "data": {
      "text/plain": [
       "Text(0.5, 1.0, 'Proportion of Released Horror Films by Country')"
      ]
     },
     "execution_count": 210,
     "metadata": {},
     "output_type": "execute_result"
    },
    {
     "data": {
      "image/png": "[encoded data removed]",
      "text/plain": [
       "<Figure size 720x432 with 1 Axes>"
      ]
     },
     "metadata": {},
     "output_type": "display_data"
    }
   ],
   "source": [
    "# plot pie chart\n",
    "fig, ax = plt.subplots(1,1,figsize = (10,6), tight_layout = True)\n",
    "clrs = [\n",
    "    '#1F618D',\n",
    "    '#5499C7',\n",
    "    '#A9CCE3',\n",
    "    '#EAF2F8']\n",
    "ax.pie(\n",
    "    x = country_top_proportion['frequency'],\n",
    "    labels = country_top_proportion['country'],\n",
    "    autopct='%1.1f%%',\n",
    "    colors = clrs)\n",
    "plt.title('Proportion of Released Horror Films by Country', size = 20)"
   ]
  },
  {
   "cell_type": "markdown",
   "id": "0881226e",
   "metadata": {},
   "source": [
    "Here, we further analyzed the distribution by rating scores among the top 3 countries that release the most horror films: **the United States, the United Kingdom,** and **Canada**."
   ]
  },
  {
   "cell_type": "code",
   "execution_count": 211,
   "id": "e9ba4966",
   "metadata": {},
   "outputs": [],
   "source": [
    "def add_pct_labels(ax, spacing=5):\n",
    "    \"\"\"Add labels to the end of each bar in a bar chart.\n",
    "\n",
    "    Arguments:\n",
    "        ax (matplotlib.axes.Axes): The matplotlib object containing the axes\n",
    "            of the plot to annotate.\n",
    "        spacing (int): The distance between the labels and the bars.\n",
    "    \"\"\"\n",
    "\n",
    "    # For each bar: Place a label\n",
    "    for rect in ax.patches:\n",
    "        # Get X and Y placement of label from rect.\n",
    "        y_value = rect.get_height()\n",
    "        x_value = rect.get_x() + rect.get_width() / 2\n",
    "\n",
    "        # Number of points between bar and label. Change to your liking.\n",
    "        space = spacing\n",
    "        # Vertical alignment for positive values\n",
    "        va = 'bottom'\n",
    "\n",
    "        # # If value of bar is greater than 0.5: Adjust label location\n",
    "        # if y_value > 0.5:\n",
    "        #     space = spacing - 20\n",
    "        #     # Vertically align label at top\n",
    "        #     va = 'bottom'\n",
    "\n",
    "        # Use Y value as label and format number with one decimal place, if Y is positive (nonzero)\n",
    "        label = \"{:.2%}\".format(y_value) if y_value >0 else None #int(y_value) if y_value >0 else None\n",
    "\n",
    "        # Create annotation\n",
    "        ax.annotate(\n",
    "            label,                      # Use `label` as label\n",
    "            (x_value, y_value),         # Place label at end of the bar\n",
    "            xytext=(0, space),          # Vertically shift label by `space`\n",
    "            textcoords=\"offset points\", # Interpret `xytext` as offset in points\n",
    "            ha='center',                # Horizontally center label\n",
    "            va=va)                      # Vertically align label differently for\n",
    "                                        # positive and negative values."
   ]
  },
  {
   "cell_type": "code",
   "execution_count": 212,
   "id": "0e47be32",
   "metadata": {},
   "outputs": [
    {
     "data": {
      "image/png": "[encoded data removed]",
      "text/plain": [
       "<Figure size 576x720 with 3 Axes>"
      ]
     },
     "metadata": {
      "needs_background": "light"
     },
     "output_type": "display_data"
    }
   ],
   "source": [
    "fig, ax = plt.subplots(3, 1, sharey=True, tight_layout=True,figsize=(8, 10))\n",
    "fig.suptitle('Frequency of Horror Films Released by Rating Value', size = 25)\n",
    "plt.xlabel(\"Rating Value\", size = 15)\n",
    "\n",
    "# 1. US\n",
    "ax[0].hist(mainpage.query('Country == \"United States\"')['Rate'], range = [0, 10],bins = 10, density = True, color = '#1F618D')\n",
    "ax[0].set_title(\"1. the United States\", size = 15)\n",
    "add_pct_labels(ax[0])\n",
    "ax[0].set_ylim(0, 0.6)\n",
    "\n",
    "# 2. UK\n",
    "ax[1].hist(mainpage.query('Country == \"United Kingdom\"')['Rate'], range = [0, 10],bins = 10, density = True, color = '#5499C7')\n",
    "ax[1].set_title(\"2. the United Kingdom\", size = 15)\n",
    "ax[1].set_ylabel(\"Count\", size = 15)\n",
    "add_pct_labels(ax[1])\n",
    "# ax[1].set_ylim(0, 37)\n",
    "\n",
    "# 3. Canada\n",
    "ax[2].hist(mainpage.query('Country == \"Canada\"')['Rate'], range = [0, 10],bins = 10, density = True, color = '#A9CCE3')\n",
    "ax[2].set_title(\"3. Canada\", size = 15)\n",
    "add_pct_labels(ax[2])\n",
    "# ax[2].set_ylim(0, 25)"
   ]
  },
  {
   "cell_type": "markdown",
   "id": "3261938a",
   "metadata": {},
   "source": [
    ">In all three countries, **most horror films are rated between 6 and 7 in IMDb**. The UK has a relatively larger proportion of films rated above 7, and a smaller proportion rated below 5. If you want to avoid seeing a bad horror film, choose the one released from the UK gives you greater odds!"
   ]
  },
  {
   "cell_type": "markdown",
   "id": "0bfbd98e",
   "metadata": {},
   "source": [
    "## 5. Budget and Box Office\n"
   ]
  },
  {
   "cell_type": "markdown",
   "id": "912bb32d",
   "metadata": {},
   "source": [
    "### 5.1. Are the Most Profitable Films Also Highest-Rated?\n",
    "We turn to look at another measure of a \"successful\" horror film: **revenue**. We define a film's revenue as the difference between its gross worldwide box office and budget. After removing missing data, a total of 542 horror films were included in our analysis."
   ]
  },
  {
   "cell_type": "code",
   "execution_count": 213,
   "id": "d7aafcb8",
   "metadata": {},
   "outputs": [
    {
     "data": {
      "text/plain": [
       "(542, 8)"
      ]
     },
     "execution_count": 213,
     "metadata": {},
     "output_type": "execute_result"
    }
   ],
   "source": [
    "budget = pd.merge(budget_read, ranking, on=['Name', 'Year'])\n",
    "budget.shape"
   ]
  },
  {
   "cell_type": "code",
   "execution_count": 214,
   "id": "1141ada2",
   "metadata": {},
   "outputs": [
    {
     "data": {
      "text/html": [
       "<div>\n",
       "<style scoped>\n",
       "    .dataframe tbody tr th:only-of-type {\n",
       "        vertical-align: middle;\n",
       "    }\n",
       "\n",
       "    .dataframe tbody tr th {\n",
       "        vertical-align: top;\n",
       "    }\n",
       "\n",
       "    .dataframe thead th {\n",
       "        text-align: right;\n",
       "    }\n",
       "</style>\n",
       "<table border=\"1\" class=\"dataframe\">\n",
       "  <thead>\n",
       "    <tr style=\"text-align: right;\">\n",
       "      <th></th>\n",
       "      <th>Name</th>\n",
       "      <th>Year</th>\n",
       "      <th>Rank by Rating</th>\n",
       "      <th>Rate</th>\n",
       "      <th>Revenue</th>\n",
       "    </tr>\n",
       "    <tr>\n",
       "      <th>Rank by Revenue</th>\n",
       "      <th></th>\n",
       "      <th></th>\n",
       "      <th></th>\n",
       "      <th></th>\n",
       "      <th></th>\n",
       "    </tr>\n",
       "  </thead>\n",
       "  <tbody>\n",
       "    <tr>\n",
       "      <th>1</th>\n",
       "      <td>It</td>\n",
       "      <td>2017</td>\n",
       "      <td>83</td>\n",
       "      <td>7.3</td>\n",
       "      <td>666796444</td>\n",
       "    </tr>\n",
       "    <tr>\n",
       "      <th>2</th>\n",
       "      <td>Hotel Transylvania 3: Summer Vacation</td>\n",
       "      <td>2018</td>\n",
       "      <td>346</td>\n",
       "      <td>6.3</td>\n",
       "      <td>448583774</td>\n",
       "    </tr>\n",
       "    <tr>\n",
       "      <th>3</th>\n",
       "      <td>The Exorcist</td>\n",
       "      <td>1973</td>\n",
       "      <td>11</td>\n",
       "      <td>8.0</td>\n",
       "      <td>430306145</td>\n",
       "    </tr>\n",
       "    <tr>\n",
       "      <th>4</th>\n",
       "      <td>The Meg</td>\n",
       "      <td>2018</td>\n",
       "      <td>548</td>\n",
       "      <td>5.6</td>\n",
       "      <td>400438278</td>\n",
       "    </tr>\n",
       "    <tr>\n",
       "      <th>5</th>\n",
       "      <td>Hotel Transylvania 2</td>\n",
       "      <td>2015</td>\n",
       "      <td>210</td>\n",
       "      <td>6.7</td>\n",
       "      <td>395186706</td>\n",
       "    </tr>\n",
       "    <tr>\n",
       "      <th>6</th>\n",
       "      <td>It Chapter Two</td>\n",
       "      <td>2019</td>\n",
       "      <td>266</td>\n",
       "      <td>6.5</td>\n",
       "      <td>394093228</td>\n",
       "    </tr>\n",
       "    <tr>\n",
       "      <th>7</th>\n",
       "      <td>World War Z</td>\n",
       "      <td>2013</td>\n",
       "      <td>149</td>\n",
       "      <td>7.0</td>\n",
       "      <td>350455876</td>\n",
       "    </tr>\n",
       "    <tr>\n",
       "      <th>8</th>\n",
       "      <td>The Nun</td>\n",
       "      <td>2018</td>\n",
       "      <td>609</td>\n",
       "      <td>5.3</td>\n",
       "      <td>343551694</td>\n",
       "    </tr>\n",
       "    <tr>\n",
       "      <th>9</th>\n",
       "      <td>A Quiet Place</td>\n",
       "      <td>2018</td>\n",
       "      <td>47</td>\n",
       "      <td>7.5</td>\n",
       "      <td>323952971</td>\n",
       "    </tr>\n",
       "    <tr>\n",
       "      <th>10</th>\n",
       "      <td>The Conjuring</td>\n",
       "      <td>2013</td>\n",
       "      <td>50</td>\n",
       "      <td>7.5</td>\n",
       "      <td>300290989</td>\n",
       "    </tr>\n",
       "  </tbody>\n",
       "</table>\n",
       "</div>"
      ],
      "text/plain": [
       "                                                  Name  Year  Rank by Rating  \\\n",
       "Rank by Revenue                                                                \n",
       "1                                                   It  2017              83   \n",
       "2                Hotel Transylvania 3: Summer Vacation  2018             346   \n",
       "3                                         The Exorcist  1973              11   \n",
       "4                                              The Meg  2018             548   \n",
       "5                                 Hotel Transylvania 2  2015             210   \n",
       "6                                       It Chapter Two  2019             266   \n",
       "7                                          World War Z  2013             149   \n",
       "8                                              The Nun  2018             609   \n",
       "9                                        A Quiet Place  2018              47   \n",
       "10                                       The Conjuring  2013              50   \n",
       "\n",
       "                 Rate    Revenue  \n",
       "Rank by Revenue                   \n",
       "1                 7.3  666796444  \n",
       "2                 6.3  448583774  \n",
       "3                 8.0  430306145  \n",
       "4                 5.6  400438278  \n",
       "5                 6.7  395186706  \n",
       "6                 6.5  394093228  \n",
       "7                 7.0  350455876  \n",
       "8                 5.3  343551694  \n",
       "9                 7.5  323952971  \n",
       "10                7.5  300290989  "
      ]
     },
     "execution_count": 214,
     "metadata": {},
     "output_type": "execute_result"
    }
   ],
   "source": [
    "# rank by revenue\n",
    "budget['Revenue'] = budget['Gross Worldwide'] - budget['Budget']\n",
    "budget = budget.rename(columns={\"Rank\" : \"Rank by Rating\"}).sort_values(by = 'Revenue', ascending = False).set_index(\"Name\").reset_index()\n",
    "budget[\"Rank by Revenue\"] = budget.index + 1\n",
    "budget[['Name', 'Year', 'Rank by Rating', 'Rank by Revenue', 'Rate', 'Revenue']].set_index(\"Rank by Revenue\").head(10)"
   ]
  },
  {
   "cell_type": "code",
   "execution_count": 215,
   "id": "72d8f918",
   "metadata": {},
   "outputs": [
    {
     "data": {
      "text/html": [
       "<div>\n",
       "<style scoped>\n",
       "    .dataframe tbody tr th:only-of-type {\n",
       "        vertical-align: middle;\n",
       "    }\n",
       "\n",
       "    .dataframe tbody tr th {\n",
       "        vertical-align: top;\n",
       "    }\n",
       "\n",
       "    .dataframe thead th {\n",
       "        text-align: right;\n",
       "    }\n",
       "</style>\n",
       "<table border=\"1\" class=\"dataframe\">\n",
       "  <thead>\n",
       "    <tr style=\"text-align: right;\">\n",
       "      <th></th>\n",
       "      <th>Name</th>\n",
       "      <th>Year</th>\n",
       "      <th>Rank by Revenue</th>\n",
       "      <th>Rate</th>\n",
       "      <th>Revenue</th>\n",
       "    </tr>\n",
       "    <tr>\n",
       "      <th>Rank by Rating</th>\n",
       "      <th></th>\n",
       "      <th></th>\n",
       "      <th></th>\n",
       "      <th></th>\n",
       "      <th></th>\n",
       "    </tr>\n",
       "  </thead>\n",
       "  <tbody>\n",
       "    <tr>\n",
       "      <th>1</th>\n",
       "      <td>Psycho</td>\n",
       "      <td>1960</td>\n",
       "      <td>248</td>\n",
       "      <td>8.5</td>\n",
       "      <td>31234898</td>\n",
       "    </tr>\n",
       "    <tr>\n",
       "      <th>2</th>\n",
       "      <td>The Shining</td>\n",
       "      <td>1980</td>\n",
       "      <td>263</td>\n",
       "      <td>8.4</td>\n",
       "      <td>27998772</td>\n",
       "    </tr>\n",
       "    <tr>\n",
       "      <th>3</th>\n",
       "      <td>Alien</td>\n",
       "      <td>1979</td>\n",
       "      <td>95</td>\n",
       "      <td>8.4</td>\n",
       "      <td>95285522</td>\n",
       "    </tr>\n",
       "    <tr>\n",
       "      <th>6</th>\n",
       "      <td>The Blue Elephant</td>\n",
       "      <td>2014</td>\n",
       "      <td>480</td>\n",
       "      <td>8.1</td>\n",
       "      <td>-2804564</td>\n",
       "    </tr>\n",
       "    <tr>\n",
       "      <th>7</th>\n",
       "      <td>The Thing</td>\n",
       "      <td>1982</td>\n",
       "      <td>387</td>\n",
       "      <td>8.1</td>\n",
       "      <td>4632053</td>\n",
       "    </tr>\n",
       "    <tr>\n",
       "      <th>10</th>\n",
       "      <td>The Cabinet of Dr. Caligari</td>\n",
       "      <td>1920</td>\n",
       "      <td>429</td>\n",
       "      <td>8.1</td>\n",
       "      <td>-9189</td>\n",
       "    </tr>\n",
       "    <tr>\n",
       "      <th>11</th>\n",
       "      <td>The Exorcist</td>\n",
       "      <td>1973</td>\n",
       "      <td>3</td>\n",
       "      <td>8.0</td>\n",
       "      <td>430306145</td>\n",
       "    </tr>\n",
       "    <tr>\n",
       "      <th>13</th>\n",
       "      <td>Let the Right One In</td>\n",
       "      <td>2008</td>\n",
       "      <td>372</td>\n",
       "      <td>7.9</td>\n",
       "      <td>7227336</td>\n",
       "    </tr>\n",
       "    <tr>\n",
       "      <th>15</th>\n",
       "      <td>Dawn of the Dead</td>\n",
       "      <td>1978</td>\n",
       "      <td>443</td>\n",
       "      <td>7.9</td>\n",
       "      <td>-490178</td>\n",
       "    </tr>\n",
       "    <tr>\n",
       "      <th>16</th>\n",
       "      <td>Night of the Living Dead</td>\n",
       "      <td>1968</td>\n",
       "      <td>425</td>\n",
       "      <td>7.9</td>\n",
       "      <td>122452</td>\n",
       "    </tr>\n",
       "  </tbody>\n",
       "</table>\n",
       "</div>"
      ],
      "text/plain": [
       "                                       Name  Year  Rank by Revenue  Rate  \\\n",
       "Rank by Rating                                                             \n",
       "1                                    Psycho  1960              248   8.5   \n",
       "2                               The Shining  1980              263   8.4   \n",
       "3                                     Alien  1979               95   8.4   \n",
       "6                         The Blue Elephant  2014              480   8.1   \n",
       "7                                 The Thing  1982              387   8.1   \n",
       "10              The Cabinet of Dr. Caligari  1920              429   8.1   \n",
       "11                             The Exorcist  1973                3   8.0   \n",
       "13                     Let the Right One In  2008              372   7.9   \n",
       "15                         Dawn of the Dead  1978              443   7.9   \n",
       "16                 Night of the Living Dead  1968              425   7.9   \n",
       "\n",
       "                  Revenue  \n",
       "Rank by Rating             \n",
       "1                31234898  \n",
       "2                27998772  \n",
       "3                95285522  \n",
       "6                -2804564  \n",
       "7                 4632053  \n",
       "10                  -9189  \n",
       "11              430306145  \n",
       "13                7227336  \n",
       "15                -490178  \n",
       "16                 122452  "
      ]
     },
     "execution_count": 215,
     "metadata": {},
     "output_type": "execute_result"
    }
   ],
   "source": [
    "# rank by rating\n",
    "budget[['Name', 'Year', 'Rank by Rating', 'Rank by Revenue', 'Rate', 'Revenue']].sort_values(by = 'Rank by Rating', ascending = True).set_index(\"Rank by Rating\").head(10)"
   ]
  },
  {
   "cell_type": "markdown",
   "id": "6004c862",
   "metadata": {},
   "source": [
    ">Unsurprisingly, **not all profitable horror films are highest rated**, with an exception of the 1973 film ***The Exorcist*** rated at 8.0. ***It*** is also the earliest released and the only one released before 2010s. The lowest rated profitable film is ***The Nun***, released in 2018 and ranked at top 8 by revenue."
   ]
  },
  {
   "cell_type": "markdown",
   "id": "68128443",
   "metadata": {},
   "source": [
    ">On the other hand, 3 of the top 10 highest rated horror films even gain a negative revenue. The 2014 film ***The Blue Elephant*** and the 2008 film ***Let the Right One In*** are the only ones released in the 21st century whose rates ranked at top 10."
   ]
  },
  {
   "cell_type": "markdown",
   "id": "912bb32d",
   "metadata": {},
   "source": [
    "### 5.2. Which Horror Film Subgenre Is the Most Profitable?\n",
    "We also analyzed average revenue with horror film subgenres to see what type of horror movies people prefer to pay to watch."
   ]
  },
  {
   "cell_type": "code",
   "execution_count": 216,
   "id": "45a388f4",
   "metadata": {},
   "outputs": [],
   "source": [
    "#convert string to list\n",
    "def stringToList(string):\n",
    "    listRes = list(string.split(\",\"))\n",
    "    return listRes\n",
    "\n",
    "budget[\"Genre_list\"] = budget.apply(lambda x : stringToList(x[\"Genre\"]),axis=1)"
   ]
  },
  {
   "cell_type": "code",
   "execution_count": 217,
   "id": "f5b63983",
   "metadata": {},
   "outputs": [],
   "source": [
    "# Function to Calculate Average Revenue by Genre\n",
    "def genre_avgRev (genre):\n",
    "    total_rev=0\n",
    "    count=0\n",
    "    for list in budget[\"Genre_list\"]:\n",
    "        i = budget[\"Genre_list\"].tolist().index(list)\n",
    "        if genre in list:\n",
    "            total_rev = total_rev + budget[\"Revenue\"][i]\n",
    "            count += 1\n",
    "    return float(\"{:.2f}\".format(total_rev / count))"
   ]
  },
  {
   "cell_type": "code",
   "execution_count": 218,
   "id": "bb0b5075",
   "metadata": {},
   "outputs": [],
   "source": [
    "# get average revenue of each film genre\n",
    "a = pd.Series(np.concatenate(budget.Genre_list)).value_counts().index.tolist()\n",
    "b = pd.DataFrame({'Genre' : a})\n",
    "b['avg_rev'] = \"\"\n",
    "for genre in b['Genre']:\n",
    "    i = b['Genre'].tolist().index(genre)\n",
    "    b['avg_rev'][i] = genre_avgRev(genre)\n",
    "avg_rev = b.sort_values(by='avg_rev', ascending=False).reset_index().drop(columns=\"index\")"
   ]
  },
  {
   "cell_type": "code",
   "execution_count": 219,
   "id": "713e2e8b",
   "metadata": {},
   "outputs": [
    {
     "data": {
      "image/png": "[encoded data removed]",
      "text/plain": [
       "<Figure size 1440x432 with 1 Axes>"
      ]
     },
     "metadata": {
      "needs_background": "light"
     },
     "output_type": "display_data"
    }
   ],
   "source": [
    "# plot\n",
    "fig, ax = plt.subplots(1,1, figsize = (20,6))\n",
    "ax.set_title(\"Revenue by Genre (in US dollars)\", size = 20)\n",
    "ax.set_xlabel('Genre', size = 15)\n",
    "ax.set_ylabel('Revenue', size = 15)\n",
    "dd = avg_rev['Genre'].apply(lambda x: colors_list[x])\n",
    "ax.bar(avg_rev['Genre'], height = avg_rev['avg_rev'], color=dd)\n",
    "plt.show()"
   ]
  },
  {
   "cell_type": "code",
   "execution_count": 220,
   "id": "05febe56",
   "metadata": {},
   "outputs": [],
   "source": [
    "def add_toprev_labels(ax, spacing=5):\n",
    "    \"\"\"Add labels to the end of each bar in a bar chart.\n",
    "\n",
    "    Arguments:\n",
    "        ax (matplotlib.axes.Axes): The matplotlib object containing the axes\n",
    "            of the plot to annotate.\n",
    "        spacing (int): The distance between the labels and the bars.\n",
    "    \"\"\"\n",
    "\n",
    "    # For each bar: Place a label\n",
    "    for rect in ax.patches:\n",
    "        # Get X and Y placement of label from rect.\n",
    "        y_value = rect.get_height()\n",
    "        x_value = rect.get_x() + rect.get_width() / 2\n",
    "\n",
    "        # Number of points between bar and label. Change to your liking.\n",
    "        space = spacing\n",
    "        # Vertical alignment for positive values\n",
    "        va = 'bottom'\n",
    "\n",
    "        # If value of bar is negative: Place label below bar\n",
    "        if y_value < 0:\n",
    "            # Invert space to place label below\n",
    "            space *= -1\n",
    "            # Vertically align label at top\n",
    "            va = 'top'\n",
    "\n",
    "        # If value of bar is greater than 400: Adjust label location\n",
    "        if y_value > 400:\n",
    "            space = spacing - 3\n",
    "            # Vertically align label at top\n",
    "            va = 'bottom'\n",
    "\n",
    "        # Use Y value as label and format number with one decimal place, if Y is positive (nonzero)\n",
    "        label = \"${:.2}b\".format(y_value/1000000000) #if y_value >0 else None\n",
    "\n",
    "        # Create annotation\n",
    "        ax.annotate(\n",
    "            label,                      # Use `label` as label\n",
    "            (x_value, y_value),         # Place label at end of the bar\n",
    "            xytext=(0, space),          # Vertically shift label by `space`\n",
    "            textcoords=\"offset points\", # Interpret `xytext` as offset in points\n",
    "            ha='center',                # Horizontally center label\n",
    "            va=va)                      # Vertically align label differently for\n",
    "                                        # positive and negative values."
   ]
  },
  {
   "cell_type": "code",
   "execution_count": 221,
   "id": "d21a7c36",
   "metadata": {},
   "outputs": [
    {
     "data": {
      "image/png": "[encoded data removed]",
      "text/plain": [
       "<Figure size 720x432 with 1 Axes>"
      ]
     },
     "metadata": {
      "needs_background": "light"
     },
     "output_type": "display_data"
    }
   ],
   "source": [
    "# plot\n",
    "fig, ax = plt.subplots(1,1, figsize = (10,6))\n",
    "ax.set_title(\"Top 5 Profitable Subgenre (in US dollars)\", size = 20)\n",
    "ax.set_xlabel('Genre', size = 15)\n",
    "ax.set_ylabel('Revenue', size = 15)\n",
    "ax.set_ylim([100000000, 280000000])\n",
    "dd = avg_rev['Genre'].apply(lambda x: colors_list[x])\n",
    "ax.bar(avg_rev['Genre'][:5], height = avg_rev['avg_rev'][:5], color=dd)\n",
    "add_toprev_labels(ax)\n",
    "plt.show()"
   ]
  },
  {
   "cell_type": "code",
   "execution_count": 222,
   "id": "05febe56",
   "metadata": {},
   "outputs": [],
   "source": [
    "def add_bottomrev_labels(ax, spacing=5):\n",
    "    \"\"\"Add labels to the end of each bar in a bar chart.\n",
    "\n",
    "    Arguments:\n",
    "        ax (matplotlib.axes.Axes): The matplotlib object containing the axes\n",
    "            of the plot to annotate.\n",
    "        spacing (int): The distance between the labels and the bars.\n",
    "    \"\"\"\n",
    "\n",
    "    # For each bar: Place a label\n",
    "    for rect in ax.patches:\n",
    "        # Get X and Y placement of label from rect.\n",
    "        y_value = rect.get_height()\n",
    "        x_value = rect.get_x() + rect.get_width() / 2\n",
    "\n",
    "        # Number of points between bar and label. Change to your liking.\n",
    "        space = spacing\n",
    "        # Vertical alignment for positive values\n",
    "        va = 'bottom'\n",
    "\n",
    "        # If value of bar is negative: Place label below bar\n",
    "        if y_value < 0:\n",
    "            # Invert space to place label below\n",
    "            space *= -1\n",
    "            # Vertically align label at top\n",
    "            va = 'top'\n",
    "\n",
    "        # If value of bar is greater than 400: Adjust label location\n",
    "        if y_value > 400:\n",
    "            space = spacing - 3\n",
    "            # Vertically align label at top\n",
    "            va = 'bottom'\n",
    "\n",
    "        # Use Y value as label and format number with one decimal place, if Y is positive (nonzero)\n",
    "        label = \"${:.2}m\".format(y_value/1000000) #if y_value >0 else None\n",
    "\n",
    "        # Create annotation\n",
    "        ax.annotate(\n",
    "            label,                      # Use `label` as label\n",
    "            (x_value, y_value),         # Place label at end of the bar\n",
    "            xytext=(0, space),          # Vertically shift label by `space`\n",
    "            textcoords=\"offset points\", # Interpret `xytext` as offset in points\n",
    "            ha='center',                # Horizontally center label\n",
    "            va=va)                      # Vertically align label differently for\n",
    "                                        # positive and negative values."
   ]
  },
  {
   "cell_type": "code",
   "execution_count": 223,
   "id": "f34ce474",
   "metadata": {},
   "outputs": [
    {
     "data": {
      "image/png": "[encoded data removed]",
      "text/plain": [
       "<Figure size 720x432 with 1 Axes>"
      ]
     },
     "metadata": {
      "needs_background": "light"
     },
     "output_type": "display_data"
    }
   ],
   "source": [
    "# plot\n",
    "fig, ax = plt.subplots(1,1, figsize = (10,6))\n",
    "ax.set_title(\"Bottom 2 Profitable Subgenre (in US dollars)\", size = 20)\n",
    "ax.set_xlabel('Genre', size = 15)\n",
    "ax.set_ylabel('Revenue', size = 15)\n",
    "ax.bar(avg_rev['Genre'][-2:], height = avg_rev['avg_rev'][-2:], color = dd)\n",
    "add_bottomrev_labels(ax)\n",
    "plt.show()"
   ]
  },
  {
   "cell_type": "markdown",
   "id": "2c207b30",
   "metadata": {},
   "source": [
    ">We see a large difference in revenue gained across horror film subgenres, with **Animation being the most profitable subgenre and Biography being the least**."
   ]
  },
  {
   "cell_type": "markdown",
   "id": "6e6a31ec",
   "metadata": {},
   "source": [
    ">Interestingly, the average revenue of Biography horror films is negative, suggesting investors to avoid putting money in any horror films related to personal biography."
   ]
  }
 ],
 "metadata": {
  "interpreter": {
   "hash": "b5b2985c9892eb107a3576aa1739bb2ca8a808a10b25f4d7be2fa806ac6ae43f"
  },
  "kernelspec": {
   "display_name": "Python 3.7.11 64-bit ('scrapy-example': conda)",
   "language": "python",
   "name": "python3"
  },
  "language_info": {
   "codemirror_mode": {
    "name": "ipython",
    "version": 3
   },
   "file_extension": ".py",
   "mimetype": "text/x-python",
   "name": "python",
   "nbconvert_exporter": "python",
   "pygments_lexer": "ipython3",
   "version": "3.8.8"
  }
 },
 "nbformat": 4,
 "nbformat_minor": 5
}
