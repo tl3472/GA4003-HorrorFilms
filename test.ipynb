{
 "cells": [
  {
   "cell_type": "code",
   "execution_count": 1,
   "id": "631ab781",
   "metadata": {},
   "outputs": [
    {
     "name": "stdout",
     "output_type": "stream",
     "text": [
      "Requirement already satisfied: scrapy in /opt/anaconda3/lib/python3.8/site-packages (2.5.1)\n",
      "Requirement already satisfied: service-identity>=16.0.0 in /opt/anaconda3/lib/python3.8/site-packages (from scrapy) (21.1.0)\n",
      "Requirement already satisfied: protego>=0.1.15 in /opt/anaconda3/lib/python3.8/site-packages (from scrapy) (0.1.16)\n",
      "Requirement already satisfied: itemloaders>=1.0.1 in /opt/anaconda3/lib/python3.8/site-packages (from scrapy) (1.0.4)\n",
      "Requirement already satisfied: parsel>=1.5.0 in /opt/anaconda3/lib/python3.8/site-packages (from scrapy) (1.6.0)\n",
      "Requirement already satisfied: h2<4.0,>=3.0 in /opt/anaconda3/lib/python3.8/site-packages (from scrapy) (3.2.0)\n",
      "Requirement already satisfied: lxml>=3.5.0 in /opt/anaconda3/lib/python3.8/site-packages (from scrapy) (4.6.3)\n",
      "Requirement already satisfied: queuelib>=1.4.2 in /opt/anaconda3/lib/python3.8/site-packages (from scrapy) (1.6.2)\n",
      "Requirement already satisfied: zope.interface>=4.1.3 in /opt/anaconda3/lib/python3.8/site-packages (from scrapy) (5.3.0)\n",
      "Requirement already satisfied: w3lib>=1.17.0 in /opt/anaconda3/lib/python3.8/site-packages (from scrapy) (1.22.0)\n",
      "Requirement already satisfied: itemadapter>=0.1.0 in /opt/anaconda3/lib/python3.8/site-packages (from scrapy) (0.4.0)\n",
      "Requirement already satisfied: PyDispatcher>=2.0.5 in /opt/anaconda3/lib/python3.8/site-packages (from scrapy) (2.0.5)\n",
      "Requirement already satisfied: pyOpenSSL>=16.2.0 in /opt/anaconda3/lib/python3.8/site-packages (from scrapy) (20.0.1)\n",
      "Requirement already satisfied: Twisted[http2]>=17.9.0 in /opt/anaconda3/lib/python3.8/site-packages (from scrapy) (21.7.0)\n",
      "Requirement already satisfied: cryptography>=2.0 in /opt/anaconda3/lib/python3.8/site-packages (from scrapy) (3.4.7)\n",
      "Requirement already satisfied: cssselect>=0.9.1 in /opt/anaconda3/lib/python3.8/site-packages (from scrapy) (1.1.0)\n",
      "Requirement already satisfied: cffi>=1.12 in /opt/anaconda3/lib/python3.8/site-packages (from cryptography>=2.0->scrapy) (1.14.5)\n",
      "Requirement already satisfied: hyperframe<6,>=5.2.0 in /opt/anaconda3/lib/python3.8/site-packages (from h2<4.0,>=3.0->scrapy) (5.2.0)\n",
      "Requirement already satisfied: hpack<4,>=3.0 in /opt/anaconda3/lib/python3.8/site-packages (from h2<4.0,>=3.0->scrapy) (3.0.0)\n",
      "Requirement already satisfied: jmespath>=0.9.5 in /opt/anaconda3/lib/python3.8/site-packages (from itemloaders>=1.0.1->scrapy) (0.10.0)\n",
      "Requirement already satisfied: six>=1.6.0 in /opt/anaconda3/lib/python3.8/site-packages (from parsel>=1.5.0->scrapy) (1.15.0)\n",
      "Requirement already satisfied: pyasn1 in /opt/anaconda3/lib/python3.8/site-packages (from service-identity>=16.0.0->scrapy) (0.4.8)\n",
      "Requirement already satisfied: attrs>=19.1.0 in /opt/anaconda3/lib/python3.8/site-packages (from service-identity>=16.0.0->scrapy) (20.3.0)\n",
      "Requirement already satisfied: pyasn1-modules in /opt/anaconda3/lib/python3.8/site-packages (from service-identity>=16.0.0->scrapy) (0.2.8)\n",
      "Requirement already satisfied: incremental>=21.3.0 in /opt/anaconda3/lib/python3.8/site-packages (from Twisted[http2]>=17.9.0->scrapy) (21.3.0)\n",
      "Requirement already satisfied: constantly>=15.1 in /opt/anaconda3/lib/python3.8/site-packages (from Twisted[http2]>=17.9.0->scrapy) (15.1.0)\n",
      "Requirement already satisfied: Automat>=0.8.0 in /opt/anaconda3/lib/python3.8/site-packages (from Twisted[http2]>=17.9.0->scrapy) (20.2.0)\n",
      "Requirement already satisfied: hyperlink>=17.1.1 in /opt/anaconda3/lib/python3.8/site-packages (from Twisted[http2]>=17.9.0->scrapy) (21.0.0)\n",
      "Requirement already satisfied: typing-extensions>=3.6.5 in /opt/anaconda3/lib/python3.8/site-packages (from Twisted[http2]>=17.9.0->scrapy) (3.7.4.3)\n",
      "Requirement already satisfied: priority<2.0,>=1.1.0 in /opt/anaconda3/lib/python3.8/site-packages (from Twisted[http2]>=17.9.0->scrapy) (1.3.0)\n",
      "Requirement already satisfied: setuptools in /opt/anaconda3/lib/python3.8/site-packages (from zope.interface>=4.1.3->scrapy) (52.0.0.post20210125)\n",
      "Requirement already satisfied: pycparser in /opt/anaconda3/lib/python3.8/site-packages (from cffi>=1.12->cryptography>=2.0->scrapy) (2.20)\n",
      "Requirement already satisfied: idna>=2.5 in /opt/anaconda3/lib/python3.8/site-packages (from hyperlink>=17.1.1->Twisted[http2]>=17.9.0->scrapy) (2.10)\n",
      "\u001b[33mWARNING: You are using pip version 21.3; however, version 21.3.1 is available.\n",
      "You should consider upgrading via the '/opt/anaconda3/bin/python -m pip install --upgrade pip' command.\u001b[0m\n",
      "Note: you may need to restart the kernel to use updated packages.\n"
     ]
    }
   ],
   "source": [
    "pip install scrapy"
   ]
  },
  {
   "cell_type": "code",
   "execution_count": 2,
   "id": "4bd2195d",
   "metadata": {},
   "outputs": [
    {
     "name": "stdout",
     "output_type": "stream",
     "text": [
      "Collecting crochet\n",
      "  Downloading crochet-2.0.0-py3-none-any.whl (31 kB)\n",
      "Requirement already satisfied: wrapt in /opt/anaconda3/lib/python3.8/site-packages (from crochet) (1.12.1)\n",
      "Requirement already satisfied: Twisted>=16.0 in /opt/anaconda3/lib/python3.8/site-packages (from crochet) (21.7.0)\n",
      "Requirement already satisfied: zope.interface>=4.4.2 in /opt/anaconda3/lib/python3.8/site-packages (from Twisted>=16.0->crochet) (5.3.0)\n",
      "Requirement already satisfied: incremental>=21.3.0 in /opt/anaconda3/lib/python3.8/site-packages (from Twisted>=16.0->crochet) (21.3.0)\n",
      "Requirement already satisfied: hyperlink>=17.1.1 in /opt/anaconda3/lib/python3.8/site-packages (from Twisted>=16.0->crochet) (21.0.0)\n",
      "Requirement already satisfied: attrs>=19.2.0 in /opt/anaconda3/lib/python3.8/site-packages (from Twisted>=16.0->crochet) (20.3.0)\n",
      "Requirement already satisfied: typing-extensions>=3.6.5 in /opt/anaconda3/lib/python3.8/site-packages (from Twisted>=16.0->crochet) (3.7.4.3)\n",
      "Requirement already satisfied: constantly>=15.1 in /opt/anaconda3/lib/python3.8/site-packages (from Twisted>=16.0->crochet) (15.1.0)\n",
      "Requirement already satisfied: Automat>=0.8.0 in /opt/anaconda3/lib/python3.8/site-packages (from Twisted>=16.0->crochet) (20.2.0)\n",
      "Requirement already satisfied: six in /opt/anaconda3/lib/python3.8/site-packages (from Automat>=0.8.0->Twisted>=16.0->crochet) (1.15.0)\n",
      "Requirement already satisfied: idna>=2.5 in /opt/anaconda3/lib/python3.8/site-packages (from hyperlink>=17.1.1->Twisted>=16.0->crochet) (2.10)\n",
      "Requirement already satisfied: setuptools in /opt/anaconda3/lib/python3.8/site-packages (from zope.interface>=4.4.2->Twisted>=16.0->crochet) (52.0.0.post20210125)\n",
      "Installing collected packages: crochet\n",
      "Successfully installed crochet-2.0.0\n",
      "\u001b[33mWARNING: You are using pip version 21.3; however, version 21.3.1 is available.\n",
      "You should consider upgrading via the '/opt/anaconda3/bin/python -m pip install --upgrade pip' command.\u001b[0m\n",
      "Note: you may need to restart the kernel to use updated packages.\n"
     ]
    }
   ],
   "source": [
    "pip install crochet"
   ]
  },
  {
   "cell_type": "markdown",
   "id": "0a05a354",
   "metadata": {},
   "source": [
    "# Horror-Film Coding in Terminal\n",
    "cd horror_film\n",
    "\n",
    "scrapy genspider HorrormovieMainpageSpider www.imdb.com/search/title/?genres=horror\"&\"sort=user_rating,desc\"&\"title_type=feature\"&\"num_votes=25000,\"&\"pf_rd_m=A2FGELUUNOQJNL\"&\"pf_rd_p=5aab685f-35eb-40f3-95f7-c53f09d542c3\"&\"pf_rd_r=WTHCD67ZPQETK1RG102F\"&\"pf_rd_s=right-6\"&\"pf_rd_t=15506\"&\"pf_rd_i=top\"&\"ref_=chttp_gnr_12/\n",
    "\n",
    "scrapy genspider AllRate www.imdb.com/search/title/?genres=horror\"&\"sort=user_rating,desc\"&\"title_type=feature\"&\"num_votes=25000,\"&\"pf_rd_m=A2FGELUUNOQJNL\"&\"pf_rd_p=5aab685f-35eb-40f3-95f7-c53f09d542c3\"&\"pf_rd_r=WTHCD67ZPQETK1RG102F\"&\"pf_rd_s=right-6\"&\"pf_rd_t=15506\"&\"pf_rd_i=top\"&\"ref_=chttp_gnr_12/\n",
    "\n",
    "scrapy genspider RankNum www.imdb.com/search/title/?genres=horror\"&\"sort=user_rating,desc\"&\"title_type=feature\"&\"num_votes=25000,\"&\"pf_rd_m=A2FGELUUNOQJNL\"&\"pf_rd_p=5aab685f-35eb-40f3-95f7-c53f09d542c3\"&\"pf_rd_r=WTHCD67ZPQETK1RG102F\"&\"pf_rd_s=right-6\"&\"pf_rd_t=15506\"&\"pf_rd_i=top\"&\"ref_=chttp_gnr_12/\n",
    "\n",
    "\n",
    "\n",
    "## shell ranking page\n",
    "scrapy shell https://www.imdb.com/search/title/?genres=horror\"&\"sort=user_rating,desc\"&\"title_type=feature\"&\"num_votes=25000,\"&\"pf_rd_m=A2FGELUUNOQJNL\"&\"pf_rd_p=5aab685f-35eb-40f3-95f7-c53f09d542c3\"&\"pf_rd_r=WTHCD67ZPQETK1RG102F\"&\"pf_rd_s=right-6\"&\"pf_rd_t=15506\"&\"pf_rd_i=top\"&\"ref_=chttp_gnr_12 \n",
    "\n",
    "## shell main information page\n",
    "scrapy shell https://www.imdb.com/title/tt0054215/\n",
    "\n",
    "## shell rating page\n",
    "scrapy shell \"https://www.imdb.com/title/tt0054215/ratings/\""
   ]
  },
  {
   "cell_type": "markdown",
   "id": "d2f4701a",
   "metadata": {},
   "source": [
    "ls -al .zshrc\n",
    "\n",
    "touch ./.zshrc && chmod 777 .zshrc\n",
    "\n",
    "open -e .zshrc\n",
    "\n",
    "setopt no_nomatch\n",
    "\n",
    "source .zshrc"
   ]
  },
  {
   "cell_type": "markdown",
   "id": "e8d119f0",
   "metadata": {},
   "source": [
    "scrapy crawl HorrormovieMainpageSpider -O mainpage.csv\n",
    "\n",
    "vim horror_film/spiders/HorrormovieMainpageSpider.py\n",
    "\n",
    "cat mainpage.csv | wc -l"
   ]
  },
  {
   "cell_type": "markdown",
   "id": "e8d119f0",
   "metadata": {},
   "source": [
    "scrapy crawl AllRate -O allrate.csv\n",
    "\n",
    "vim horror_film/spiders/allrate.py\n",
    "\n",
    "cat allrate.csv | wc -l"
   ]
  },
  {
   "cell_type": "markdown",
   "id": "52d5e357",
   "metadata": {},
   "source": [
    "scrapy crawl RankNum -O ranking.csv\n",
    "\n",
    "cat ranking.csv | wc -l"
   ]
  },
  {
   "cell_type": "markdown",
   "id": "5b48bbe5",
   "metadata": {},
   "source": [
    "# MAINPAGE TEST CODE\n",
    "def parse(self, response):\n",
    "        for movie_page_link in response.css(\"div.lister-item-content h3 a::attr(href)\").getall():\n",
    "            next_page = response.urljoin(movie_page_link)\n",
    "            test = {\n",
    "                \"link\" : next_page\n",
    "            }\n",
    "            yield test"
   ]
  },
  {
   "cell_type": "code",
   "execution_count": null,
   "id": "3113be6a",
   "metadata": {},
   "outputs": [],
   "source": []
  }
 ],
 "metadata": {
  "interpreter": {
   "hash": "b5b2985c9892eb107a3576aa1739bb2ca8a808a10b25f4d7be2fa806ac6ae43f"
  },
  "kernelspec": {
   "display_name": "Python 3.7.11 64-bit ('scrapy-example': conda)",
   "language": "python",
   "name": "python3"
  },
  "language_info": {
   "codemirror_mode": {
    "name": "ipython",
    "version": 3
   },
   "file_extension": ".py",
   "mimetype": "text/x-python",
   "name": "python",
   "nbconvert_exporter": "python",
   "pygments_lexer": "ipython3",
   "version": "3.8.8"
  }
 },
 "nbformat": 4,
 "nbformat_minor": 5
}
